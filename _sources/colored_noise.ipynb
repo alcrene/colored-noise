{
 "cells": [
  {
   "cell_type": "markdown",
   "id": "7920f20c-ea1e-499a-87e2-370332845e10",
   "metadata": {
    "editable": true,
    "slideshow": {
     "slide_type": ""
    },
    "tags": []
   },
   "source": [
    "# Using sparse convolutions to generate noisy inputs"
   ]
  },
  {
   "cell_type": "raw",
   "id": "74a24e59-a4ce-41a4-bcd7-8a2c498d885a",
   "metadata": {
    "lines_to_next_cell": 2,
    "tags": [
     "remove-cell"
    ]
   },
   "source": [
    "########################### LICENSE ###############################\n",
    "This Source Code Form is subject to the terms of the Mozilla Public\n",
    "License, v. 2.0. If a copy of the MPL was not distributed with this\n",
    "file, You can obtain one at https://mozilla.org/MPL/2.0/.          \n",
    "\n",
    "The current version of the Source Code can be found here:\n",
    "https://github.com/alcrene/colored-noise\n",
    "\n",
    "               Copyright © 2023 Alexandre René\n",
    "###################################################################"
   ]
  },
  {
   "cell_type": "markdown",
   "id": "8fe54270-920e-46f8-aff2-7e9298749dc5",
   "metadata": {
    "tags": [
     "remove-cell"
    ]
   },
   "source": [
    "> **NOTE** Within Jupyter Lab, this notebook is best displayed with [`jupyterlab-myst`](https://myst-tools.org/docs/mystjs/quickstart-jupyter-lab-myst)."
   ]
  },
  {
   "cell_type": "markdown",
   "id": "975b4d05-7f70-4971-bc5b-24b7d8d5ebd3",
   "metadata": {},
   "source": [
    "## Basic principle"
   ]
  },
  {
   "cell_type": "markdown",
   "id": "d51f8124-8661-4425-8c7a-9cc2bc2e0e2e",
   "metadata": {
    "tags": []
   },
   "source": [
    ":::{note}\n",
    ":class: margin\n",
    "We are interested here in 1-d signals, but this algorithm generalizes easily to $n$-d. The $n$-d form is the one found in [(Lewis, 1989)](https://doi.org/10.1145/74333.74360).\n",
    ":::\n",
    "The sparse convolution algorithm [(Lewis, 1989)](https://doi.org/10.1145/74333.74360) is an effective way to generate a noise signal with a prescribed covariance.\n",
    "Moreover, it produces a so-called “solid noise”: a continuous function which can be evaluated at any $t$.[^sparse-noise] This algorithm was originally designed to produce computationally efficient, naturalistic noise for computer graphics, but the same features make it uniquely suited for use as an input noise when integrating systems with standard ODE integrators. Even integrators which adapt their step size are supported.\n",
    "\n",
    "The idea is to generate the desired signal $ξ$ by convolving a kernel $h$ with a Poisson noise process $γ$:\n",
    "\\begin{equation}\n",
    "ξ(t) = h \\ast γ = \\int h(t-t') γ(t') \\,dt' \\,.\n",
    "\\end{equation}\n",
    "The Poisson noise is defined as\n",
    "\n",
    "$$γ(t) = \\sum_k a_k \\, δ(t - t_k) \\,, $$ (eq_Poisson-noise_no-bins)\n",
    "\n",
    "where both the weights $a_k$ and the impulse times $t_k$ are stochastic and uncorrelated. (It particular this means that the distribution of $a_k$ should satisfy $\\braket{a_k} = 0$.) Because the impulses are sparse, the convolution reduces to an efficient summation:\n",
    "\\begin{equation}\n",
    "ξ(t) = \\sum_k a_k h(t - t_k) \\,,\n",
    "\\end{equation}\n",
    "and the autocorrelation is given by\n",
    "\\begin{equation}\n",
    "\\bigl\\langle{ξ(t)ξ(t-t')}\\bigr\\rangle = \\sum_k \\Braket{a_k^2} h(t-t_k)h(t'-t_k) \\,.\n",
    "\\end{equation}\n",
    "\n",
    "[^sparse-noise]: Contrast this with a standard scheme of generating white noise by drawing from a Gaussian with variance $Δt σ^2$: these generate noisy inputs $ξ_n$, which represent the integrals $\\int_{nΔt}^{(n+1)Δt} ξ(t) dt$, but to generate an intermediate point for $ξ((n+\\tfrac{1}{2})Δt)$, one needs to draw a new point: there is no deterministic rule to compute a dense $ξ(t)$ from a sparse set of $ξ_n$. One can of course interpolate the $ξ_n$, but the result has non-physical statistics: the autocovariance depends not just on the distance between points, but also on how they line up to the arbitrary grid of reference points $ξ_n$."
   ]
  },
  {
   "cell_type": "markdown",
   "id": "68ae81ee-ec35-4e25-9507-94041a9920e4",
   "metadata": {},
   "source": [
    ":::{admonition} Remark\n",
    "\n",
    "Assuming the derivatives of the kernel function are known, derivatives of the generated noise are also easy to evaluate:\n",
    "\n",
    "$$ξ^{(n)}(t) = \\sum_k a_k h^{(n)}(t-t_k)$$\n",
    "\n",
    ":::"
   ]
  },
  {
   "cell_type": "markdown",
   "id": "e04cc879-a0f0-4075-96f4-59751d208a49",
   "metadata": {
    "tags": []
   },
   "source": [
    ":::{admonition} Notation\n",
    ":class: hint, margin\n",
    "\n",
    "We use\n",
    "\\begin{equation*}\n",
    "\\small \\tilde{ξ}(ω) = \\frac{1}{\\sqrt{2π}}\\int e^{-iωt} ξ(t)\\,dt\n",
    "\\end{equation*}\n",
    "to denote the Fourier transform of $ξ$, and\n",
    "\\begin{align*}\n",
    "\\small S_{ξξ}(ω) &= \\lvert \\tilde{ξ}(ω) \\rvert^2 \\\\\n",
    "&= \\frac{1}{\\sqrt{2π}}\\int\\!dt\\,e^{-iωt} \\braket{ξ(t)ξ(t-τ)}_τ\n",
    "\\end{align*}\n",
    "to denote its power spectrum.[^wiener-kinchine]\n",
    "\n",
    "[^wiener-kinchine]: The equality of the power spectrum with the Fourier transform of the correlation function follows from the Wiener-Kinchine theorem, and the fact that these are wide-sense-stationary processes.\n",
    ":::\n",
    "Moreover, the power spectrum $S_{γγ}$ of $γ$ is flat:\n",
    "\\begin{align*}\n",
    "\\Bigl\\langle{γ(t)γ(t')}\\Bigr\\rangle &= \\bigl\\langle{a^2}\\bigr\\rangle \\, δ(t-t') \\\\\n",
    "S_{γγ}(ω) &= \\frac{1}{\\sqrt{2π}} \\int \\Braket{γ(t)γ(t')} e^{-iωt} \\,dt = \\frac{ρ\\braket{a^2}}{\\sqrt{2π}}\n",
    "\\end{align*}\n",
    "which is why $γ$ is referred to as a sparse white noise."
   ]
  },
  {
   "cell_type": "markdown",
   "id": "a5ff8a69-ebab-4c79-bc87-0557ec047d9a",
   "metadata": {
    "tags": []
   },
   "source": [
    "In particular this means that the power spectrum of the autocorrelation $\\braket{ξ(t)ξ(t')}$ is proportional to that of $h$:[^sloppy-power-spectrum][^mistake-in-Lewis]\n",
    "\\begin{align*}\n",
    "S_{ξξ}(ω) &= S_{γγ}(ω) S_{hh}(ω) \\\\\n",
    "&= \\frac{ρ\\braket{a^2}}{\\sqrt{2π}} S_{hh}(ω) \\\\\n",
    "&= \\frac{ρ\\braket{a^2}}{\\sqrt{2π}} \\lvert \\tilde{h}(ω) \\rvert^2 \\,.\n",
    "\\end{align*}\n",
    "\n",
    "[^sloppy-power-spectrum]: This result is easily seen if we assume the Fourier transform of both $γ$ and $h$ to exist. Then using the result that the Fourier transform converts convolutions into products, we have  \n",
    "  $\\displaystyle\n",
    "  S_{ξξ}(ω) = \\lvert \\tilde{ξ}(ω) \\rvert^2 = \\lvert \\tilde{h}(ω) \\tilde{γ}(ω) \\rvert^2 = \\lvert \\tilde{γ}(ω) \\rvert^2  \\lvert \\tilde{h}(ω) \\rvert^2  \\,.\n",
    "  $  \n",
    "  However the equality of the power spectra is even more general, since it applies even when the Fourier transforms don't exist. This is useful here, because $γ$ is stochastic: therefore does not have a well-defined Fourier transform, but it does have an autocorrelation function.\n",
    "\n",
    "[^mistake-in-Lewis]: In Lewis this is given as $S_{y}(ω) = S_x(ω) \\lvert H(jω)\\rvert^2$, with $S_y = S_{ξξ}$, $S_x = S_{γγ}$, $j = i$ and $H$ the Fourier transform of $h$. As far as I can tell the presence of the imaginary factor $j$ is a mistake: at least in the case where the Fourier transform of $γ$ exists, it does not appear (see above footnote). Possibly this is due to the fact that in the study of LTI (linear time-invariant) systems, often the *Laplace* transform of a kernel $h$ is written $H$; then the Fourier transform is written $H(iω)$ (or $H(jω)$ in engineering notation). See e.g. [here](https://en.wikipedia.org/wiki/Linear_time-invariant_system#Fourier_and_Laplace_transforms)."
   ]
  },
  {
   "cell_type": "markdown",
   "id": "03828792-af32-46fe-919e-cef6fd0de2ca",
   "metadata": {
    "tags": []
   },
   "source": [
    "To get the correlation function, we can use the Wiener-Khinchine theorem: applying the inverse Fourier transform to $S_{ξξ}$ will yield the autocorrelation:\n",
    "\\begin{equation}\n",
    "C_{ξξ}(t) = \\Bigl\\langle{ξ(t)ξ(t+s)\\Bigr\\rangle} = \\frac{ρ\\braket{a^2}}{\\sqrt{2π}} \\mathcal{F}^{-1}\\bigl\\{\\,\\lvert\\tilde{h}\\rvert^2 \\,\\bigr\\} \\,.\n",
    "\\end{equation}\n",
    "In general this is not possible to do analytically, but for particular choices of $h$ it is.\n",
    "Perhaps the most obvious one is a Gaussian kernel; then $h(s)$, $\\tilde{h}(ω)$, $|\\tilde{h}(ω)|$ and $C_{ξξ}(s)$ are all Gaussian.\n",
    "Another one would be a boxcar kernel. In general, if we have a function $\\tilde{h}(ω)$ for which the Fourier transforms of both $\\tilde{h}(ω)$ and $|\\tilde{h}(ω)|^2$ are known, then it is possible to select the kernel given the desired autocorrelation length."
   ]
  },
  {
   "cell_type": "markdown",
   "id": "4bc356f0-6b14-4033-99f3-b852dcece643",
   "metadata": {
    "tags": []
   },
   "source": [
    ":::{admonition} Possible further work\n",
    ":class: dropdown\n",
    "\n",
    "**Usability**\n",
    "\n",
    "- *Support for function arithmetic,* so that e.g. noises with different correlation times can be added together into one noise function. Possibly we could achieve this just by making our noise a subclass of [`scityping.PureFunction`](https://github.com/alcrene/scityping/blob/cc760c9ab009b419f90442a2c3ce24fd272fd945/scityping/functions.py#L276). Some considerations:\n",
    "  - Adding a bias seems like an obvious use case. In this case, the autocovariance and autocorrelation (which are no longer the same) can be trivially obtained from the autocorrelation of the original unbiased noise. Should the returned object then still proved statistics and methods, like the autocorrelation time `.τ` and the autocorrelation function `.autocorr` ? (If so, we should probably add a `.autocov` method.)\n",
    "\n",
    "- *Allow online generation of noise samples:* the current implementation requires to pre-specify `t_min` and `t_max`, but this is only for convenience and because it was natural to do so in my use cases. Some ideas:\n",
    "    - Store impulse times and weights in a cyclic buffer, allowing for infinite generation forward in time.\n",
    "    - Design a scheme which assigns to each bin a unique seed, computed from $t$. When a time is requested, generate the required impulses and compute the noise value. This would allow random access on an infinite time vector. With suitable caching, it could also be used for a generator which allows infinite iteration both forward *and* backward in time.\n",
    "\n",
    "**Functionality**\n",
    "\n",
    "- *Support for multivariate output with specified cross-correlation.* (Currently only multivariate output with independent components is supported.)\n",
    "\n",
    "- *Support for more kernels.* One kernel that may be desirable is the exponential, $h(s) = e^{-|s|/τ}$, since often we think of correlation length as the scale of an exponential decay. We find then that $\\tilde{h}(ω)$ should be a Lorentz distribution, for which unfortunately $C_{ξξ}(s) = \\mathcal{F}^{-1}\\bigl\\{\\,|\\tilde{h}(ω)|^2\\,\\}$ does not Fourier transform easily.[^no-Lorentz-kernel] However, numerical experiments suggest that $C_{ξξ}(s)$ looks an awful lot like a Lorentz distribution – perhaps a suitable approximation could formalize the correspondence. A Lorentzian autocorrelation would be an interesting complement to the Gaussian since it has very different satistics (in particular very heavy tails), and is a frequent alternative to the Gaussian is many applications.\n",
    "\n",
    "- *Support for arbitrary autocorrelation,* by using FFT to compute the kernel $h$:\n",
    "  \\begin{equation*}\n",
    "    \\begin{CD}\n",
    "    S_{ξξ}(ω) = |\\tilde{h}(ω)|^2 @>{\\sqrt{}}>>  h(ω)   \\\\\n",
    "    @AA{\\mathcal{F}}A                 @VV{\\mathcal{F}^{-1}}V  \\\\\n",
    "    C_{ξξ}(s)                    @.        h(s)  @>\\text{smooth}>>  \\bar{h}(s)\n",
    "    \\end{CD}\n",
    "  \\end{equation*}\n",
    "  This would not be as fast or exact as a class tailored to a specific kernel, but might still have a few advantages over the more common approach of sampling Fourier coefficients:\n",
    "    - While sampled spectra are by design non-smooth (or even non-continuous), here both the original function ($C_{ξξ}$) and the estimate ($h$) are functions of time. It is therefore more reasonable to apply smoothing, which might help remove artifacts introduced by the FFT.\n",
    "    - Because we are estimating a *kernel* with FFT, and not the signal itself, we can still generate noise signals of arbitrary length and in an online fashion.\n",
    "    - Once computed over discretized time, the estimated kernel $h$ could be replaced by something like a spline, making dense evaluation reasonably cheap.\n",
    "    \n",
    "- *Support for arbitary spectra.* This is the same as above, except that we specify $S_{ξξ}(ω)$ instead of $C_{ξξ}$.\n",
    "\n",
    "**Theoretical**\n",
    "\n",
    "- *Analytically characterize the effect of the impulse density parameter $ρ$.* This would give more accurate guidance in choosing an appropriate value for that parameter.\n",
    "\n",
    "\n",
    "[^no-Lorentz-kernel]: Interestingly, using a Lorentz kernel instead *does* result in a fully solvable set of equations. Unfortunately, the resulting noise does not look like one would expect, and its statistics don’t converge (at least not within a reasonable amount of time). Which isn’t so surprising given the number of pathologies associated to the Lorentz distribution (infinite variance, undefined mean…)\n",
    ":::"
   ]
  },
  {
   "cell_type": "markdown",
   "id": "ab293caf-b734-4ed2-b30b-ad84accedf5c",
   "metadata": {},
   "source": [
    ":::{admonition} Summary\n",
    ":class: important\n",
    "\n",
    "- To generate a noise $ξ$ with an given autocorrelation *spectrum*, we need to choose a kernel $h$ with the same autocorrelation spectrum (up to some constant).\n",
    "- This constant is proportional to the variance of the weights $a$.\n",
    ":::"
   ]
  },
  {
   "cell_type": "markdown",
   "id": "9e15084f-6476-4455-afac-f3a4aa698d5d",
   "metadata": {
    "tags": []
   },
   "source": [
    "## Comparison with other methods\n",
    "\n",
    "::::{grid} 1 1 2 2\n",
    "\n",
    ":::{grid-item-card} Sparse convolution\n",
    "- ✔ Can use a standard ODE integrator.\n",
    "- ✔ Dense output: Can be evaluated at arbitrary $t$.\n",
    "- ✔ Technically simple.\n",
    "- ✔ Large amount of control over the autocorrelation function.\n",
    "- ✘ Autocorrelation function is controlled via its spectrum. In general closed form expressions relating a kernel $h$ to a autocorrelation $C_{ξξ}$ do not exist.\n",
    "- ✔ Online algorithm: can easily generate new points.\n",
    "- ✔ Fast: Number of operations per time point is in the order of $\\mathcal{O}(5mρ)$, where $m$ is the number of neighbouring bins we sum over and $ρ$ is the number of impulses per bin.\n",
    "  In particular, this is independent of the total simulation time.\n",
    ":::\n",
    "\n",
    ":::{grid-item-card} Integrating Wiener noise\n",
    "- ✘ Requires a stochastic (SDE) integrator.\n",
    "- ✘ Sparse trace: trace is composed of discrete time steps. Generating a new intermediate point requires re-integrating everything after that point.[^why-no-ode-integrator]\n",
    "- ✔ Borderline trivial, if one is familiar with stochastic integrals.\n",
    "  Otherwise conceptually and technically difficult.\n",
    "- ✔ The autocorrelation is known: it is determined by the number of surrogate variables added for the integrals.\n",
    "- ✘ Limited control over the correlation function: limited to those obtainable by adding a reasonable number of surrogate variables.\n",
    "- ✔ Online algorithm: can easily generate new points.\n",
    "- ✔ Very fast: New points are generated by drawing a Gaussian and performing a few sums.  \n",
    "  However, the need to use a low-order stochastic integrator may inflate computation time.\n",
    ":::\n",
    "\n",
    "[^why-no-ode-integrator]: This is the main reason this method cannot be used with a normal ODE integrator.\n",
    "\n",
    ":::{grid-item-card} Generating random spectra\n",
    "- ✔ Can use a standard ODE integrator (I think).\n",
    "- ✔ Dense output possible: If we represent as a sum of sine waves instead of the FFT vector, the function can be evaluated at arbitrary $t$.\n",
    "  However the spectrum is only valid above some time resolution $Δt$.\n",
    "- ✔ Full, direct control over the autocorrelation shape.\n",
    "- ✘ Technically difficult: It is difficult to get the FFTs to scale exactly right, and they introduce many numerical artifacts.\n",
    "- ✘ Scales poorly with the length of simulated time (because of the required FFT).\n",
    "- ✘ Fixed simulation time: cannot generate new points to extend the trace.\n",
    "- ✔ Moderately fast during evaluation: Number of operations scales with the number of sine components (and therefore both the resolution $Δt$ and the total simulation time).\n",
    ":::\n",
    "\n",
    ":::{grid-item-card} Perlin noise\n",
    "- ✘ Intended for computer graphics: designed for numerical efficiency, not to have well-characterized statistics (beyond “they look nice”).\n",
    "- Similarly, existing libraries which implement Perlin noise are intended for computer graphics, and I would not consider them suitable for scientific applications since the statistics are difficult to characterize.\n",
    "- I didn’t consider this further: one would need to write their own “scientific-grade” noise model, in which case they might as well use a simpler algorithm like the sparse convolutions.\n",
    ":::\n",
    "\n",
    "::::"
   ]
  },
  {
   "cell_type": "markdown",
   "id": "7477719a-d80d-460a-b607-fa3b3e6e91eb",
   "metadata": {},
   "source": [
    "## Implementation"
   ]
  },
  {
   "cell_type": "markdown",
   "id": "19527952-ef24-4cdc-98c4-9edebf53dc3b",
   "metadata": {
    "tags": []
   },
   "source": [
    ":::{admonition} Important note for JAX users\n",
    ":class: important dropdown\n",
    "\n",
    "The `__call__` method below is coded such that it can be used inside a\n",
    "jitted JAX function. Since `jax.numpy` is already 99% compatible\n",
    "with NumPy, mostly this means using `jnp` instead of `np`.\n",
    "The main exception is slicing: we need to slice based on a computed index,\n",
    "which `jax.numpy` arrays do not support (they only support static indices.)\n",
    "For this we use the lower-level `lax.dynamic_slice`.\n",
    "\n",
    "The benefit of supporting JAX is mostly when the noise output is used within\n",
    "a larger, more costly function. Being JAX-compatible means we allow that\n",
    "entire function to be jitted. \n",
    "When used on its own, the noise generator is fast enough that in most cases it\n",
    "probably does not benefit from JIT compilation. Therefore we don't want to force\n",
    "a dependency on JAX. We achieve this by defining a few fallbacks in the\n",
    "`except ImportError` branch below, which is executed when JAX is not installed:\n",
    "- All calls to `jnp` are redirected to `np`.\n",
    "- We define `lax.dynamic_slice` to redirect to normal NumPy slicing.\n",
    "\n",
    "In practice, if JAX is installed, JAX arrays and operations are used when\n",
    "evaluating the noise; otherwise NumPy arays and operations are used.\n",
    "**In particular, this means that when the `jax` library is installed, results\n",
    "are always returned as JAX arrays – even if all arguments are NumPy arrays.**\n",
    "We presume that a user who has already installed JAX should know to cast\n",
    "results back to NumPy arrays if needed.\n",
    ":::"
   ]
  },
  {
   "cell_type": "code",
   "execution_count": 1,
   "id": "63fc7604-843b-4d95-bf06-4da93d2e5f06",
   "metadata": {
    "editable": true,
    "slideshow": {
     "slide_type": ""
    },
    "tags": []
   },
   "outputs": [],
   "source": [
    "from collections.abc import Callable\n",
    "from dataclasses import dataclass\n",
    "from typing import Union\n",
    "\n",
    "import copy\n",
    "import math\n",
    "import numpy as np\n",
    "import numpy.random as random\n",
    "from numpy.typing import ArrayLike\n",
    "try:\n",
    "    import jax.numpy as jnp\n",
    "    import jax.lax as lax\n",
    "except ImportError:\n",
    "    jnp = np\n",
    "    class lax:\n",
    "        @staticmethod\n",
    "        def dynamic_slice(operand, start_indices, slice_sizes):\n",
    "            slcs = tuple(slice(i,i+l) for i, l in zip(start_indices, slice_sizes))\n",
    "            return operand[slcs]"
   ]
  },
  {
   "cell_type": "code",
   "execution_count": 35,
   "id": "43f0f878-76a5-427d-9658-940d6925caea",
   "metadata": {
    "editable": true,
    "slideshow": {
     "slide_type": ""
    },
    "tags": []
   },
   "outputs": [],
   "source": [
    "from scityping.pint import Quantity"
   ]
  },
  {
   "cell_type": "code",
   "execution_count": 37,
   "id": "5e24f256",
   "metadata": {
    "editable": true,
    "lines_to_next_cell": 1,
    "slideshow": {
     "slide_type": ""
    },
    "tags": [
     "hide-cell"
    ]
   },
   "outputs": [],
   "source": [
    "# Optional serialization dependencies with fallbacks\n",
    "# (If these are not available, the noise objects still work, they just\n",
    "# can’t be serialized.)\n",
    "try:\n",
    "    import pint\n",
    "except ImportError:\n",
    "    class pint:\n",
    "        class Quantity:\n",
    "            pass\n",
    "try:\n",
    "    from scityping import Serializable\n",
    "    from scityping.numpy import Array, RNGenerator\n",
    "    from scityping.pint import Quantity\n",
    "    from scityping.pydantic import BaseModel\n",
    "except ImportError:\n",
    "    Serializable = object\n",
    "    BaseModel = object\n",
    "    class Quantity:\n",
    "        pass\n",
    "\n",
    "__all__ = [\"ColoredNoise\"]"
   ]
  },
  {
   "cell_type": "markdown",
   "id": "d146eb3e-f27c-45ab-8134-637baa978a36",
   "metadata": {
    "editable": true,
    "slideshow": {
     "slide_type": ""
    },
    "tags": []
   },
   "source": [
    "One small complication with the definition in Eq. {eq}`eq_Poisson-noise_no-bins` for the Poisson noise is that for a given $t$, we don’t know which $t_k$ are near enough to contribute. And for a long time trace, we definitely don’t want to sum tens of thousands of impulses at every $t$, when only a few dozen contribute. So following [Lewis (1989)](https://doi.org/10.1145/74333.74360), we split the time range into bins and generate the same number of impulses within each bin. Then for any $t$ we can compute with simple arithmetic the bin which contains it, and sum only over neighbouring bins."
   ]
  },
  {
   "cell_type": "markdown",
   "id": "8ef55710-ed3c-4e41-b357-70e9a7f312bd",
   "metadata": {
    "editable": true,
    "slideshow": {
     "slide_type": ""
    },
    "tags": []
   },
   "source": [
    "### `ColoredNoise`\n",
    "\n",
    "The default `ColoredNoise` class produces noise with a Gaussian kernel, Gaussian weights $a$, and a Gaussian autocorrelation:\n",
    "\n",
    "Parameters\n",
    "~ + $τ$: Correlation time. Equivalent to the *standard deviation* of the autocorrelation function.\n",
    "  + $σ$: Overall noise strength; more specifically its standard deviation: $\\braket{ξ(t)^2} = σ^2$.\n",
    "  + $ρ$: Impulse density, in units of $\\frac{\\text{# impulses}}{τ}$. For numerical reasons this must be an integer.  \n",
    "    This affects what Lewis calls the “quality” of the noise; a too low number will show artifacts (high peaks), which only disappear after averaging many bins or realizations.\n",
    "    Note that increasing $ρ$ does not cause the noise to wash out, but rather the effect saturates: Lewis reports that generated noises stop being distinguishable when $ρ$ is greater than 10. In my own tests I observe something similar, even though my implementation is quite different.\n",
    "    Part of the reason for this is that we scale the variance of the $a_k$ to keep the overall variance of $ξ$ constant.\n",
    "\n",
    ":::{admonition} TODO\n",
    ":class: warning margin\n",
    "\n",
    "Add expression for $S_{ξξ}$.\n",
    ":::\n",
    "\n",
    "Autocorrelation\n",
    "~ $\\displaystyle C_{ξξ}(s) = σ^2 e^{s^2/2τ^2}$\n",
    "~ Accessible as `.autocorr`\n",
    "\n",
    "Kernel\n",
    "~ $\\displaystyle h(s) = e^{-s^2/τ^2}$\n",
    "~ Accessible as `.h`\n",
    "\n",
    "Weight distribution\n",
    "~ $\\displaystyle a_k \\sim \\mathcal{N}\\left(0, σ \\sqrt{\\frac{1}{ρ}\\sqrt{\\frac{2}{π}}} \\right)$\n",
    "~ Pre-computed within `__init__`\n",
    "\n",
    "Binning\n",
    "~ *Bin size:* $τ$\n",
    "~ *Summation:* 5 bins left and right of $t$ (so a total of 11 bins)"
   ]
  },
  {
   "cell_type": "markdown",
   "id": "9237f2bf-82ef-4794-97e8-454b970c9b94",
   "metadata": {
    "editable": true,
    "slideshow": {
     "slide_type": ""
    },
    "tags": []
   },
   "source": [
    ":::{note}\n",
    ":class: margin\n",
    "\n",
    "“non-factored” refers to an previous implementation where all operations in `__call__` were performed with united values, instead of factoring out the units as `_t_unit` and `_ξ_unit` attributes and only adding them at the end. At the time I didn’t run the test with $ρ=1000$, which is why it is missing from the table.\n",
    ":::\n",
    "\n",
    ":::{list-table} Anecdotal timings ($t$ scalar, $ξ$ scalar)\n",
    ":header-rows: 1\n",
    ":stub-columns: 1\n",
    "\n",
    "* -\n",
    "  - $ρ=10$\n",
    "  - $ρ=30$\n",
    "  - $ρ=100$ \n",
    "  - $ρ=400$\n",
    "  - $ρ=1000$\n",
    "* - Intel Xeon W-2265, 3.50GHz  \n",
    "    No units\n",
    "  - 9.2 ± 0.06 μs\n",
    "  - 10.2 ± 0.08 μs\n",
    "  - 12.3 ± 0.07 μs\n",
    "  - 19.0 ± 0.11 μs\n",
    "  - 32.1 ± 0.45 μs\n",
    "* - Intel Xeon W-2265, 3.50GHz  \n",
    "    With *pint* units, non-factored\n",
    "  - 270 ± 2.7 μs\n",
    "  - 273 ± 1.6 μs\n",
    "  - 290 ± 3.0 μs\n",
    "  - 311 ± 4.3 μs\n",
    "  -\n",
    ":::"
   ]
  },
  {
   "cell_type": "code",
   "execution_count": null,
   "id": "5e1c3c3e-dc27-4ea0-9ac5-f7b20344a137",
   "metadata": {
    "editable": true,
    "slideshow": {
     "slide_type": ""
    },
    "tags": [
     "remove-cell"
    ]
   },
   "outputs": [],
   "source": [
    "def recreate_rng(rng_state: dict) -> np.random.Generator:\n",
    "    \"\"\"Recreate a NumPy Generator from its bit_generator state.\n",
    "    \n",
    "    Ported from scityping.numpy.RNGenerator.\n",
    "    \"\"\"\n",
    "    bg = getattr(np.random, rng_state[\"bit_generator\"])()\n",
    "    bg.state = rng_state\n",
    "    return np.random.Generator(bg)"
   ]
  },
  {
   "cell_type": "code",
   "execution_count": null,
   "id": "c59c3168-3487-42df-90ef-b264e93ee358",
   "metadata": {
    "editable": true,
    "slideshow": {
     "slide_type": ""
    },
    "tags": []
   },
   "outputs": [],
   "source": [
    "class ColoredNoise(Serializable):\n",
    "    \"\"\"\n",
    "    Simplified solid noise with some predefined choices: exponential kernel :math:`h`\n",
    "    and Gaussian weights :math:`a`. The specification parameters are the overall variance σ²,\n",
    "    the correlation time τ and the number of impulses in a time interval of length τ.\n",
    "    \n",
    "    Note\n",
    "    ----\n",
    "    This class supports specifying values with units specified using the `pint` library.\n",
    "    This is an excellent way of avoiding some common mistakes. When doing so, all units\n",
    "    must be consistent; in particular, ``t/τ`` must be dimensionless in order for the\n",
    "    exponential to be valid.\n",
    "    Using units does add a bit of overhead, so for performance-critical code omitting\n",
    "    them may be preferred.\n",
    "    \"\"\"\n",
    "\n",
    "    # Inspection attributes (not uses when generating points)\n",
    "    _σ: float                                # Stored without units\n",
    "    _τ: float                                # Stored without units\n",
    "    ρ: float\n",
    "    _bin_edges: np.ndarray[float]\n",
    "    _t_max: float                            # Stored without units\n",
    "    # rng: np.random.Generator\n",
    "    _rng_state: \"np.random.Generator->state\"  # Restore with `recreate_rng`\n",
    "    _t_unit: Union[int, pint.Quantity]\n",
    "    _ξ_unit: Union[int, pint.Quantity]\n",
    "    # Attributes used when generating noise\n",
    "    _t_min: float                            # Stored without units\n",
    "    _λ: float                                # Stored without units\n",
    "    _t_arr: np.ndarray[float]                # Stored without units\n",
    "    _a_arr: np.ndarray[float]                # Stored without units\n",
    "    \n",
    "    \n",
    "    def __init__(self,\n",
    "                 t_min    : Union[float,pint.Quantity],\n",
    "                 t_max    : Union[float,pint.Quantity],\n",
    "                 corr_time: Union[float,pint.Quantity],\n",
    "                 scale: ArrayLike, \n",
    "                 impulse_density: int,\n",
    "                 rng: Union[int,random.Generator,random.SeedSequence,None]=None):\n",
    "        \"\"\"\n",
    "        Multivariate outputs can be generated by passing an array of appropriate shape\n",
    "        as the `scale` parameter. Each component is uncorrelated with the others, so\n",
    "        this is equivalent (but faster) to generating N independent noise sources.\n",
    "        \n",
    "        Parameters\n",
    "        ----------\n",
    "        t_min, t_max: Determine the window of time within which to generate noise.\n",
    "           The noise function can still be called outside this window, but decays\n",
    "           to zero the further we are from the window.\n",
    "           (Specifically, `t_min` and `t_max` determine the window of the underlying\n",
    "           Poisson noise process γ. We take care to extend the window sufficiently\n",
    "           so that the noise quality is the same from `t_min` to `t_max`.)\n",
    "        corr_time: Correlation time (τ). If the kernel is given by :math:`e^{-λ|τ|}`,\n",
    "           this is :math:`τ`.\n",
    "        scale: (σ) Standard deviation of the generated noise.\n",
    "           The shape of `scale` determines the shape of the output.\n",
    "        impulse_density: (ρ) The expected number of impulses within one correlation\n",
    "           time of a test time.\n",
    "        rng: Either a random seed, or an already instantiated NumPy random `Generator`.\n",
    "\n",
    "        .. Note::\n",
    "           To specify units, use `pint.Quantities` objects for the parameters\n",
    "           `t_min`, `t_max`, `corr_time` and/or `scale`.\n",
    "\n",
    "           - `t_min`, `t_max` and `corr_time` determine the units of the input.\n",
    "             They must have matching units ('ms' and 's' is fine, but not 'ms' and 'km').\n",
    "           - `scale` determines the units of the output.\n",
    "        \"\"\"\n",
    "        ### Convention: '_' prefix means without units\n",
    "        \n",
    "        rng = random.default_rng(rng)\n",
    "        if not isinstance(rng, np.random.Generator):\n",
    "            raise TypeError(\"Please use a `numpy.random.Generator` for the RNG, \"\n",
    "                            f\"or just specify a seed.\\nReceived {type(rng)}.\")\n",
    "        # Store the RNG state so the noise can be serialized & recreated\n",
    "        self._rng_state = rng.bit_generator.state\n",
    "        \n",
    "        self._t_unit = getattr(corr_time, \"units\", 1);\n",
    "        self._ξ_unit = getattr(scale, \"units\", 1);\n",
    "        \n",
    "        # Compute the std dev for the weights\n",
    "        _σ = jnp.asarray(getattr(scale, \"magnitude\", scale))\n",
    "        τ, ρ = corr_time, impulse_density\n",
    "        _a_std = _σ * jnp.sqrt(1/ρ) * (2/np.pi)**(0.25)\n",
    "        \n",
    "        # Ensure τ is in the same units as t_arr\n",
    "        if hasattr(τ, \"units\"):\n",
    "            if not hasattr(t_min, \"units\") or not hasattr(t_max, \"units\"):\n",
    "                raise ValueError(\"If `corr_time` is specified with units, then also `t_min` and `t_max` must have units.\")\n",
    "            t_min = t_min.to(τ.units)\n",
    "            t_max = t_max.to(τ.units)\n",
    "            \n",
    "        # Define unitless vars\n",
    "        _t_min = getattr(t_min, \"magnitude\", t_min)\n",
    "        _t_max = getattr(t_max, \"magnitude\", t_max)\n",
    "        _τ = getattr(τ, \"magnitude\", τ)\n",
    "        \n",
    "        # Discretize time range into bins of length τ\n",
    "        # Following Lewis, we draw the impulses in bins.\n",
    "        # Each bin has exactly the same number of impulses, allowing us in __call__ to\n",
    "        # efficiently restrict ourselves to nearby points.\n",
    "        # NB: We always take 5 bins to the left and right, so we also pad that many bins.\n",
    "        Nbins = math.ceil((_t_max - _t_min) / _τ) + 10\n",
    "        _self_t_min = _t_min - 5*_τ\n",
    "        #_self_t_max = self_t_min + (Nbins+1)*_τ\n",
    "            \n",
    "        # Draw the impulse times\n",
    "        # First axis: bins\n",
    "        # Second axis: impulses in that bin\n",
    "        # All subsequent axes: shape of σ (and of output)\n",
    "        _bin_edges = np.arange(Nbins+1) * _τ + _self_t_min  # We use all dimensionless variables here\n",
    "        a_axes = (np.newaxis,)*_σ.ndim\n",
    "        impulse_data_shape = (Nbins, impulse_density, *_σ.shape)\n",
    "        _t_arr = rng.uniform(_bin_edges[(slice(None,-1),np.newaxis,*a_axes)], _bin_edges[(slice(1,None),np.newaxis,*a_axes)],\n",
    "                             size=impulse_data_shape\n",
    "                            )\n",
    "        \n",
    "        # Draw the weights\n",
    "        _a_arr = rng.normal(0, _a_std, impulse_data_shape)\n",
    "        \n",
    "        # Store attributes\n",
    "        self._σ = _σ\n",
    "        assert self._σ.shape == np.shape(_a_std)\n",
    "        self._τ = _τ\n",
    "        self.ρ = ρ\n",
    "        self._λ = 1/self._τ  # With floating point numbers, multiplication is faster than division\n",
    "        # self.rng = rng\n",
    "        self._bin_edges = _bin_edges\n",
    "        self._t_min = _t_min\n",
    "        self._t_max = _t_max\n",
    "        self._t_arr = _t_arr\n",
    "        self._a_arr = _a_arr\n",
    "        \n",
    "        # Precomputed window sizes\n",
    "        pad=5\n",
    "        self._bin_t_size = (2*pad+1, _t_arr.shape[1])\n",
    "        self._bin_data_start = (0,)*_σ.ndim\n",
    "        \n",
    "    def __call__(self, t, *, pad=5, exp=jnp.exp, int32=jnp.int32):\n",
    "        # Compute the index of the bin containing t\n",
    "        if hasattr(t, \"units\"):\n",
    "            t = t.to(self._t_unit).magnitude\n",
    "        i = (t-self._t_min) * self._λ; i = getattr(i, \"magnitude\", i)  # Suppress Pint warning that int32 removes dim\n",
    "        i = int32(i) + pad\n",
    "        # Compute the noise at t\n",
    "        #tk = self.t_arr[i-pad:i+pad+1]\n",
    "        #a = self.a_arr[i-pad:i+pad+1]\n",
    "        size = self._bin_t_size + self._σ.shape\n",
    "        tk = lax.dynamic_slice(self._t_arr, (i-pad, int32(0)) + (0,)*self.σ.ndim, size)\n",
    "        a  = lax.dynamic_slice(self._a_arr, (i-pad, int32(0)) + (0,)*self.σ.ndim, size)\n",
    "        h = exp(-((t-tk)*self._λ)**2)  # Inlined from self.h\n",
    "        return (a * h).sum(axis=(0,1)) * self._ξ_unit   # The first two dimensions are time. Extra dimensions are data dimensions, which we want to keep\n",
    "    \n",
    "    def new(self, rng=None, **kwargs):\n",
    "        \"\"\"Create a new model, using the values of this one as defaults.\n",
    "        \n",
    "        NB: Unless specified, this uses the RNG returned by `np.random.default_rng()`.\n",
    "            This is independent of whether an RNG was given when creating the original\n",
    "            noise object. Use the `rng` keyword to control the state of the RNG, or\n",
    "            ensure that the noise is reproducible.\n",
    "        \"\"\"\n",
    "        rng = np.random.default_rng(rng)\n",
    "        defaults = dict(t_min=self.t_min, t_max=self.t_max, corr_time=self.τ,\n",
    "                        scale=self.σ,\n",
    "                        impulse_density=self.ρ, rng=rng)\n",
    "        return ColoredNoise(**(defaults | kwargs))\n",
    "    \n",
    "    def h(self, s):\n",
    "        return np.exp(-(s*self.λ)**2)\n",
    "    \n",
    "    def autocorr(self, s):\n",
    "        \"\"\"Evaluate the theoretical autocorrelation at lag s.\"\"\"\n",
    "        if not hasattr(s, \"units\"):\n",
    "            s = s * self._t_unit\n",
    "        return self.σ**2 * np.exp(-0.5*(s*self.λ)**2)\n",
    "    \n",
    "    @property\n",
    "    def impulse_density(self):\n",
    "        return self.ρ\n",
    "    @property\n",
    "    def t_arr(self):\n",
    "        return self._t_arr * self._t_unit\n",
    "    @property\n",
    "    def t_min(self):\n",
    "        return self._t_min * self._t_unit\n",
    "    @property\n",
    "    def t_max(self):\n",
    "        return self._t_max * self._t_unit\n",
    "    @property\n",
    "    def a_arr(self):\n",
    "        return self._a_arr * self._ξ_unit\n",
    "    @property\n",
    "    def τ(self):\n",
    "        return self._τ * self._t_unit\n",
    "    @property\n",
    "    def corr_time(self):\n",
    "        return self.τ\n",
    "    @property\n",
    "    def λ(self):\n",
    "        return 1 / self.τ\n",
    "    @property\n",
    "    def σ(self):\n",
    "        return self._σ * self._ξ_unit\n",
    "    @property\n",
    "    def scale(self):\n",
    "        return self.σ\n",
    "    @property\n",
    "    def bin_edges(self):\n",
    "        return self._bin_edges * self._t_unit\n",
    "    \n",
    "    @property\n",
    "    def T(self):\n",
    "        return self.t_max - self.t_min\n",
    "    \n",
    "    @property\n",
    "    def Nleftpadbins(self):\n",
    "        return 5\n",
    "    @property\n",
    "    def Nrightpadbins(self):\n",
    "        return 5\n",
    "    @property\n",
    "    def Nbins(self):\n",
    "        \"\"\"Return the number of bins, excluding those included for padding.\"\"\"\n",
    "        return len(self.t_arr) - self.Nleftpadbins - self.Nrightpadbins\n",
    "\n",
    "    def qty_to_mag(self, time=None, scale=None) -> \"ColoredNoise\":\n",
    "        \"\"\"Convert dimensioned quantities to pure magnitudes.\n",
    "\n",
    "        Useful to provide plain arrays to low-level functions, while still\n",
    "        using units for high-level functions.\n",
    "\n",
    "        The `time` and `scale` are used to specify into which units to convert\n",
    "        before retrieving the magnitude. For example, `scale` may have been\n",
    "        given meters, but the low-level function expects millimeters.\n",
    "        If these are not specified, then the current units are used.\n",
    "\n",
    "        If quantities are already without units, then they are silently ignored.\n",
    "        This is to allow functions to use `qty_to_mag` as a normalizer, when they\n",
    "        don’t know if their argument is dimensioned.\n",
    "        \"\"\"\n",
    "        # Define `t_unit` and `ξ_unit` as dimensionless scaling factors\n",
    "        if isinstance(self._t_unit, (pint.Unit, pint.Quantity)):\n",
    "            if time is None:\n",
    "                t_unit = 1\n",
    "            else:\n",
    "                t_unit = (1*self._t_unit).to(time).m\n",
    "        else:\n",
    "            t_unit = 1\n",
    "        if isinstance(self._ξ_unit, (pint.Unit, pint.Quantity)):\n",
    "            if scale is None:\n",
    "                ξ_unit = 1\n",
    "            else:\n",
    "                ξ_unit = (1*self._ξ_unit).to(scale).m\n",
    "        else:\n",
    "            ξ_unit = 1\n",
    "        # Use the underlying dimensionless attributes, and multiply by scaling factors\n",
    "        return ColoredNoise(t_min    =self._t_min*t_unit,\n",
    "                            t_max    =self._t_max*t_unit,\n",
    "                            corr_time=self._τ    *t_unit,\n",
    "                            scale    =self._σ    *ξ_unit,\n",
    "                            impulse_density=self.impulse_density,\n",
    "                            rng      =recreate_rng(self._rng_state)\n",
    "        )\n",
    "\n",
    "    # __eq__ and __hash__are mostly implement to support caching\n",
    "    # with functools.lru_cache.\n",
    "\n",
    "    def __eq__(self, other):\n",
    "        return (type(self) == type(other)\n",
    "                and self.t_min == other.t_min\n",
    "                and self.t_max == other.t_max\n",
    "                and self.corr_time == other.corr_time\n",
    "                and self.scale == other.scale\n",
    "                and self.impulse_density == other.impulse_density\n",
    "                and self._rng_state == other._rng_state)\n",
    "    def __hash__(self):\n",
    "        # NB: self._σ may be a JAX variable => we need to convert to python scalar to make it hashable\n",
    "        return hash((self._t_min, self._t_max, self._τ, str(self._t_unit),\n",
    "                     float(self._σ), str(self._ξ_unit),\n",
    "                     self.ρ, str(self._rng_state)))\n",
    "\n",
    "    ## Scityping serializer ##\n",
    "    class Data(BaseModel):   # NB: Here we need to use the types from scityping\n",
    "        t_min    : Union[float,Quantity]\n",
    "        t_max    : Union[float,Quantity]\n",
    "        corr_time: Union[float,Quantity]\n",
    "        scale          : Union[Array,Quantity]\n",
    "        impulse_density: int\n",
    "        rng            : RNGenerator\n",
    "        @staticmethod\n",
    "        def encode(noise: \"ColoredNoise\"):\n",
    "            return (\n",
    "                noise.t_min, noise.t_max, noise.corr_time, noise.scale,\n",
    "                noise.impulse_density, recreate_rng(noise._rng_state))"
   ]
  },
  {
   "cell_type": "markdown",
   "id": "154f8c97-ae7c-4046-9c89-f76272a53128",
   "metadata": {
    "editable": true,
    "slideshow": {
     "slide_type": ""
    },
    "tags": []
   },
   "source": [
    "## Validation of theoretical expressions"
   ]
  },
  {
   "cell_type": "code",
   "execution_count": 8,
   "id": "1eb7b411-4b59-4df4-956e-2e4b486596e7",
   "metadata": {
    "editable": true,
    "slideshow": {
     "slide_type": ""
    },
    "tags": [
     "active-ipynb",
     "hide-input"
    ]
   },
   "outputs": [
    {
     "data": {
      "application/javascript": [
       "(function(root) {\n",
       "  function now() {\n",
       "    return new Date();\n",
       "  }\n",
       "\n",
       "  var force = true;\n",
       "  var py_version = '3.2.0'.replace('rc', '-rc.').replace('.dev', '-dev.');\n",
       "  var is_dev = py_version.indexOf(\"+\") !== -1 || py_version.indexOf(\"-\") !== -1;\n",
       "  var reloading = false;\n",
       "  var Bokeh = root.Bokeh;\n",
       "  var bokeh_loaded = Bokeh != null && (Bokeh.version === py_version || (Bokeh.versions !== undefined && Bokeh.versions.has(py_version)));\n",
       "\n",
       "  if (typeof (root._bokeh_timeout) === \"undefined\" || force) {\n",
       "    root._bokeh_timeout = Date.now() + 5000;\n",
       "    root._bokeh_failed_load = false;\n",
       "  }\n",
       "\n",
       "  function run_callbacks() {\n",
       "    try {\n",
       "      root._bokeh_onload_callbacks.forEach(function(callback) {\n",
       "        if (callback != null)\n",
       "          callback();\n",
       "      });\n",
       "    } finally {\n",
       "      delete root._bokeh_onload_callbacks;\n",
       "    }\n",
       "    console.debug(\"Bokeh: all callbacks have finished\");\n",
       "  }\n",
       "\n",
       "  function load_libs(css_urls, js_urls, js_modules, js_exports, callback) {\n",
       "    if (css_urls == null) css_urls = [];\n",
       "    if (js_urls == null) js_urls = [];\n",
       "    if (js_modules == null) js_modules = [];\n",
       "    if (js_exports == null) js_exports = {};\n",
       "\n",
       "    root._bokeh_onload_callbacks.push(callback);\n",
       "\n",
       "    if (root._bokeh_is_loading > 0) {\n",
       "      console.debug(\"Bokeh: BokehJS is being loaded, scheduling callback at\", now());\n",
       "      return null;\n",
       "    }\n",
       "    if (js_urls.length === 0 && js_modules.length === 0 && Object.keys(js_exports).length === 0) {\n",
       "      run_callbacks();\n",
       "      return null;\n",
       "    }\n",
       "    if (!reloading) {\n",
       "      console.debug(\"Bokeh: BokehJS not loaded, scheduling load and callback at\", now());\n",
       "    }\n",
       "\n",
       "    function on_load() {\n",
       "      root._bokeh_is_loading--;\n",
       "      if (root._bokeh_is_loading === 0) {\n",
       "        console.debug(\"Bokeh: all BokehJS libraries/stylesheets loaded\");\n",
       "        run_callbacks()\n",
       "      }\n",
       "    }\n",
       "    window._bokeh_on_load = on_load\n",
       "\n",
       "    function on_error() {\n",
       "      console.error(\"failed to load \" + url);\n",
       "    }\n",
       "\n",
       "    var skip = [];\n",
       "    if (window.requirejs) {\n",
       "      window.requirejs.config({'packages': {}, 'paths': {'jspanel': 'https://cdn.jsdelivr.net/npm/jspanel4@4.12.0/dist/jspanel', 'jspanel-modal': 'https://cdn.jsdelivr.net/npm/jspanel4@4.12.0/dist/extensions/modal/jspanel.modal', 'jspanel-tooltip': 'https://cdn.jsdelivr.net/npm/jspanel4@4.12.0/dist/extensions/tooltip/jspanel.tooltip', 'jspanel-hint': 'https://cdn.jsdelivr.net/npm/jspanel4@4.12.0/dist/extensions/hint/jspanel.hint', 'jspanel-layout': 'https://cdn.jsdelivr.net/npm/jspanel4@4.12.0/dist/extensions/layout/jspanel.layout', 'jspanel-contextmenu': 'https://cdn.jsdelivr.net/npm/jspanel4@4.12.0/dist/extensions/contextmenu/jspanel.contextmenu', 'jspanel-dock': 'https://cdn.jsdelivr.net/npm/jspanel4@4.12.0/dist/extensions/dock/jspanel.dock', 'gridstack': 'https://cdn.jsdelivr.net/npm/gridstack@7.2.3/dist/gridstack-all', 'notyf': 'https://cdn.jsdelivr.net/npm/notyf@3/notyf.min'}, 'shim': {'jspanel': {'exports': 'jsPanel'}, 'gridstack': {'exports': 'GridStack'}}});\n",
       "      require([\"jspanel\"], function(jsPanel) {\n",
       "\twindow.jsPanel = jsPanel\n",
       "\ton_load()\n",
       "      })\n",
       "      require([\"jspanel-modal\"], function() {\n",
       "\ton_load()\n",
       "      })\n",
       "      require([\"jspanel-tooltip\"], function() {\n",
       "\ton_load()\n",
       "      })\n",
       "      require([\"jspanel-hint\"], function() {\n",
       "\ton_load()\n",
       "      })\n",
       "      require([\"jspanel-layout\"], function() {\n",
       "\ton_load()\n",
       "      })\n",
       "      require([\"jspanel-contextmenu\"], function() {\n",
       "\ton_load()\n",
       "      })\n",
       "      require([\"jspanel-dock\"], function() {\n",
       "\ton_load()\n",
       "      })\n",
       "      require([\"gridstack\"], function(GridStack) {\n",
       "\twindow.GridStack = GridStack\n",
       "\ton_load()\n",
       "      })\n",
       "      require([\"notyf\"], function() {\n",
       "\ton_load()\n",
       "      })\n",
       "      root._bokeh_is_loading = css_urls.length + 9;\n",
       "    } else {\n",
       "      root._bokeh_is_loading = css_urls.length + js_urls.length + js_modules.length + Object.keys(js_exports).length;\n",
       "    }\n",
       "\n",
       "    var existing_stylesheets = []\n",
       "    var links = document.getElementsByTagName('link')\n",
       "    for (var i = 0; i < links.length; i++) {\n",
       "      var link = links[i]\n",
       "      if (link.href != null) {\n",
       "\texisting_stylesheets.push(link.href)\n",
       "      }\n",
       "    }\n",
       "    for (var i = 0; i < css_urls.length; i++) {\n",
       "      var url = css_urls[i];\n",
       "      if (existing_stylesheets.indexOf(url) !== -1) {\n",
       "\ton_load()\n",
       "\tcontinue;\n",
       "      }\n",
       "      const element = document.createElement(\"link\");\n",
       "      element.onload = on_load;\n",
       "      element.onerror = on_error;\n",
       "      element.rel = \"stylesheet\";\n",
       "      element.type = \"text/css\";\n",
       "      element.href = url;\n",
       "      console.debug(\"Bokeh: injecting link tag for BokehJS stylesheet: \", url);\n",
       "      document.body.appendChild(element);\n",
       "    }    if (((window['jsPanel'] !== undefined) && (!(window['jsPanel'] instanceof HTMLElement))) || window.requirejs) {\n",
       "      var urls = ['https://cdn.holoviz.org/panel/1.2.0/dist/bundled/floatpanel/jspanel4@4.12.0/dist/jspanel.js', 'https://cdn.holoviz.org/panel/1.2.0/dist/bundled/floatpanel/jspanel4@4.12.0/dist/extensions/modal/jspanel.modal.js', 'https://cdn.holoviz.org/panel/1.2.0/dist/bundled/floatpanel/jspanel4@4.12.0/dist/extensions/tooltip/jspanel.tooltip.js', 'https://cdn.holoviz.org/panel/1.2.0/dist/bundled/floatpanel/jspanel4@4.12.0/dist/extensions/hint/jspanel.hint.js', 'https://cdn.holoviz.org/panel/1.2.0/dist/bundled/floatpanel/jspanel4@4.12.0/dist/extensions/layout/jspanel.layout.js', 'https://cdn.holoviz.org/panel/1.2.0/dist/bundled/floatpanel/jspanel4@4.12.0/dist/extensions/contextmenu/jspanel.contextmenu.js', 'https://cdn.holoviz.org/panel/1.2.0/dist/bundled/floatpanel/jspanel4@4.12.0/dist/extensions/dock/jspanel.dock.js'];\n",
       "      for (var i = 0; i < urls.length; i++) {\n",
       "        skip.push(urls[i])\n",
       "      }\n",
       "    }    if (((window['GridStack'] !== undefined) && (!(window['GridStack'] instanceof HTMLElement))) || window.requirejs) {\n",
       "      var urls = ['https://cdn.holoviz.org/panel/1.2.0/dist/bundled/gridstack/gridstack@7.2.3/dist/gridstack-all.js'];\n",
       "      for (var i = 0; i < urls.length; i++) {\n",
       "        skip.push(urls[i])\n",
       "      }\n",
       "    }    if (((window['Notyf'] !== undefined) && (!(window['Notyf'] instanceof HTMLElement))) || window.requirejs) {\n",
       "      var urls = ['https://cdn.holoviz.org/panel/1.2.0/dist/bundled/notificationarea/notyf@3/notyf.min.js'];\n",
       "      for (var i = 0; i < urls.length; i++) {\n",
       "        skip.push(urls[i])\n",
       "      }\n",
       "    }    var existing_scripts = []\n",
       "    var scripts = document.getElementsByTagName('script')\n",
       "    for (var i = 0; i < scripts.length; i++) {\n",
       "      var script = scripts[i]\n",
       "      if (script.src != null) {\n",
       "\texisting_scripts.push(script.src)\n",
       "      }\n",
       "    }\n",
       "    for (var i = 0; i < js_urls.length; i++) {\n",
       "      var url = js_urls[i];\n",
       "      if (skip.indexOf(url) !== -1 || existing_scripts.indexOf(url) !== -1) {\n",
       "\tif (!window.requirejs) {\n",
       "\t  on_load();\n",
       "\t}\n",
       "\tcontinue;\n",
       "      }\n",
       "      var element = document.createElement('script');\n",
       "      element.onload = on_load;\n",
       "      element.onerror = on_error;\n",
       "      element.async = false;\n",
       "      element.src = url;\n",
       "      console.debug(\"Bokeh: injecting script tag for BokehJS library: \", url);\n",
       "      document.head.appendChild(element);\n",
       "    }\n",
       "    for (var i = 0; i < js_modules.length; i++) {\n",
       "      var url = js_modules[i];\n",
       "      if (skip.indexOf(url) !== -1 || existing_scripts.indexOf(url) !== -1) {\n",
       "\tif (!window.requirejs) {\n",
       "\t  on_load();\n",
       "\t}\n",
       "\tcontinue;\n",
       "      }\n",
       "      var element = document.createElement('script');\n",
       "      element.onload = on_load;\n",
       "      element.onerror = on_error;\n",
       "      element.async = false;\n",
       "      element.src = url;\n",
       "      element.type = \"module\";\n",
       "      console.debug(\"Bokeh: injecting script tag for BokehJS library: \", url);\n",
       "      document.head.appendChild(element);\n",
       "    }\n",
       "    for (const name in js_exports) {\n",
       "      var url = js_exports[name];\n",
       "      if (skip.indexOf(url) >= 0 || root[name] != null) {\n",
       "\tif (!window.requirejs) {\n",
       "\t  on_load();\n",
       "\t}\n",
       "\tcontinue;\n",
       "      }\n",
       "      var element = document.createElement('script');\n",
       "      element.onerror = on_error;\n",
       "      element.async = false;\n",
       "      element.type = \"module\";\n",
       "      console.debug(\"Bokeh: injecting script tag for BokehJS library: \", url);\n",
       "      element.textContent = `\n",
       "      import ${name} from \"${url}\"\n",
       "      window.${name} = ${name}\n",
       "      window._bokeh_on_load()\n",
       "      `\n",
       "      document.head.appendChild(element);\n",
       "    }\n",
       "    if (!js_urls.length && !js_modules.length) {\n",
       "      on_load()\n",
       "    }\n",
       "  };\n",
       "\n",
       "  function inject_raw_css(css) {\n",
       "    const element = document.createElement(\"style\");\n",
       "    element.appendChild(document.createTextNode(css));\n",
       "    document.body.appendChild(element);\n",
       "  }\n",
       "\n",
       "  var js_urls = [\"https://cdn.bokeh.org/bokeh/release/bokeh-3.2.0.min.js\", \"https://cdn.bokeh.org/bokeh/release/bokeh-gl-3.2.0.min.js\", \"https://cdn.bokeh.org/bokeh/release/bokeh-widgets-3.2.0.min.js\", \"https://cdn.bokeh.org/bokeh/release/bokeh-tables-3.2.0.min.js\", \"https://cdn.holoviz.org/panel/1.2.0/dist/panel.min.js\"];\n",
       "  var js_modules = [];\n",
       "  var js_exports = {};\n",
       "  var css_urls = [];\n",
       "  var inline_js = [    function(Bokeh) {\n",
       "      Bokeh.set_log_level(\"info\");\n",
       "    },\n",
       "function(Bokeh) {} // ensure no trailing comma for IE\n",
       "  ];\n",
       "\n",
       "  function run_inline_js() {\n",
       "    if ((root.Bokeh !== undefined) || (force === true)) {\n",
       "      for (var i = 0; i < inline_js.length; i++) {\n",
       "        inline_js[i].call(root, root.Bokeh);\n",
       "      }\n",
       "      // Cache old bokeh versions\n",
       "      if (Bokeh != undefined && !reloading) {\n",
       "\tvar NewBokeh = root.Bokeh;\n",
       "\tif (Bokeh.versions === undefined) {\n",
       "\t  Bokeh.versions = new Map();\n",
       "\t}\n",
       "\tif (NewBokeh.version !== Bokeh.version) {\n",
       "\t  Bokeh.versions.set(NewBokeh.version, NewBokeh)\n",
       "\t}\n",
       "\troot.Bokeh = Bokeh;\n",
       "      }} else if (Date.now() < root._bokeh_timeout) {\n",
       "      setTimeout(run_inline_js, 100);\n",
       "    } else if (!root._bokeh_failed_load) {\n",
       "      console.log(\"Bokeh: BokehJS failed to load within specified timeout.\");\n",
       "      root._bokeh_failed_load = true;\n",
       "    }\n",
       "    root._bokeh_is_initializing = false\n",
       "  }\n",
       "\n",
       "  function load_or_wait() {\n",
       "    // Implement a backoff loop that tries to ensure we do not load multiple\n",
       "    // versions of Bokeh and its dependencies at the same time.\n",
       "    // In recent versions we use the root._bokeh_is_initializing flag\n",
       "    // to determine whether there is an ongoing attempt to initialize\n",
       "    // bokeh, however for backward compatibility we also try to ensure\n",
       "    // that we do not start loading a newer (Panel>=1.0 and Bokeh>3) version\n",
       "    // before older versions are fully initialized.\n",
       "    if (root._bokeh_is_initializing && Date.now() > root._bokeh_timeout) {\n",
       "      root._bokeh_is_initializing = false;\n",
       "      root._bokeh_onload_callbacks = undefined;\n",
       "      console.log(\"Bokeh: BokehJS was loaded multiple times but one version failed to initialize.\");\n",
       "      load_or_wait();\n",
       "    } else if (root._bokeh_is_initializing || (typeof root._bokeh_is_initializing === \"undefined\" && root._bokeh_onload_callbacks !== undefined)) {\n",
       "      setTimeout(load_or_wait, 100);\n",
       "    } else {\n",
       "      Bokeh = root.Bokeh;\n",
       "      bokeh_loaded = Bokeh != null && (Bokeh.version === py_version || (Bokeh.versions !== undefined && Bokeh.versions.has(py_version)));\n",
       "      root._bokeh_is_initializing = true\n",
       "      root._bokeh_onload_callbacks = []\n",
       "      if (!reloading && (!bokeh_loaded || is_dev)) {\n",
       "\troot.Bokeh = undefined;\n",
       "      }\n",
       "      load_libs(css_urls, js_urls, js_modules, js_exports, function() {\n",
       "\tconsole.debug(\"Bokeh: BokehJS plotting callback run at\", now());\n",
       "\trun_inline_js();\n",
       "      });\n",
       "    }\n",
       "  }\n",
       "  // Give older versions of the autoload script a head-start to ensure\n",
       "  // they initialize before we start loading newer version.\n",
       "  setTimeout(load_or_wait, 100)\n",
       "}(window));"
      ],
      "application/vnd.holoviews_load.v0+json": "(function(root) {\n  function now() {\n    return new Date();\n  }\n\n  var force = true;\n  var py_version = '3.2.0'.replace('rc', '-rc.').replace('.dev', '-dev.');\n  var is_dev = py_version.indexOf(\"+\") !== -1 || py_version.indexOf(\"-\") !== -1;\n  var reloading = false;\n  var Bokeh = root.Bokeh;\n  var bokeh_loaded = Bokeh != null && (Bokeh.version === py_version || (Bokeh.versions !== undefined && Bokeh.versions.has(py_version)));\n\n  if (typeof (root._bokeh_timeout) === \"undefined\" || force) {\n    root._bokeh_timeout = Date.now() + 5000;\n    root._bokeh_failed_load = false;\n  }\n\n  function run_callbacks() {\n    try {\n      root._bokeh_onload_callbacks.forEach(function(callback) {\n        if (callback != null)\n          callback();\n      });\n    } finally {\n      delete root._bokeh_onload_callbacks;\n    }\n    console.debug(\"Bokeh: all callbacks have finished\");\n  }\n\n  function load_libs(css_urls, js_urls, js_modules, js_exports, callback) {\n    if (css_urls == null) css_urls = [];\n    if (js_urls == null) js_urls = [];\n    if (js_modules == null) js_modules = [];\n    if (js_exports == null) js_exports = {};\n\n    root._bokeh_onload_callbacks.push(callback);\n\n    if (root._bokeh_is_loading > 0) {\n      console.debug(\"Bokeh: BokehJS is being loaded, scheduling callback at\", now());\n      return null;\n    }\n    if (js_urls.length === 0 && js_modules.length === 0 && Object.keys(js_exports).length === 0) {\n      run_callbacks();\n      return null;\n    }\n    if (!reloading) {\n      console.debug(\"Bokeh: BokehJS not loaded, scheduling load and callback at\", now());\n    }\n\n    function on_load() {\n      root._bokeh_is_loading--;\n      if (root._bokeh_is_loading === 0) {\n        console.debug(\"Bokeh: all BokehJS libraries/stylesheets loaded\");\n        run_callbacks()\n      }\n    }\n    window._bokeh_on_load = on_load\n\n    function on_error() {\n      console.error(\"failed to load \" + url);\n    }\n\n    var skip = [];\n    if (window.requirejs) {\n      window.requirejs.config({'packages': {}, 'paths': {'jspanel': 'https://cdn.jsdelivr.net/npm/jspanel4@4.12.0/dist/jspanel', 'jspanel-modal': 'https://cdn.jsdelivr.net/npm/jspanel4@4.12.0/dist/extensions/modal/jspanel.modal', 'jspanel-tooltip': 'https://cdn.jsdelivr.net/npm/jspanel4@4.12.0/dist/extensions/tooltip/jspanel.tooltip', 'jspanel-hint': 'https://cdn.jsdelivr.net/npm/jspanel4@4.12.0/dist/extensions/hint/jspanel.hint', 'jspanel-layout': 'https://cdn.jsdelivr.net/npm/jspanel4@4.12.0/dist/extensions/layout/jspanel.layout', 'jspanel-contextmenu': 'https://cdn.jsdelivr.net/npm/jspanel4@4.12.0/dist/extensions/contextmenu/jspanel.contextmenu', 'jspanel-dock': 'https://cdn.jsdelivr.net/npm/jspanel4@4.12.0/dist/extensions/dock/jspanel.dock', 'gridstack': 'https://cdn.jsdelivr.net/npm/gridstack@7.2.3/dist/gridstack-all', 'notyf': 'https://cdn.jsdelivr.net/npm/notyf@3/notyf.min'}, 'shim': {'jspanel': {'exports': 'jsPanel'}, 'gridstack': {'exports': 'GridStack'}}});\n      require([\"jspanel\"], function(jsPanel) {\n\twindow.jsPanel = jsPanel\n\ton_load()\n      })\n      require([\"jspanel-modal\"], function() {\n\ton_load()\n      })\n      require([\"jspanel-tooltip\"], function() {\n\ton_load()\n      })\n      require([\"jspanel-hint\"], function() {\n\ton_load()\n      })\n      require([\"jspanel-layout\"], function() {\n\ton_load()\n      })\n      require([\"jspanel-contextmenu\"], function() {\n\ton_load()\n      })\n      require([\"jspanel-dock\"], function() {\n\ton_load()\n      })\n      require([\"gridstack\"], function(GridStack) {\n\twindow.GridStack = GridStack\n\ton_load()\n      })\n      require([\"notyf\"], function() {\n\ton_load()\n      })\n      root._bokeh_is_loading = css_urls.length + 9;\n    } else {\n      root._bokeh_is_loading = css_urls.length + js_urls.length + js_modules.length + Object.keys(js_exports).length;\n    }\n\n    var existing_stylesheets = []\n    var links = document.getElementsByTagName('link')\n    for (var i = 0; i < links.length; i++) {\n      var link = links[i]\n      if (link.href != null) {\n\texisting_stylesheets.push(link.href)\n      }\n    }\n    for (var i = 0; i < css_urls.length; i++) {\n      var url = css_urls[i];\n      if (existing_stylesheets.indexOf(url) !== -1) {\n\ton_load()\n\tcontinue;\n      }\n      const element = document.createElement(\"link\");\n      element.onload = on_load;\n      element.onerror = on_error;\n      element.rel = \"stylesheet\";\n      element.type = \"text/css\";\n      element.href = url;\n      console.debug(\"Bokeh: injecting link tag for BokehJS stylesheet: \", url);\n      document.body.appendChild(element);\n    }    if (((window['jsPanel'] !== undefined) && (!(window['jsPanel'] instanceof HTMLElement))) || window.requirejs) {\n      var urls = ['https://cdn.holoviz.org/panel/1.2.0/dist/bundled/floatpanel/jspanel4@4.12.0/dist/jspanel.js', 'https://cdn.holoviz.org/panel/1.2.0/dist/bundled/floatpanel/jspanel4@4.12.0/dist/extensions/modal/jspanel.modal.js', 'https://cdn.holoviz.org/panel/1.2.0/dist/bundled/floatpanel/jspanel4@4.12.0/dist/extensions/tooltip/jspanel.tooltip.js', 'https://cdn.holoviz.org/panel/1.2.0/dist/bundled/floatpanel/jspanel4@4.12.0/dist/extensions/hint/jspanel.hint.js', 'https://cdn.holoviz.org/panel/1.2.0/dist/bundled/floatpanel/jspanel4@4.12.0/dist/extensions/layout/jspanel.layout.js', 'https://cdn.holoviz.org/panel/1.2.0/dist/bundled/floatpanel/jspanel4@4.12.0/dist/extensions/contextmenu/jspanel.contextmenu.js', 'https://cdn.holoviz.org/panel/1.2.0/dist/bundled/floatpanel/jspanel4@4.12.0/dist/extensions/dock/jspanel.dock.js'];\n      for (var i = 0; i < urls.length; i++) {\n        skip.push(urls[i])\n      }\n    }    if (((window['GridStack'] !== undefined) && (!(window['GridStack'] instanceof HTMLElement))) || window.requirejs) {\n      var urls = ['https://cdn.holoviz.org/panel/1.2.0/dist/bundled/gridstack/gridstack@7.2.3/dist/gridstack-all.js'];\n      for (var i = 0; i < urls.length; i++) {\n        skip.push(urls[i])\n      }\n    }    if (((window['Notyf'] !== undefined) && (!(window['Notyf'] instanceof HTMLElement))) || window.requirejs) {\n      var urls = ['https://cdn.holoviz.org/panel/1.2.0/dist/bundled/notificationarea/notyf@3/notyf.min.js'];\n      for (var i = 0; i < urls.length; i++) {\n        skip.push(urls[i])\n      }\n    }    var existing_scripts = []\n    var scripts = document.getElementsByTagName('script')\n    for (var i = 0; i < scripts.length; i++) {\n      var script = scripts[i]\n      if (script.src != null) {\n\texisting_scripts.push(script.src)\n      }\n    }\n    for (var i = 0; i < js_urls.length; i++) {\n      var url = js_urls[i];\n      if (skip.indexOf(url) !== -1 || existing_scripts.indexOf(url) !== -1) {\n\tif (!window.requirejs) {\n\t  on_load();\n\t}\n\tcontinue;\n      }\n      var element = document.createElement('script');\n      element.onload = on_load;\n      element.onerror = on_error;\n      element.async = false;\n      element.src = url;\n      console.debug(\"Bokeh: injecting script tag for BokehJS library: \", url);\n      document.head.appendChild(element);\n    }\n    for (var i = 0; i < js_modules.length; i++) {\n      var url = js_modules[i];\n      if (skip.indexOf(url) !== -1 || existing_scripts.indexOf(url) !== -1) {\n\tif (!window.requirejs) {\n\t  on_load();\n\t}\n\tcontinue;\n      }\n      var element = document.createElement('script');\n      element.onload = on_load;\n      element.onerror = on_error;\n      element.async = false;\n      element.src = url;\n      element.type = \"module\";\n      console.debug(\"Bokeh: injecting script tag for BokehJS library: \", url);\n      document.head.appendChild(element);\n    }\n    for (const name in js_exports) {\n      var url = js_exports[name];\n      if (skip.indexOf(url) >= 0 || root[name] != null) {\n\tif (!window.requirejs) {\n\t  on_load();\n\t}\n\tcontinue;\n      }\n      var element = document.createElement('script');\n      element.onerror = on_error;\n      element.async = false;\n      element.type = \"module\";\n      console.debug(\"Bokeh: injecting script tag for BokehJS library: \", url);\n      element.textContent = `\n      import ${name} from \"${url}\"\n      window.${name} = ${name}\n      window._bokeh_on_load()\n      `\n      document.head.appendChild(element);\n    }\n    if (!js_urls.length && !js_modules.length) {\n      on_load()\n    }\n  };\n\n  function inject_raw_css(css) {\n    const element = document.createElement(\"style\");\n    element.appendChild(document.createTextNode(css));\n    document.body.appendChild(element);\n  }\n\n  var js_urls = [\"https://cdn.bokeh.org/bokeh/release/bokeh-3.2.0.min.js\", \"https://cdn.bokeh.org/bokeh/release/bokeh-gl-3.2.0.min.js\", \"https://cdn.bokeh.org/bokeh/release/bokeh-widgets-3.2.0.min.js\", \"https://cdn.bokeh.org/bokeh/release/bokeh-tables-3.2.0.min.js\", \"https://cdn.holoviz.org/panel/1.2.0/dist/panel.min.js\"];\n  var js_modules = [];\n  var js_exports = {};\n  var css_urls = [];\n  var inline_js = [    function(Bokeh) {\n      Bokeh.set_log_level(\"info\");\n    },\nfunction(Bokeh) {} // ensure no trailing comma for IE\n  ];\n\n  function run_inline_js() {\n    if ((root.Bokeh !== undefined) || (force === true)) {\n      for (var i = 0; i < inline_js.length; i++) {\n        inline_js[i].call(root, root.Bokeh);\n      }\n      // Cache old bokeh versions\n      if (Bokeh != undefined && !reloading) {\n\tvar NewBokeh = root.Bokeh;\n\tif (Bokeh.versions === undefined) {\n\t  Bokeh.versions = new Map();\n\t}\n\tif (NewBokeh.version !== Bokeh.version) {\n\t  Bokeh.versions.set(NewBokeh.version, NewBokeh)\n\t}\n\troot.Bokeh = Bokeh;\n      }} else if (Date.now() < root._bokeh_timeout) {\n      setTimeout(run_inline_js, 100);\n    } else if (!root._bokeh_failed_load) {\n      console.log(\"Bokeh: BokehJS failed to load within specified timeout.\");\n      root._bokeh_failed_load = true;\n    }\n    root._bokeh_is_initializing = false\n  }\n\n  function load_or_wait() {\n    // Implement a backoff loop that tries to ensure we do not load multiple\n    // versions of Bokeh and its dependencies at the same time.\n    // In recent versions we use the root._bokeh_is_initializing flag\n    // to determine whether there is an ongoing attempt to initialize\n    // bokeh, however for backward compatibility we also try to ensure\n    // that we do not start loading a newer (Panel>=1.0 and Bokeh>3) version\n    // before older versions are fully initialized.\n    if (root._bokeh_is_initializing && Date.now() > root._bokeh_timeout) {\n      root._bokeh_is_initializing = false;\n      root._bokeh_onload_callbacks = undefined;\n      console.log(\"Bokeh: BokehJS was loaded multiple times but one version failed to initialize.\");\n      load_or_wait();\n    } else if (root._bokeh_is_initializing || (typeof root._bokeh_is_initializing === \"undefined\" && root._bokeh_onload_callbacks !== undefined)) {\n      setTimeout(load_or_wait, 100);\n    } else {\n      Bokeh = root.Bokeh;\n      bokeh_loaded = Bokeh != null && (Bokeh.version === py_version || (Bokeh.versions !== undefined && Bokeh.versions.has(py_version)));\n      root._bokeh_is_initializing = true\n      root._bokeh_onload_callbacks = []\n      if (!reloading && (!bokeh_loaded || is_dev)) {\n\troot.Bokeh = undefined;\n      }\n      load_libs(css_urls, js_urls, js_modules, js_exports, function() {\n\tconsole.debug(\"Bokeh: BokehJS plotting callback run at\", now());\n\trun_inline_js();\n      });\n    }\n  }\n  // Give older versions of the autoload script a head-start to ensure\n  // they initialize before we start loading newer version.\n  setTimeout(load_or_wait, 100)\n}(window));"
     },
     "metadata": {},
     "output_type": "display_data"
    },
    {
     "data": {
      "application/javascript": [
       "\n",
       "if ((window.PyViz === undefined) || (window.PyViz instanceof HTMLElement)) {\n",
       "  window.PyViz = {comms: {}, comm_status:{}, kernels:{}, receivers: {}, plot_index: []}\n",
       "}\n",
       "\n",
       "\n",
       "    function JupyterCommManager() {\n",
       "    }\n",
       "\n",
       "    JupyterCommManager.prototype.register_target = function(plot_id, comm_id, msg_handler) {\n",
       "      if (window.comm_manager || ((window.Jupyter !== undefined) && (Jupyter.notebook.kernel != null))) {\n",
       "        var comm_manager = window.comm_manager || Jupyter.notebook.kernel.comm_manager;\n",
       "        comm_manager.register_target(comm_id, function(comm) {\n",
       "          comm.on_msg(msg_handler);\n",
       "        });\n",
       "      } else if ((plot_id in window.PyViz.kernels) && (window.PyViz.kernels[plot_id])) {\n",
       "        window.PyViz.kernels[plot_id].registerCommTarget(comm_id, function(comm) {\n",
       "          comm.onMsg = msg_handler;\n",
       "        });\n",
       "      } else if (typeof google != 'undefined' && google.colab.kernel != null) {\n",
       "        google.colab.kernel.comms.registerTarget(comm_id, (comm) => {\n",
       "          var messages = comm.messages[Symbol.asyncIterator]();\n",
       "          function processIteratorResult(result) {\n",
       "            var message = result.value;\n",
       "            console.log(message)\n",
       "            var content = {data: message.data, comm_id};\n",
       "            var buffers = []\n",
       "            for (var buffer of message.buffers || []) {\n",
       "              buffers.push(new DataView(buffer))\n",
       "            }\n",
       "            var metadata = message.metadata || {};\n",
       "            var msg = {content, buffers, metadata}\n",
       "            msg_handler(msg);\n",
       "            return messages.next().then(processIteratorResult);\n",
       "          }\n",
       "          return messages.next().then(processIteratorResult);\n",
       "        })\n",
       "      }\n",
       "    }\n",
       "\n",
       "    JupyterCommManager.prototype.get_client_comm = function(plot_id, comm_id, msg_handler) {\n",
       "      if (comm_id in window.PyViz.comms) {\n",
       "        return window.PyViz.comms[comm_id];\n",
       "      } else if (window.comm_manager || ((window.Jupyter !== undefined) && (Jupyter.notebook.kernel != null))) {\n",
       "        var comm_manager = window.comm_manager || Jupyter.notebook.kernel.comm_manager;\n",
       "        var comm = comm_manager.new_comm(comm_id, {}, {}, {}, comm_id);\n",
       "        if (msg_handler) {\n",
       "          comm.on_msg(msg_handler);\n",
       "        }\n",
       "      } else if ((plot_id in window.PyViz.kernels) && (window.PyViz.kernels[plot_id])) {\n",
       "        var comm = window.PyViz.kernels[plot_id].connectToComm(comm_id);\n",
       "        comm.open();\n",
       "        if (msg_handler) {\n",
       "          comm.onMsg = msg_handler;\n",
       "        }\n",
       "      } else if (typeof google != 'undefined' && google.colab.kernel != null) {\n",
       "        var comm_promise = google.colab.kernel.comms.open(comm_id)\n",
       "        comm_promise.then((comm) => {\n",
       "          window.PyViz.comms[comm_id] = comm;\n",
       "          if (msg_handler) {\n",
       "            var messages = comm.messages[Symbol.asyncIterator]();\n",
       "            function processIteratorResult(result) {\n",
       "              var message = result.value;\n",
       "              var content = {data: message.data};\n",
       "              var metadata = message.metadata || {comm_id};\n",
       "              var msg = {content, metadata}\n",
       "              msg_handler(msg);\n",
       "              return messages.next().then(processIteratorResult);\n",
       "            }\n",
       "            return messages.next().then(processIteratorResult);\n",
       "          }\n",
       "        }) \n",
       "        var sendClosure = (data, metadata, buffers, disposeOnDone) => {\n",
       "          return comm_promise.then((comm) => {\n",
       "            comm.send(data, metadata, buffers, disposeOnDone);\n",
       "          });\n",
       "        };\n",
       "        var comm = {\n",
       "          send: sendClosure\n",
       "        };\n",
       "      }\n",
       "      window.PyViz.comms[comm_id] = comm;\n",
       "      return comm;\n",
       "    }\n",
       "    window.PyViz.comm_manager = new JupyterCommManager();\n",
       "    \n",
       "\n",
       "\n",
       "var JS_MIME_TYPE = 'application/javascript';\n",
       "var HTML_MIME_TYPE = 'text/html';\n",
       "var EXEC_MIME_TYPE = 'application/vnd.holoviews_exec.v0+json';\n",
       "var CLASS_NAME = 'output';\n",
       "\n",
       "/**\n",
       " * Render data to the DOM node\n",
       " */\n",
       "function render(props, node) {\n",
       "  var div = document.createElement(\"div\");\n",
       "  var script = document.createElement(\"script\");\n",
       "  node.appendChild(div);\n",
       "  node.appendChild(script);\n",
       "}\n",
       "\n",
       "/**\n",
       " * Handle when a new output is added\n",
       " */\n",
       "function handle_add_output(event, handle) {\n",
       "  var output_area = handle.output_area;\n",
       "  var output = handle.output;\n",
       "  if ((output.data == undefined) || (!output.data.hasOwnProperty(EXEC_MIME_TYPE))) {\n",
       "    return\n",
       "  }\n",
       "  var id = output.metadata[EXEC_MIME_TYPE][\"id\"];\n",
       "  var toinsert = output_area.element.find(\".\" + CLASS_NAME.split(' ')[0]);\n",
       "  if (id !== undefined) {\n",
       "    var nchildren = toinsert.length;\n",
       "    var html_node = toinsert[nchildren-1].children[0];\n",
       "    html_node.innerHTML = output.data[HTML_MIME_TYPE];\n",
       "    var scripts = [];\n",
       "    var nodelist = html_node.querySelectorAll(\"script\");\n",
       "    for (var i in nodelist) {\n",
       "      if (nodelist.hasOwnProperty(i)) {\n",
       "        scripts.push(nodelist[i])\n",
       "      }\n",
       "    }\n",
       "\n",
       "    scripts.forEach( function (oldScript) {\n",
       "      var newScript = document.createElement(\"script\");\n",
       "      var attrs = [];\n",
       "      var nodemap = oldScript.attributes;\n",
       "      for (var j in nodemap) {\n",
       "        if (nodemap.hasOwnProperty(j)) {\n",
       "          attrs.push(nodemap[j])\n",
       "        }\n",
       "      }\n",
       "      attrs.forEach(function(attr) { newScript.setAttribute(attr.name, attr.value) });\n",
       "      newScript.appendChild(document.createTextNode(oldScript.innerHTML));\n",
       "      oldScript.parentNode.replaceChild(newScript, oldScript);\n",
       "    });\n",
       "    if (JS_MIME_TYPE in output.data) {\n",
       "      toinsert[nchildren-1].children[1].textContent = output.data[JS_MIME_TYPE];\n",
       "    }\n",
       "    output_area._hv_plot_id = id;\n",
       "    if ((window.Bokeh !== undefined) && (id in Bokeh.index)) {\n",
       "      window.PyViz.plot_index[id] = Bokeh.index[id];\n",
       "    } else {\n",
       "      window.PyViz.plot_index[id] = null;\n",
       "    }\n",
       "  } else if (output.metadata[EXEC_MIME_TYPE][\"server_id\"] !== undefined) {\n",
       "    var bk_div = document.createElement(\"div\");\n",
       "    bk_div.innerHTML = output.data[HTML_MIME_TYPE];\n",
       "    var script_attrs = bk_div.children[0].attributes;\n",
       "    for (var i = 0; i < script_attrs.length; i++) {\n",
       "      toinsert[toinsert.length - 1].childNodes[1].setAttribute(script_attrs[i].name, script_attrs[i].value);\n",
       "    }\n",
       "    // store reference to server id on output_area\n",
       "    output_area._bokeh_server_id = output.metadata[EXEC_MIME_TYPE][\"server_id\"];\n",
       "  }\n",
       "}\n",
       "\n",
       "/**\n",
       " * Handle when an output is cleared or removed\n",
       " */\n",
       "function handle_clear_output(event, handle) {\n",
       "  var id = handle.cell.output_area._hv_plot_id;\n",
       "  var server_id = handle.cell.output_area._bokeh_server_id;\n",
       "  if (((id === undefined) || !(id in PyViz.plot_index)) && (server_id !== undefined)) { return; }\n",
       "  var comm = window.PyViz.comm_manager.get_client_comm(\"hv-extension-comm\", \"hv-extension-comm\", function () {});\n",
       "  if (server_id !== null) {\n",
       "    comm.send({event_type: 'server_delete', 'id': server_id});\n",
       "    return;\n",
       "  } else if (comm !== null) {\n",
       "    comm.send({event_type: 'delete', 'id': id});\n",
       "  }\n",
       "  delete PyViz.plot_index[id];\n",
       "  if ((window.Bokeh !== undefined) & (id in window.Bokeh.index)) {\n",
       "    var doc = window.Bokeh.index[id].model.document\n",
       "    doc.clear();\n",
       "    const i = window.Bokeh.documents.indexOf(doc);\n",
       "    if (i > -1) {\n",
       "      window.Bokeh.documents.splice(i, 1);\n",
       "    }\n",
       "  }\n",
       "}\n",
       "\n",
       "/**\n",
       " * Handle kernel restart event\n",
       " */\n",
       "function handle_kernel_cleanup(event, handle) {\n",
       "  delete PyViz.comms[\"hv-extension-comm\"];\n",
       "  window.PyViz.plot_index = {}\n",
       "}\n",
       "\n",
       "/**\n",
       " * Handle update_display_data messages\n",
       " */\n",
       "function handle_update_output(event, handle) {\n",
       "  handle_clear_output(event, {cell: {output_area: handle.output_area}})\n",
       "  handle_add_output(event, handle)\n",
       "}\n",
       "\n",
       "function register_renderer(events, OutputArea) {\n",
       "  function append_mime(data, metadata, element) {\n",
       "    // create a DOM node to render to\n",
       "    var toinsert = this.create_output_subarea(\n",
       "    metadata,\n",
       "    CLASS_NAME,\n",
       "    EXEC_MIME_TYPE\n",
       "    );\n",
       "    this.keyboard_manager.register_events(toinsert);\n",
       "    // Render to node\n",
       "    var props = {data: data, metadata: metadata[EXEC_MIME_TYPE]};\n",
       "    render(props, toinsert[0]);\n",
       "    element.append(toinsert);\n",
       "    return toinsert\n",
       "  }\n",
       "\n",
       "  events.on('output_added.OutputArea', handle_add_output);\n",
       "  events.on('output_updated.OutputArea', handle_update_output);\n",
       "  events.on('clear_output.CodeCell', handle_clear_output);\n",
       "  events.on('delete.Cell', handle_clear_output);\n",
       "  events.on('kernel_ready.Kernel', handle_kernel_cleanup);\n",
       "\n",
       "  OutputArea.prototype.register_mime_type(EXEC_MIME_TYPE, append_mime, {\n",
       "    safe: true,\n",
       "    index: 0\n",
       "  });\n",
       "}\n",
       "\n",
       "if (window.Jupyter !== undefined) {\n",
       "  try {\n",
       "    var events = require('base/js/events');\n",
       "    var OutputArea = require('notebook/js/outputarea').OutputArea;\n",
       "    if (OutputArea.prototype.mime_types().indexOf(EXEC_MIME_TYPE) == -1) {\n",
       "      register_renderer(events, OutputArea);\n",
       "    }\n",
       "  } catch(err) {\n",
       "  }\n",
       "}\n"
      ],
      "application/vnd.holoviews_load.v0+json": "\nif ((window.PyViz === undefined) || (window.PyViz instanceof HTMLElement)) {\n  window.PyViz = {comms: {}, comm_status:{}, kernels:{}, receivers: {}, plot_index: []}\n}\n\n\n    function JupyterCommManager() {\n    }\n\n    JupyterCommManager.prototype.register_target = function(plot_id, comm_id, msg_handler) {\n      if (window.comm_manager || ((window.Jupyter !== undefined) && (Jupyter.notebook.kernel != null))) {\n        var comm_manager = window.comm_manager || Jupyter.notebook.kernel.comm_manager;\n        comm_manager.register_target(comm_id, function(comm) {\n          comm.on_msg(msg_handler);\n        });\n      } else if ((plot_id in window.PyViz.kernels) && (window.PyViz.kernels[plot_id])) {\n        window.PyViz.kernels[plot_id].registerCommTarget(comm_id, function(comm) {\n          comm.onMsg = msg_handler;\n        });\n      } else if (typeof google != 'undefined' && google.colab.kernel != null) {\n        google.colab.kernel.comms.registerTarget(comm_id, (comm) => {\n          var messages = comm.messages[Symbol.asyncIterator]();\n          function processIteratorResult(result) {\n            var message = result.value;\n            console.log(message)\n            var content = {data: message.data, comm_id};\n            var buffers = []\n            for (var buffer of message.buffers || []) {\n              buffers.push(new DataView(buffer))\n            }\n            var metadata = message.metadata || {};\n            var msg = {content, buffers, metadata}\n            msg_handler(msg);\n            return messages.next().then(processIteratorResult);\n          }\n          return messages.next().then(processIteratorResult);\n        })\n      }\n    }\n\n    JupyterCommManager.prototype.get_client_comm = function(plot_id, comm_id, msg_handler) {\n      if (comm_id in window.PyViz.comms) {\n        return window.PyViz.comms[comm_id];\n      } else if (window.comm_manager || ((window.Jupyter !== undefined) && (Jupyter.notebook.kernel != null))) {\n        var comm_manager = window.comm_manager || Jupyter.notebook.kernel.comm_manager;\n        var comm = comm_manager.new_comm(comm_id, {}, {}, {}, comm_id);\n        if (msg_handler) {\n          comm.on_msg(msg_handler);\n        }\n      } else if ((plot_id in window.PyViz.kernels) && (window.PyViz.kernels[plot_id])) {\n        var comm = window.PyViz.kernels[plot_id].connectToComm(comm_id);\n        comm.open();\n        if (msg_handler) {\n          comm.onMsg = msg_handler;\n        }\n      } else if (typeof google != 'undefined' && google.colab.kernel != null) {\n        var comm_promise = google.colab.kernel.comms.open(comm_id)\n        comm_promise.then((comm) => {\n          window.PyViz.comms[comm_id] = comm;\n          if (msg_handler) {\n            var messages = comm.messages[Symbol.asyncIterator]();\n            function processIteratorResult(result) {\n              var message = result.value;\n              var content = {data: message.data};\n              var metadata = message.metadata || {comm_id};\n              var msg = {content, metadata}\n              msg_handler(msg);\n              return messages.next().then(processIteratorResult);\n            }\n            return messages.next().then(processIteratorResult);\n          }\n        }) \n        var sendClosure = (data, metadata, buffers, disposeOnDone) => {\n          return comm_promise.then((comm) => {\n            comm.send(data, metadata, buffers, disposeOnDone);\n          });\n        };\n        var comm = {\n          send: sendClosure\n        };\n      }\n      window.PyViz.comms[comm_id] = comm;\n      return comm;\n    }\n    window.PyViz.comm_manager = new JupyterCommManager();\n    \n\n\nvar JS_MIME_TYPE = 'application/javascript';\nvar HTML_MIME_TYPE = 'text/html';\nvar EXEC_MIME_TYPE = 'application/vnd.holoviews_exec.v0+json';\nvar CLASS_NAME = 'output';\n\n/**\n * Render data to the DOM node\n */\nfunction render(props, node) {\n  var div = document.createElement(\"div\");\n  var script = document.createElement(\"script\");\n  node.appendChild(div);\n  node.appendChild(script);\n}\n\n/**\n * Handle when a new output is added\n */\nfunction handle_add_output(event, handle) {\n  var output_area = handle.output_area;\n  var output = handle.output;\n  if ((output.data == undefined) || (!output.data.hasOwnProperty(EXEC_MIME_TYPE))) {\n    return\n  }\n  var id = output.metadata[EXEC_MIME_TYPE][\"id\"];\n  var toinsert = output_area.element.find(\".\" + CLASS_NAME.split(' ')[0]);\n  if (id !== undefined) {\n    var nchildren = toinsert.length;\n    var html_node = toinsert[nchildren-1].children[0];\n    html_node.innerHTML = output.data[HTML_MIME_TYPE];\n    var scripts = [];\n    var nodelist = html_node.querySelectorAll(\"script\");\n    for (var i in nodelist) {\n      if (nodelist.hasOwnProperty(i)) {\n        scripts.push(nodelist[i])\n      }\n    }\n\n    scripts.forEach( function (oldScript) {\n      var newScript = document.createElement(\"script\");\n      var attrs = [];\n      var nodemap = oldScript.attributes;\n      for (var j in nodemap) {\n        if (nodemap.hasOwnProperty(j)) {\n          attrs.push(nodemap[j])\n        }\n      }\n      attrs.forEach(function(attr) { newScript.setAttribute(attr.name, attr.value) });\n      newScript.appendChild(document.createTextNode(oldScript.innerHTML));\n      oldScript.parentNode.replaceChild(newScript, oldScript);\n    });\n    if (JS_MIME_TYPE in output.data) {\n      toinsert[nchildren-1].children[1].textContent = output.data[JS_MIME_TYPE];\n    }\n    output_area._hv_plot_id = id;\n    if ((window.Bokeh !== undefined) && (id in Bokeh.index)) {\n      window.PyViz.plot_index[id] = Bokeh.index[id];\n    } else {\n      window.PyViz.plot_index[id] = null;\n    }\n  } else if (output.metadata[EXEC_MIME_TYPE][\"server_id\"] !== undefined) {\n    var bk_div = document.createElement(\"div\");\n    bk_div.innerHTML = output.data[HTML_MIME_TYPE];\n    var script_attrs = bk_div.children[0].attributes;\n    for (var i = 0; i < script_attrs.length; i++) {\n      toinsert[toinsert.length - 1].childNodes[1].setAttribute(script_attrs[i].name, script_attrs[i].value);\n    }\n    // store reference to server id on output_area\n    output_area._bokeh_server_id = output.metadata[EXEC_MIME_TYPE][\"server_id\"];\n  }\n}\n\n/**\n * Handle when an output is cleared or removed\n */\nfunction handle_clear_output(event, handle) {\n  var id = handle.cell.output_area._hv_plot_id;\n  var server_id = handle.cell.output_area._bokeh_server_id;\n  if (((id === undefined) || !(id in PyViz.plot_index)) && (server_id !== undefined)) { return; }\n  var comm = window.PyViz.comm_manager.get_client_comm(\"hv-extension-comm\", \"hv-extension-comm\", function () {});\n  if (server_id !== null) {\n    comm.send({event_type: 'server_delete', 'id': server_id});\n    return;\n  } else if (comm !== null) {\n    comm.send({event_type: 'delete', 'id': id});\n  }\n  delete PyViz.plot_index[id];\n  if ((window.Bokeh !== undefined) & (id in window.Bokeh.index)) {\n    var doc = window.Bokeh.index[id].model.document\n    doc.clear();\n    const i = window.Bokeh.documents.indexOf(doc);\n    if (i > -1) {\n      window.Bokeh.documents.splice(i, 1);\n    }\n  }\n}\n\n/**\n * Handle kernel restart event\n */\nfunction handle_kernel_cleanup(event, handle) {\n  delete PyViz.comms[\"hv-extension-comm\"];\n  window.PyViz.plot_index = {}\n}\n\n/**\n * Handle update_display_data messages\n */\nfunction handle_update_output(event, handle) {\n  handle_clear_output(event, {cell: {output_area: handle.output_area}})\n  handle_add_output(event, handle)\n}\n\nfunction register_renderer(events, OutputArea) {\n  function append_mime(data, metadata, element) {\n    // create a DOM node to render to\n    var toinsert = this.create_output_subarea(\n    metadata,\n    CLASS_NAME,\n    EXEC_MIME_TYPE\n    );\n    this.keyboard_manager.register_events(toinsert);\n    // Render to node\n    var props = {data: data, metadata: metadata[EXEC_MIME_TYPE]};\n    render(props, toinsert[0]);\n    element.append(toinsert);\n    return toinsert\n  }\n\n  events.on('output_added.OutputArea', handle_add_output);\n  events.on('output_updated.OutputArea', handle_update_output);\n  events.on('clear_output.CodeCell', handle_clear_output);\n  events.on('delete.Cell', handle_clear_output);\n  events.on('kernel_ready.Kernel', handle_kernel_cleanup);\n\n  OutputArea.prototype.register_mime_type(EXEC_MIME_TYPE, append_mime, {\n    safe: true,\n    index: 0\n  });\n}\n\nif (window.Jupyter !== undefined) {\n  try {\n    var events = require('base/js/events');\n    var OutputArea = require('notebook/js/outputarea').OutputArea;\n    if (OutputArea.prototype.mime_types().indexOf(EXEC_MIME_TYPE) == -1) {\n      register_renderer(events, OutputArea);\n    }\n  } catch(err) {\n  }\n}\n"
     },
     "metadata": {},
     "output_type": "display_data"
    },
    {
     "data": {
      "text/html": [
       "<style>*[data-root-id],\n",
       "*[data-root-id] > * {\n",
       "  box-sizing: border-box;\n",
       "  font-family: var(--jp-ui-font-family);\n",
       "  font-size: var(--jp-ui-font-size1);\n",
       "  color: var(--vscode-editor-foreground, var(--jp-ui-font-color1));\n",
       "}\n",
       "\n",
       "/* Override VSCode background color */\n",
       ".cell-output-ipywidget-background:has(\n",
       "    > .cell-output-ipywidget-background > .lm-Widget > *[data-root-id]\n",
       "  ),\n",
       ".cell-output-ipywidget-background:has(> .lm-Widget > *[data-root-id]) {\n",
       "  background-color: transparent !important;\n",
       "}\n",
       "</style>"
      ]
     },
     "metadata": {},
     "output_type": "display_data"
    },
    {
     "data": {
      "text/html": [
       "\n",
       "<div class=\"logo-block\">\n",
       "<img src='data:image/png;base64,iVBORw0KGgoAAAANSUhEUgAAAEAAAABACAYAAACqaXHeAAAABHNCSVQICAgIfAhkiAAAAAlwSFlz\n",
       "AAAB+wAAAfsBxc2miwAAABl0RVh0U29mdHdhcmUAd3d3Lmlua3NjYXBlLm9yZ5vuPBoAAA6zSURB\n",
       "VHic7ZtpeFRVmsf/5966taWqUlUJ2UioBBJiIBAwCZtog9IOgjqACsogKtqirT2ttt069nQ/zDzt\n",
       "tI4+CrJIREFaFgWhBXpUNhHZQoKBkIUASchWla1S+3ar7r1nPkDaCAnZKoQP/D7mnPOe9/xy76n3\n",
       "nFSAW9ziFoPFNED2LLK5wcyBDObkb8ZkxuaoSYlI6ZcOKq1eWFdedqNzGHQBk9RMEwFAASkk0Xw3\n",
       "ETacDNi2vtvc7L0ROdw0AjoSotQVkKSvHQz/wRO1lScGModBFbDMaNRN1A4tUBCS3lk7BWhQkgpD\n",
       "lG4852/+7DWr1R3uHAZVQDsbh6ZPN7CyxUrCzJMRouusj0ipRwD2uKm0Zn5d2dFwzX1TCGhnmdGo\n",
       "G62Nna+isiUqhkzuKrkQaJlPEv5mFl2fvGg2t/VnzkEV8F5ioioOEWkLG86fvbpthynjdhXYZziQ\n",
       "x1hC9J2NFyi8vCTt91Fh04KGip0AaG9zuCk2wQCVyoNU3Hjezee9bq92duzzTmxsRJoy+jEZZZYo\n",
       "GTKJ6SJngdJqAfRzpze0+jHreUtPc7gpBLQnIYK6BYp/uGhw9YK688eu7v95ysgshcg9qSLMo3JC\n",
       "4jqLKQFBgdKDPoQ+Pltb8dUyQLpeDjeVgI6EgLIQFT5tEl3rn2losHVsexbZ3EyT9wE1uGdkIPcy\n",
       "BGxn8QUq1QrA5nqW5i2tLqvrrM9NK6AdkVIvL9E9bZL/oyfMVd/jqvc8LylzRBKDJSzIExwhQzuL\n",
       "QYGQj4rHfFTc8mUdu3E7yoLtbTe9gI4EqVgVkug2i5+uXGo919ixbRog+3fTbQ8qJe4ZOYNfMoTI\n",
       "OoshUNosgO60AisX15aeI2PSIp5KiFLI9ubb1vV3Qb2ltwLakUCDAkWX7/nHKRmmGIl9VgYsUhJm\n",
       "2NXjKYADtM1ygne9QQDIXlk49FBstMKx66D1v4+XuQr7vqTe0VcBHQlRWiOCbmmSYe2SqtL6q5rJ\n",
       "zsTb7lKx3FKOYC4DoqyS/B5bvLPxvD9Qtf6saxYLQGJErmDOdOMr/zo96km1nElr8bmPOBwI9COv\n",
       "HnFPRIwmkSOv9kcAS4heRsidOkpeWBgZM+UBrTFAXNYL5Vf2ii9c1trNzpYdaoVil3WIc+wdk+gQ\n",
       "noie3ecCcxt9ITcLAPWt/laGEO/9U6PmzZkenTtsSMQ8uYywJVW+grCstAvCIaAdArAsIWkRDDs/\n",
       "KzLm2YcjY1Lv0UdW73HabE9n6V66cxSzfEmuJssTpKGVp+0vHq73FwL46eOjpMpbRAnNmJFrGJNu\n",
       "Ukf9Yrz+3rghiumCKNXXWPhLYcjxGsIpoCMsIRoFITkW8AuyM8jC1+/QLx4bozCEJIq38+1rtpR6\n",
       "V/yzb8eBlRb3fo5l783N0CWolAzJHaVNzkrTzlEp2bQ2q3TC5gn6wpnoQAmwSiGh2GitnTmVMc5O\n",
       "UyfKWUKCIsU7+fZDKwqdT6DDpvkzAX4/+AMFjk0tDp5GRXLpQ2MUmhgDp5gxQT8+Y7hyPsMi8uxF\n",
       "71H0oebujHALECjFKaW9Lm68n18wXp2kVzIcABytD5iXFzg+WVXkegpAsOOYziqo0OkK76GyquC3\n",
       "ltZAzMhhqlSNmmWTE5T6e3IN05ITFLM4GdN0vtZ3ob8Jh1NAKXFbm5PtLU/eqTSlGjkNAJjdgn/N\n",
       "aedXa0tdi7+t9G0FIF49rtMSEgAs1kDLkTPO7ebm4IUWeyh1bKomXqlgMG6kJmHcSM0clYLJ8XtR\n",
       "1GTnbV3F6I5wCGikAb402npp1h1s7LQUZZSMIfALFOuL3UUrfnS8+rez7v9qcold5tilgHbO1fjK\n",
       "9ubb17u9oshxzMiUBKXWqJNxd+fqb0tLVs4lILFnK71H0Ind7uiPgACVcFJlrb0tV6DzxqqTIhUM\n",
       "CwDf1/rrVhTa33/3pGPxJYdQ2l2cbgVcQSosdx8uqnDtbGjh9SlDVSMNWhlnilfqZk42Th2ZpLpf\n",
       "xrHec5e815zrr0dfBZSwzkZfqsv+1FS1KUknUwPARVvItfKUY+cn57yP7qv07UE3p8B2uhUwLk09\n",
       "e0SCOrK+hbdYHYLjRIl71wWzv9jpEoeOHhGRrJAzyEyNiJuUqX0g2sBN5kGK6y2Blp5M3lsB9Qh4\n",
       "y2Ja6x6+i0ucmKgwMATwhSjdUu49tKrQ/pvN5d53ml2CGwCmJipmKjgmyuaXzNeL2a0AkQ01Th5j\n",
       "2DktO3Jyk8f9vcOBQHV94OK+fPumJmvQHxJoWkaKWq9Vs+yUsbq0zGT1I4RgeH2b5wef7+c7bl8F\n",
       "eKgoHVVZa8ZPEORzR6sT1BzDUAD/d9F78e2Tzv99v8D+fLVTqAKAsbGamKey1Mt9Ann4eH3gTXTz\n",
       "idWtAJ8PQWOk7NzSeQn/OTHDuEikVF1R4z8BQCy+6D1aWRfY0tTGG2OM8rRoPaeIj5ZHzJxszElN\n",
       "VM8K8JS5WOfv8mzRnQAKoEhmt8gyPM4lU9SmBK1MCQBnW4KONT86v1hZ1PbwSXPw4JWussVjtH9Y\n",
       "NCoiL9UoH/6PSu8jFrfY2t36erQHXLIEakMi1SydmzB31h3GGXFDFNPaK8Rme9B79Ixrd0WN+1ij\n",
       "NRQ/doRmuFLBkHSTOm5GruG+pFjFdAmorG4IXH1Qua6ASniclfFtDYt+oUjKipPrCQB7QBQ2lrgP\n",
       "fFzm+9XWUtcqJ3/5vDLDpJ79XHZk3u8nGZ42qlj1+ydtbxysCezrydp6ugmipNJ7WBPB5tydY0jP\n",
       "HaVNzs3QzeE4ZpTbI+ZbnSFPbVOw9vsfnVvqWnirPyCNGD08IlqtYkh2hjZ5dErEQzoNm+6ykyOt\n",
       "Lt5/PQEuSRRKo22VkydK+vvS1XEKlhCJAnsqvcVvH7f/ZU2R67eXbMEGAMiIV5oWZWiWvz5Fv2xG\n",
       "sjqNJQRvn3Rs2lji/lNP19VjAQDgD7FHhujZB9OGqYxRkZxixgRDVlqS6uEOFaJUVu0rPFzctrnF\n",
       "JqijImVp8dEKVWyUXDk92zAuMZ6bFwpBU1HrOw6AdhQgUooChb0+ItMbWJitSo5Ws3IAOGEOtL53\n",
       "0vHZih9sC4vtofZ7Qu6523V/fmGcds1TY3V36pUsBwAbSlxnVh2xLfAD/IAIMDf7XYIkNmXfpp2l\n",
       "18rkAJAy9HKFaIr/qULkeQQKy9zf1JgDB2uaeFNGijo5QsUyacNUUTOnGO42xSnv4oOwpDi1zYkc\n",
       "efUc3I5Gk6PhyTuVKaOGyLUAYPGIoY9Pu/atL/L92+4q9wbflRJ2Trpm/jPjdBtfnqB/dIThcl8A\n",
       "KG7hbRuKnb8qsQsVvVlTrwQAQMUlf3kwJI24Z4JhPMtcfng5GcH49GsrxJpGvvHIaeem2ma+KSjQ\n",
       "lIwUdYyCY8j4dE1KzijNnIP2llF2wcXNnsoapw9XxsgYAl6k+KzUXbi2yP3KR2ecf6z3BFsBICdW\n",
       "nvnIaG3eHybqX7vbpEqUMT+9OL4Qpe8VON7dXuFd39v19FoAABRVePbGGuXTszO0P7tu6lghUonE\n",
       "llRdrhArLvmKdh9u29jcFiRRkfLUxBiFNiqSU9icoZQHo5mYBI1MBgBH6wMNb+U7Pnw337H4gi1Y\n",
       "ciWs+uks3Z9fztUvfzxTm9Ne8XXkvQLHNytOOZeiD4e0PgkAIAYCYknKUNUDSXEKzdWNpnil7r4p\n",
       "xqkjTarZMtk/K8TQ6Qve78qqvXurGwIJqcOUKfUWHsm8KGvxSP68YudXq4pcj39X49uOK2X142O0\n",
       "Tz5/u/7TVybqH0rSya6ZBwD21/gubbrgWdDgEOx9WUhfBaC2ibcEBYm7a7x+ukrBMNcEZggyR0TE\n",
       "T8zUPjikQ4VosQZbTpS4vqizBKvqmvjsqnpfzaZyx9JPiz1/bfGKdgD45XB1zoIMzYbfTdS/NClB\n",
       "Gct0USiY3YL/g0LHy/uq/Ef6uo5+n0R/vyhp17Klpge763f8rMu6YU/zrn2nml+2WtH+Z+5IAAFc\n",
       "2bUTdTDOSNa9+cQY7YLsOIXhevEkCvzph7a8laecz/Un/z4/Ae04XeL3UQb57IwU9ZDr9UuKVajv\n",
       "nxp1+1UVIo/LjztZkKH59fO3G/JemqCfmaCRqbqbd90ZZ8FfjtkfAyD0J/9+C2h1hDwsSxvGjNDc\n",
       "b4zk5NfrSwiQblLHzZhg+Jf4aPlUwpDqkQqa9nimbt1/TDH8OitGMaQnj+RJS6B1fbF7SY1TqO5v\n",
       "/v0WAADl1f7zokgS7s7VT2DZ7pegUjBM7mjtiDZbcN4j0YrHH0rXpCtY0qPX0cVL0rv5jv/ZXend\n",
       "0u/EESYBAFBU4T4Qa5TflZOhTe7pmKpaP8kCVUVw1+yhXfJWvn1P3hnXi33JsTN6PnP3hHZ8Z3/h\n",
       "aLHzmkNPuPj7Bc/F/Q38CwjTpSwQXgE4Vmwry9tpfq/ZFgqFMy4AVDtCvi8rvMvOmv0N4YwbVgEA\n",
       "sPM72/KVnzfspmH7HQGCRLG2yL1+z8XwvPcdCbsAANh+xPzstgMtxeGKt+6MK3/tacfvwhWvIwMi\n",
       "oKEBtm0H7W+UVfkc/Y1V0BhoPlDr/w1w/eu1vjIgAgDg22OtX6/eYfnEz/focrZTHAFR+PSs56/7\n",
       "q32nwpjazxgwAQCwcU/T62t3WL7r6/jVRa6/byp1rei+Z98ZUAEAhEPHPc8fKnTU9nbgtnOe8h0l\n",
       "9hcGIqmODLQAHCy2Xti6v/XNRivf43f4fFvIteu854+VHnR7q9tfBlwAAGz+pnndB9vM26UebAe8\n",
       "SLHujPOTPVW+rwY+sxskAAC2HrA8t2Vvc7ffP1r9o+vwR2dcr92InIAbKKC1FZ5tB1tf+/G8p8sv\n",
       "N/9Q5zd/XR34LYCwV5JdccMEAMDBk45DH243r/X4xGvqxFa/GNpS7n6rwOwNWwHVE26oAADYurf1\n",
       "zx/utOzt+DMKYM0p17YtZZ5VNzqfsB2HewG1WXE8PoZ7gOclbTIvynZf9JV+fqZtfgs/8F/Nu5rB\n",
       "EIBmJ+8QRMmpU7EzGRsf2FzuePqYRbzh/zE26EwdrT10f6r6o8HOYzCJB9Dpff8tbnGLG8L/A/WE\n",
       "roTBs2RqAAAAAElFTkSuQmCC'\n",
       "     style='height:25px; border-radius:12px; display: inline-block; float: left; vertical-align: middle'></img>\n",
       "\n",
       "\n",
       "  <img src='data:image/png;base64,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'\n",
       "       style='height:15px; border-radius:12px; display: inline-block; float: left'></img>\n",
       "  \n",
       "\n",
       "\n",
       "  <img src='data:image/png;base64,iVBORw0KGgoAAAANSUhEUgAAACAAAAAgCAYAAABzenr0AAAABHNCSVQICAgIfAhkiAAAAAlwSFlz\n",
       "AAAFMAAABTABZarKtgAAABl0RVh0U29mdHdhcmUAd3d3Lmlua3NjYXBlLm9yZ5vuPBoAAArNSURB\n",
       "VFiFnVd5VFNXGv/ee0kgGyQhbFoXIKCFYEXEDVErTucMoKUOWA/VLsNSLPQgFTOdyrHPiIp1lFIQ\n",
       "OlaPShEG3EpPcQmISCuV1bQ1CLKIULeQhJA9JO+9+UMT0x5aPfOdc895373f/e7v/t537/ddBF5Q\n",
       "JBIJl81mJwCACEVRQBCEQhAEAQCgnghCURRCkmS7Wq2+WlJSYn0Rv8jzDHAcD0EQJIVGo5mFQuGF\n",
       "jIyMu39kq1KpkOrq6gU6nS6aIAiGzWY7VVBQ0P9/AcjNzWXy+fxcOp2uiY+Przm0d6+n8dblv/Fo\n",
       "kzM4SzYfPlRePvFnjnt6ehh1dXVv2mw2nlar/byoqMj8wgBwHBchCJIZEhJSeu1yHVi7vtu02t8+\n",
       "NykQ7BMWoOUMhXQsXLv5IQAwSJJEEASxcDicoeTk5DtCoZBy9XX69Gnv3t7ebJIky3EcH3guAKlU\n",
       "GoGiaOKWLVsOvhs7/9XXPMde3/IyIFbMnaPDuD5AUdQuOf2XlD0npTExMWYAgNbWVpZcLg8xGAzB\n",
       "JEnSvby82tPT052LaTQatLy8fBtJkt/s3Lnz5h8CwHFcRKPRNu/YsePAjh072KTs0IGCxRg8RgUB\n",
       "TGpSx6cmHgMAfNqN6Xa1GvJ/D35gYAAViURkcXHxUrPZHDRv3rxv4uLiDI7xPXv2bLdYLBUFBQWD\n",
       "jj7M8ZGbm8tkMpmSrKysQiaTScXGxtpqL7dManT6tcu5mgEWWJyOhicozpk+c3NsbKzNFcBbWWEf\n",
       "1Td9/upA30i3ZJv0h8bGxiSFQmFcuHDhOACAWCy+0d3dvX3lypUtzc3N9t8AiIuLk4SEhByLiooy\n",
       "AgAcO3ZsNlPgH3Cttb35JZo+bCYXIQAA9MDiUW7sWS1KN687w6Mera2twa2trfMvXboUOS28Pyb1\n",
       "U08McRtf/sXBSmt5cc35pqamVQqFwhoZGallMpnU/fv3e7RaberVq1d/AABAn1IfQqfTNRs3blQB\n",
       "AFy+fJk7Nja2XCKRnD3dNSorusPq6NfTPR+gPiEEoLRFXO1tS2+zavv27ReftjNttyr0S1/j0rUP\n",
       "PEJQwNwQYGgAACQSyXmNRhMtk8lYAAApKSlKDMP0+fn5QU4ACIKkxMfH1zjYuHnz5uspKSlOfdX7\n",
       "u68fvOePcCzKQR4YVCgATGfa/F3pnzaHWOAXSDyaMCqH2+r8VXErP3D+snXr1tV2dXW94dATExOr\n",
       "6XT6JgAAVCKRcDEMM4WHh9sAAHJyUqNu//wDymKx7AAAVVVVPiaTKXxByrYMvBsxEMSTwPXhuL+8\n",
       "e/fu9fv371+flvbemogYNz+TnsBOFEwMFO8/KzEYDKFVVVX+AAChoaGT7u7ud48ePRro0DEMs+bl\n",
       "5bFRNpud4O3tfdGBzq5uy/5wTUPM/q2zC9atmbVqeHg4Pi0t7WxGRoZFH5rw76I7LI8HqHfwPL7d\n",
       "rfVagzw1NfW81t4ePUfsP/OrnWZ6fPSuUqFQSEkkkrOjo6OvuQR5q0ajiXLoPj4+lzgcTjwKACLH\n",
       "9SqXy2kzhBO8haGo+UA2wZW+p880DxeveGt9aHx9fT09ctlq3sC0NT9e6xsbjuZblSxl7wKtVotM\n",
       "m6PnXvlmZJBtX91CEMQsxyJsNlteXl4udugIghAajQYFAEhPTx9AEGQOimGY8y4oLt63KlJkdB4t\n",
       "P282Z/c/dPrDH04ktJ9P2tfWXP3+2o1vHzunEp6Xq0lsGt08KzUrcSGTQ3n3XeefLCs5UqnT6Rap\n",
       "VCoEACA7O/snvV4f5gJooLa2NsihoygKKEVRzquTND2OCpttGXdG1tOxwOlgzdvE9v30rV+m3W5I\n",
       "2jfJNQmLH85QUUzPNTwvkAx0+vVGhq2/VV9fT+dyuZ01NTXOXQOA3fGxevXq2waDYY5r8KIoij5b\n",
       "jzB5Cz2oKdOo0erOm+1tVuVtBMZXElNMRJR1fvvjx9iPLQ/RjpuB0Xu/Vp7YmH1864YNG3oNBkPw\n",
       "VD7mzp1rJUnSzZUBmqsBggAgGFC/n6jVA+3WoN3tu1Gg39cg2tEx1Cg3CIJHsclxnl2HRorMN8Z0\n",
       "fRW+vr7GJ36Q56Z5h9BIknzGAMJWtvdQYs0EZe3/FSwqk5tpXEMb1JoYD+n8xRdQJl/fMPEgzKhS\n",
       "L40KCD7lGzg92qIyovpb3y/msT2un2psvFpWVvYyl8vtc1nDSXFXV5c7iqLOtEyS5LNBAADfWeKm\n",
       "Ly4uuvR1++sfv51/P5sfnHm2/Iy+mBmwsaHJbpt+Q0jHSS7TZ/PSNVkNJ/973OxtemD1s91CPb12\n",
       "h9MfvZsk5meo1eqo5ORkxTNWn7HR1tY2l8PhOAsUiqIolCRJcETtv/61qzNySYK5trZ2TCgUUiwW\n",
       "S1FSUhLR+bA/kAzwXcAbHa/cFhrTXrJ/v+7IkSPu3Je4Xm5eboJv2wba5QbO5fQwxhsP679Y+nFO\n",
       "jgAAoKSkJILFYjnBGI1G0YYNGwYBnqRoiqIQlKKojurq6gUAAAKBgKQoiuGYkJWVpTCZTOKmI1Xd\n",
       "HwnDcm+cOnOMw+H0FxYWbqpvqv/r9EV+bky+O+/QoUPiqJRt9JphTLFHbKBCR87tWL9EPN9oNIZn\n",
       "ZWUpXHaMCQQCEgCgsrIyEgBuoGq1+qpOp4t2GPH5/BvFxcVLHXpgYGDD8ePH/56Xl2cCAMjMzOxP\n",
       "S0s7pWfow4RCbz/fAF9RT0+P9yeffHJySSqev+9nxLD1FaAlTR8vlJ8vxxzsFhUVLRMIBB0OvwaD\n",
       "YRlFUdfQkpISK0EQ9J6eHgYAQEZGxl2z2Rw0MjJCBwBITk5+xOVyfzpw4ECSw5lQKKQIbxtJm4EN\n",
       "8eZ7jPz0oNv+dK5FG/jq54eH+IFr/S1KabBy0UerAvI+++wzD4vFEpCWljYEACCTyVh2ux3FcXwS\n",
       "BQCw2WxVdXV1bzrQRURE1FVVVTn1zMzM/pkzZ35/9OjRd0pLS19RqVQIy4/tCwDgOcPTQvFQEQBA\n",
       "aWnpK0ERK2LbyVllN341GUJ4YDu8zD5bKyur7O+85tx9Z2fnO1ar9QjA04KkpaVFs2LFir8olcq7\n",
       "YWFhJpFINNnX16drbGyMjY6Ovg0AIBaLjcuXL5d3d3d7XbhwIW704b3F479MeD1qVfJ5Og/bvb4R\n",
       "LwaDMZabm9uwflNa/z/3HOIv5NsDEK7XS7FeevXPvYNLvm5S/GglCK5KpZorlUobXE8g5ObmMqVS\n",
       "6UG1Wu1BURSHoijOiRMnwgoLC7coFAqBo+9Fm0KhEKStmvvto3TeucFN7pVJYbytarXaQyqVHsRx\n",
       "3N15TF1BuBaljr4rV66wOzo63mAymXdzcnKuwwtIUVHRMqvVGkgQxMV7NXvyJijGvcNXB/7z5Zdf\n",
       "bicI4gSO40NTAgD4bVnuODIAT2pElUq1FEEQO4fD6QsPD++fqixHEATj8/ntjoCrqKhwS0hIsJWV\n",
       "leURBHEOx3G563pT3tn5+flBDAbjg6CgoMMpKSlK17GhoSFMJpMFPk04DJIkEQzDzCwW6+5UD5Oa\n",
       "mhrfO3fufECS5GHXnf8pAAAAHMfdURTdimGYPjExsTo0NHTyj2ynEplMxurs7HyHIAiKJMlSHMct\n",
       "U9k9N2vl5+cH0en0TRiGWX18fC65vnh+LxqNBq2oqFhgMpmi7XY7arVaj+zdu/fxn/l/4bSZl5fH\n",
       "5nK5CQAQMtXznCRJePpEbwOAZhzHX4ix/wHzzC/tu64gcwAAAABJRU5ErkJggg=='\n",
       "       style='height:15px; border-radius:12px; display: inline-block; float: left'></img>\n",
       "  \n",
       "\n",
       "\n",
       "</div>\n"
      ]
     },
     "metadata": {},
     "output_type": "display_data"
    }
   ],
   "source": [
    "import itertools\n",
    "import scipy.signal as signal\n",
    "import holoviews as hv\n",
    "import pint\n",
    "from types import SimpleNamespace\n",
    "from myst_nb import glue\n",
    "ureg = pint.UnitRegistry()\n",
    "ureg.default_format = \"~P\"\n",
    "hv.extension(\"bokeh\", \"matplotlib\")\n",
    "%matplotlib inline"
   ]
  },
  {
   "cell_type": "code",
   "execution_count": 4,
   "id": "6d71d8af-1478-4ad2-bd45-5aa39df3d99b",
   "metadata": {
    "editable": true,
    "slideshow": {
     "slide_type": ""
    },
    "tags": [
     "remove-cell",
     "active-ipynb"
    ]
   },
   "outputs": [],
   "source": [
    "def tqdm(x, *args, **kwds): return x  # Remove progress bars when running with Jupyter Book"
   ]
  },
  {
   "cell_type": "code",
   "execution_count": 5,
   "id": "6ca4c7e1-fae7-4646-9225-b33d05684d93",
   "metadata": {
    "editable": true,
    "slideshow": {
     "slide_type": ""
    },
    "tags": [
     "active-ipynb",
     "skip-execution"
    ]
   },
   "outputs": [],
   "source": [
    "from tqdm.notebook import tqdm"
   ]
  },
  {
   "cell_type": "code",
   "execution_count": 6,
   "id": "b85f2de9-8a48-4e44-9d7e-bc2cf9eb71e5",
   "metadata": {
    "editable": true,
    "slideshow": {
     "slide_type": ""
    },
    "tags": [
     "active-ipynb",
     "hide-input"
    ]
   },
   "outputs": [],
   "source": [
    "dims = SimpleNamespace(\n",
    "    t  = hv.Dimension(\"t\", label=\"time\", unit=\"ms\"),\n",
    "    Δt = hv.Dimension(\"Δt\", label=\"time lag\", unit=\"ms\"),\n",
    "    ξ  = hv.Dimension(\"ξ\"),\n",
    "    ξ2 = hv.Dimension(\"ξ2\", label=\"⟨ξ²⟩\"),\n",
    "    T  = hv.Dimension(\"T\", label=\"realization length\", unit=\"ms\"),\n",
    "    σ  = hv.Dimension(\"σ\", label=\"noise strength\", unit=\"√ms\"),\n",
    "    τ  = hv.Dimension(\"τ\", label=\"correlation length\", unit=\"ms\"),\n",
    "    ρ  = hv.Dimension(\"ρ\", label=\"impulse density\"),\n",
    "    N  = hv.Dimension(\"N\", label=\"# realizations\")\n",
    ")\n",
    "colors = hv.Cycle(\"Dark2\").values"
   ]
  },
  {
   "cell_type": "code",
   "execution_count": 11,
   "id": "30f8dfd5-fd5d-4294-86d1-cea96fc4b29b",
   "metadata": {
    "editable": true,
    "slideshow": {
     "slide_type": ""
    },
    "tags": [
     "remove-cell",
     "active-ipynb"
    ]
   },
   "outputs": [
    {
     "data": {
      "image/png": "[encoded data removed]",
      "text/plain": [
       "<Figure size 300x300 with 1 Axes>"
      ]
     },
     "metadata": {
      "scrapbook": {
       "mime_prefix": "",
       "name": "norm_autocorr"
      }
     },
     "output_type": "display_data"
    }
   ],
   "source": [
    "N = 1000\n",
    "_lags = signal.correlation_lags(N, N)\n",
    "norm_autocorr = hv.Curve(zip(_lags, signal.correlate(np.ones(N), np.ones(N))),\n",
    "               kdims=\"lag (l)\", vdims=\"C\") \n",
    "norm_autocorr.opts(\n",
    "    hv.opts.Curve(title=\"Unnormalized correlation\\nof a flat function\",\n",
    "                  ylabel=\"\",\n",
    "                  fontsize={\"title\": \"10pt\"}),\n",
    "    hv.opts.Curve(height=200, width=250, backend=\"bokeh\"),\n",
    "    hv.opts.Curve(title=\"Unnormalized correlation\\nof a flat function\",\n",
    "                  ylabel=\"\", fontsize={\"title\": \"small\", \"labels\": \"small\", \"ticks\": \"x-small\"},\n",
    "                  fig_inches=3, aspect=3,\n",
    "                  backend=\"matplotlib\")\n",
    ")\n",
    "\n",
    "norm_autocorr_fig = hv.render(norm_autocorr, backend=\"matplotlib\")\n",
    "glue(\"norm_autocorr\", norm_autocorr_fig, display=True);"
   ]
  },
  {
   "cell_type": "code",
   "execution_count": 12,
   "id": "1476bbd1-186c-437f-837d-884fefc10171",
   "metadata": {
    "editable": true,
    "slideshow": {
     "slide_type": ""
    },
    "tags": [
     "active-ipynb",
     "remove-cell"
    ]
   },
   "outputs": [],
   "source": [
    "n_realizations_shown = 10\n",
    "seedseq = np.random.SeedSequence(6168912654954)\n",
    "Tlst = [50.]\n",
    "σlst = [0.33, 1., 9.]\n",
    "τlst = [1., 5., 25.]\n",
    "ρlst = [1, 5, 30, 200]\n",
    "Nlst = [20]\n",
    "exp_conds = list(itertools.product(Tlst, σlst, τlst, ρlst, Nlst))"
   ]
  },
  {
   "cell_type": "code",
   "execution_count": 13,
   "id": "3beabab2-40bd-4ea3-b6a7-bf59dedc4e7d",
   "metadata": {
    "editable": true,
    "slideshow": {
     "slide_type": ""
    },
    "tags": [
     "active-ipynb",
     "remove-cell"
    ]
   },
   "outputs": [],
   "source": [
    "frames_realizations = {}\n",
    "frames_autocorr = {}\n",
    "ms = ureg.ms"
   ]
  },
  {
   "cell_type": "markdown",
   "id": "4a067ab6-9039-4544-9049-ba0a0e9ad78c",
   "metadata": {
    "tags": []
   },
   "source": [
    ":::{admonition} Computing correlations with `scipy.signal`\n",
    ":class: caution, margin, dropdown\n",
    "\n",
    "The SciPy function `signal.correlate` (along with its companion `signal.correlation_lags` to compute the lag axis) is a convenient way to compute the autocorrelation. However before plotting the result, one must take care to normalize it correctly. Indeed, if $x$ is a discretized signal with $N$ time bins, and $C_k$ is its discretized correlation function at lag $k$, then the definition used by `correlate` is\n",
    "\\begin{equation}\n",
    "C_k = \\Braket{x_l x_{l+k}} = \\sum_{l=0}^{N-1-k} x_l x_{l+k} \\,.\n",
    "\\end{equation}\n",
    "Note that the number of terms depends on $k$. We can see this clearly when computing the autocorrelation of the constant function $x_l = 1$: the result should be flat (albeit dependent on $N$), but instead we get a triangular function peaking at zero:  \n",
    "{glue:}`norm_autocorr`  \n",
    "where the value on the $y$ axis is exactly the number of terms contributing to that lag.\n",
    "To avoid this artifical triangular decay, in the code we normalize the result by the number of terms contributing to each lag; in terms of a continuous time autocorrelation, this is equivalent to normalizing by the value at zero:\n",
    "\\begin{equation}\n",
    "C^{\\text{normed}}(s) = \\frac{C(s)}{C(0)} \\,.\n",
    "\\end{equation}\n",
    ":::"
   ]
  },
  {
   "cell_type": "markdown",
   "id": "c2f8eeb0-c09b-4a86-93f9-6b69e9ea2fa2",
   "metadata": {
    "editable": true,
    "slideshow": {
     "slide_type": ""
    },
    "tags": []
   },
   "source": []
  },
  {
   "cell_type": "code",
   "execution_count": 14,
   "id": "93782e99-1367-4574-8d40-39a14997f8cb",
   "metadata": {
    "editable": true,
    "slideshow": {
     "slide_type": ""
    },
    "tags": [
     "active-ipynb",
     "hide-input"
    ]
   },
   "outputs": [
    {
     "data": {
      "application/vnd.jupyter.widget-view+json": {
       "model_id": "91f02ce0273b4552993daa11c55cd1ae",
       "version_major": 2,
       "version_minor": 0
      },
      "text/plain": [
       "Exp. cond.:   0%|          | 0/36 [00:00<?, ?it/s]"
      ]
     },
     "metadata": {},
     "output_type": "display_data"
    },
    {
     "data": {
      "application/vnd.jupyter.widget-view+json": {
       "model_id": "",
       "version_major": 2,
       "version_minor": 0
      },
      "text/plain": [
       "Seeds:   0%|          | 0/20 [00:00<?, ?it/s]"
      ]
     },
     "metadata": {},
     "output_type": "display_data"
    },
    {
     "data": {
      "application/vnd.jupyter.widget-view+json": {
       "model_id": "",
       "version_major": 2,
       "version_minor": 0
      },
      "text/plain": [
       "Seeds:   0%|          | 0/20 [00:00<?, ?it/s]"
      ]
     },
     "metadata": {},
     "output_type": "display_data"
    },
    {
     "data": {
      "application/vnd.jupyter.widget-view+json": {
       "model_id": "",
       "version_major": 2,
       "version_minor": 0
      },
      "text/plain": [
       "Seeds:   0%|          | 0/20 [00:00<?, ?it/s]"
      ]
     },
     "metadata": {},
     "output_type": "display_data"
    },
    {
     "data": {
      "application/vnd.jupyter.widget-view+json": {
       "model_id": "",
       "version_major": 2,
       "version_minor": 0
      },
      "text/plain": [
       "Seeds:   0%|          | 0/20 [00:00<?, ?it/s]"
      ]
     },
     "metadata": {},
     "output_type": "display_data"
    },
    {
     "data": {
      "application/vnd.jupyter.widget-view+json": {
       "model_id": "",
       "version_major": 2,
       "version_minor": 0
      },
      "text/plain": [
       "Seeds:   0%|          | 0/20 [00:00<?, ?it/s]"
      ]
     },
     "metadata": {},
     "output_type": "display_data"
    },
    {
     "data": {
      "application/vnd.jupyter.widget-view+json": {
       "model_id": "",
       "version_major": 2,
       "version_minor": 0
      },
      "text/plain": [
       "Seeds:   0%|          | 0/20 [00:00<?, ?it/s]"
      ]
     },
     "metadata": {},
     "output_type": "display_data"
    },
    {
     "data": {
      "application/vnd.jupyter.widget-view+json": {
       "model_id": "",
       "version_major": 2,
       "version_minor": 0
      },
      "text/plain": [
       "Seeds:   0%|          | 0/20 [00:00<?, ?it/s]"
      ]
     },
     "metadata": {},
     "output_type": "display_data"
    },
    {
     "data": {
      "application/vnd.jupyter.widget-view+json": {
       "model_id": "",
       "version_major": 2,
       "version_minor": 0
      },
      "text/plain": [
       "Seeds:   0%|          | 0/20 [00:00<?, ?it/s]"
      ]
     },
     "metadata": {},
     "output_type": "display_data"
    },
    {
     "data": {
      "application/vnd.jupyter.widget-view+json": {
       "model_id": "",
       "version_major": 2,
       "version_minor": 0
      },
      "text/plain": [
       "Seeds:   0%|          | 0/20 [00:00<?, ?it/s]"
      ]
     },
     "metadata": {},
     "output_type": "display_data"
    },
    {
     "data": {
      "application/vnd.jupyter.widget-view+json": {
       "model_id": "",
       "version_major": 2,
       "version_minor": 0
      },
      "text/plain": [
       "Seeds:   0%|          | 0/20 [00:00<?, ?it/s]"
      ]
     },
     "metadata": {},
     "output_type": "display_data"
    },
    {
     "data": {
      "application/vnd.jupyter.widget-view+json": {
       "model_id": "",
       "version_major": 2,
       "version_minor": 0
      },
      "text/plain": [
       "Seeds:   0%|          | 0/20 [00:00<?, ?it/s]"
      ]
     },
     "metadata": {},
     "output_type": "display_data"
    },
    {
     "data": {
      "application/vnd.jupyter.widget-view+json": {
       "model_id": "",
       "version_major": 2,
       "version_minor": 0
      },
      "text/plain": [
       "Seeds:   0%|          | 0/20 [00:00<?, ?it/s]"
      ]
     },
     "metadata": {},
     "output_type": "display_data"
    },
    {
     "data": {
      "application/vnd.jupyter.widget-view+json": {
       "model_id": "",
       "version_major": 2,
       "version_minor": 0
      },
      "text/plain": [
       "Seeds:   0%|          | 0/20 [00:00<?, ?it/s]"
      ]
     },
     "metadata": {},
     "output_type": "display_data"
    },
    {
     "data": {
      "application/vnd.jupyter.widget-view+json": {
       "model_id": "",
       "version_major": 2,
       "version_minor": 0
      },
      "text/plain": [
       "Seeds:   0%|          | 0/20 [00:00<?, ?it/s]"
      ]
     },
     "metadata": {},
     "output_type": "display_data"
    },
    {
     "data": {
      "application/vnd.jupyter.widget-view+json": {
       "model_id": "",
       "version_major": 2,
       "version_minor": 0
      },
      "text/plain": [
       "Seeds:   0%|          | 0/20 [00:00<?, ?it/s]"
      ]
     },
     "metadata": {},
     "output_type": "display_data"
    },
    {
     "data": {
      "application/vnd.jupyter.widget-view+json": {
       "model_id": "",
       "version_major": 2,
       "version_minor": 0
      },
      "text/plain": [
       "Seeds:   0%|          | 0/20 [00:00<?, ?it/s]"
      ]
     },
     "metadata": {},
     "output_type": "display_data"
    },
    {
     "data": {
      "application/vnd.jupyter.widget-view+json": {
       "model_id": "",
       "version_major": 2,
       "version_minor": 0
      },
      "text/plain": [
       "Seeds:   0%|          | 0/20 [00:00<?, ?it/s]"
      ]
     },
     "metadata": {},
     "output_type": "display_data"
    },
    {
     "data": {
      "application/vnd.jupyter.widget-view+json": {
       "model_id": "",
       "version_major": 2,
       "version_minor": 0
      },
      "text/plain": [
       "Seeds:   0%|          | 0/20 [00:00<?, ?it/s]"
      ]
     },
     "metadata": {},
     "output_type": "display_data"
    },
    {
     "data": {
      "application/vnd.jupyter.widget-view+json": {
       "model_id": "",
       "version_major": 2,
       "version_minor": 0
      },
      "text/plain": [
       "Seeds:   0%|          | 0/20 [00:00<?, ?it/s]"
      ]
     },
     "metadata": {},
     "output_type": "display_data"
    },
    {
     "data": {
      "application/vnd.jupyter.widget-view+json": {
       "model_id": "",
       "version_major": 2,
       "version_minor": 0
      },
      "text/plain": [
       "Seeds:   0%|          | 0/20 [00:00<?, ?it/s]"
      ]
     },
     "metadata": {},
     "output_type": "display_data"
    },
    {
     "data": {
      "application/vnd.jupyter.widget-view+json": {
       "model_id": "",
       "version_major": 2,
       "version_minor": 0
      },
      "text/plain": [
       "Seeds:   0%|          | 0/20 [00:00<?, ?it/s]"
      ]
     },
     "metadata": {},
     "output_type": "display_data"
    },
    {
     "data": {
      "application/vnd.jupyter.widget-view+json": {
       "model_id": "",
       "version_major": 2,
       "version_minor": 0
      },
      "text/plain": [
       "Seeds:   0%|          | 0/20 [00:00<?, ?it/s]"
      ]
     },
     "metadata": {},
     "output_type": "display_data"
    },
    {
     "data": {
      "application/vnd.jupyter.widget-view+json": {
       "model_id": "",
       "version_major": 2,
       "version_minor": 0
      },
      "text/plain": [
       "Seeds:   0%|          | 0/20 [00:00<?, ?it/s]"
      ]
     },
     "metadata": {},
     "output_type": "display_data"
    },
    {
     "data": {
      "application/vnd.jupyter.widget-view+json": {
       "model_id": "",
       "version_major": 2,
       "version_minor": 0
      },
      "text/plain": [
       "Seeds:   0%|          | 0/20 [00:00<?, ?it/s]"
      ]
     },
     "metadata": {},
     "output_type": "display_data"
    },
    {
     "data": {
      "application/vnd.jupyter.widget-view+json": {
       "model_id": "",
       "version_major": 2,
       "version_minor": 0
      },
      "text/plain": [
       "Seeds:   0%|          | 0/20 [00:00<?, ?it/s]"
      ]
     },
     "metadata": {},
     "output_type": "display_data"
    },
    {
     "data": {
      "application/vnd.jupyter.widget-view+json": {
       "model_id": "",
       "version_major": 2,
       "version_minor": 0
      },
      "text/plain": [
       "Seeds:   0%|          | 0/20 [00:00<?, ?it/s]"
      ]
     },
     "metadata": {},
     "output_type": "display_data"
    },
    {
     "data": {
      "application/vnd.jupyter.widget-view+json": {
       "model_id": "",
       "version_major": 2,
       "version_minor": 0
      },
      "text/plain": [
       "Seeds:   0%|          | 0/20 [00:00<?, ?it/s]"
      ]
     },
     "metadata": {},
     "output_type": "display_data"
    },
    {
     "data": {
      "application/vnd.jupyter.widget-view+json": {
       "model_id": "",
       "version_major": 2,
       "version_minor": 0
      },
      "text/plain": [
       "Seeds:   0%|          | 0/20 [00:00<?, ?it/s]"
      ]
     },
     "metadata": {},
     "output_type": "display_data"
    },
    {
     "data": {
      "application/vnd.jupyter.widget-view+json": {
       "model_id": "",
       "version_major": 2,
       "version_minor": 0
      },
      "text/plain": [
       "Seeds:   0%|          | 0/20 [00:00<?, ?it/s]"
      ]
     },
     "metadata": {},
     "output_type": "display_data"
    },
    {
     "data": {
      "application/vnd.jupyter.widget-view+json": {
       "model_id": "",
       "version_major": 2,
       "version_minor": 0
      },
      "text/plain": [
       "Seeds:   0%|          | 0/20 [00:00<?, ?it/s]"
      ]
     },
     "metadata": {},
     "output_type": "display_data"
    },
    {
     "data": {
      "application/vnd.jupyter.widget-view+json": {
       "model_id": "",
       "version_major": 2,
       "version_minor": 0
      },
      "text/plain": [
       "Seeds:   0%|          | 0/20 [00:00<?, ?it/s]"
      ]
     },
     "metadata": {},
     "output_type": "display_data"
    },
    {
     "data": {
      "application/vnd.jupyter.widget-view+json": {
       "model_id": "",
       "version_major": 2,
       "version_minor": 0
      },
      "text/plain": [
       "Seeds:   0%|          | 0/20 [00:00<?, ?it/s]"
      ]
     },
     "metadata": {},
     "output_type": "display_data"
    },
    {
     "data": {
      "application/vnd.jupyter.widget-view+json": {
       "model_id": "",
       "version_major": 2,
       "version_minor": 0
      },
      "text/plain": [
       "Seeds:   0%|          | 0/20 [00:00<?, ?it/s]"
      ]
     },
     "metadata": {},
     "output_type": "display_data"
    },
    {
     "data": {
      "application/vnd.jupyter.widget-view+json": {
       "model_id": "",
       "version_major": 2,
       "version_minor": 0
      },
      "text/plain": [
       "Seeds:   0%|          | 0/20 [00:00<?, ?it/s]"
      ]
     },
     "metadata": {},
     "output_type": "display_data"
    },
    {
     "data": {
      "application/vnd.jupyter.widget-view+json": {
       "model_id": "",
       "version_major": 2,
       "version_minor": 0
      },
      "text/plain": [
       "Seeds:   0%|          | 0/20 [00:00<?, ?it/s]"
      ]
     },
     "metadata": {},
     "output_type": "display_data"
    },
    {
     "data": {
      "application/vnd.jupyter.widget-view+json": {
       "model_id": "",
       "version_major": 2,
       "version_minor": 0
      },
      "text/plain": [
       "Seeds:   0%|          | 0/20 [00:00<?, ?it/s]"
      ]
     },
     "metadata": {},
     "output_type": "display_data"
    }
   ],
   "source": [
    "experiment_iter = tqdm(exp_conds, \"Exp. cond.\")\n",
    "for T, σ, τ, ρ, N in experiment_iter:\n",
    "    if (T, σ, τ, ρ, N) in (frames_realizations.keys() & frames_autocorr.keys())  :\n",
    "        continue\n",
    "    \n",
    "    noise = ColoredNoise(0, T, corr_time=τ, scale=σ, impulse_density=ρ, rng=seedseq)\n",
    "    t_arr = np.linspace(noise.t_min, noise.t_max, int(10*T/noise.τ))\n",
    "\n",
    "    ## Generate the realizations and compute their autocorrelation ##\n",
    "    L = len(t_arr)\n",
    "    Δt = np.diff(t_arr).mean()\n",
    "    norm = signal.correlate(np.ones(L), np.ones(L), mode=\"same\")  # Counts the number of sums which will contribute to each lag\n",
    "    lags = signal.correlation_lags(L, L, mode=\"same\") * Δt\n",
    "    ξ_arr = np.empty((N, L))\n",
    "    Cξ_arr = np.empty((N, L))\n",
    "    for i, key in enumerate(tqdm(seedseq.spawn(N), \"Seeds\", leave=False)):\n",
    "        _noise = noise.new(rng=key)\n",
    "        ξ = np.fromiter((_noise(t) for t in t_arr), count=len(t_arr), dtype=float)\n",
    "        ξ_arr[i] = ξ\n",
    "        Cξ   = signal.correlate(ξ, ξ, mode=\"same\") / norm\n",
    "        Cξ_arr[i] = Cξ\n",
    "    Cξ = Cξ_arr.mean(axis=0)\n",
    "\n",
    "    ## Generator realization curves ##\n",
    "    realization_samples = hv.Overlay([\n",
    "        hv.Curve(zip(t_arr, _ξ), kdims=dims.t, vdims=dims.ξ, label=\"Single realization\")\n",
    "        for _ξ in ξ_arr[:n_realizations_shown]\n",
    "    ])\n",
    "    \n",
    "    ## Generate autocorr curves ##\n",
    "    autocorr_samples = hv.Overlay([\n",
    "        hv.Curve(zip(lags, _Cξ), kdims=dims.Δt, vdims=dims.ξ2, label=\"Single realization\")\n",
    "        for _Cξ in Cξ_arr[:n_realizations_shown]]\n",
    "    )\n",
    "    avg =  hv.Curve(zip(lags, Cξ), kdims=dims.Δt, vdims=dims.ξ2, label=f\"Average ({N} realizations)\")\n",
    "    target = hv.Curve(zip(lags, noise.autocorr(lags)), kdims=dims.Δt, vdims=dims.ξ2, label=\"Theoretical\")\n",
    "    \n",
    "    ## Compute axis range so it is appropriate for mean and target autocorr – individual realizations may be well outside this range ##\n",
    "    ymax = max(avg.range(\"ξ2\")[1], target.range(\"ξ2\")[0])\n",
    "    ymin = min(avg.range(\"ξ2\")[0], target.range(\"ξ2\")[0])\n",
    "    Δy = ymax-ymin\n",
    "    ymax += 0.05*Δy\n",
    "    ymin -= 0.05*Δy\n",
    "    # Round ymin down, round ymax up\n",
    "    p = math.floor(np.log10(ymax-ymin)) + 2  # +2: between 10 and 100 ticks in the range\n",
    "    new_range = (round(math.floor(ymin * 10**p) / 10**p, p),\n",
    "                 round(math.ceil (ymax * 10**p) / 10**p, p))\n",
    "\n",
    "    ## Assemble figures ##\n",
    "    # Use random shades of grey for realization curves so we can distinguish them\n",
    "    shades = np.random.uniform(.45, .8, size=n_realizations_shown)\n",
    "    \n",
    "    fig_autocorr = autocorr_samples * avg * target\n",
    "    fig_autocorr.opts(ylim=new_range)\n",
    "    fig_autocorr.opts(\n",
    "        hv.opts.Curve(height=300, width=400),\n",
    "        hv.opts.Curve(\"Curve.Single_realization\", color=\"#DDD\"),\n",
    "        hv.opts.Curve(\"Curve.Average\", color=colors[0]),\n",
    "        hv.opts.Curve(\"Curve.Prescribed\", color=colors[1], line_dash=\"dashed\"),\n",
    "        hv.opts.Overlay(title=\"Autocorrelation\", legend_position=\"top\"),\n",
    "    )\n",
    "    for curve, c in zip(fig_autocorr.Curve.Single_realization, shades):\n",
    "        curve.opts(color=(c,)*3)\n",
    "    \n",
    "    fig_realizations = realization_samples\n",
    "    fig_realizations.opts(\n",
    "        hv.opts.Curve(height=300, width=400),\n",
    "        #hv.opts.Curve(\"Curve.Single_realization\", color=\"#DDD\"),\n",
    "        hv.opts.Overlay(title=\"Noise realizations\", show_legend=False)\n",
    "    )\n",
    "    for curve, c in zip(fig_realizations, shades):\n",
    "        curve.opts(color=(c,)*3)\n",
    "    \n",
    "    frames_realizations[(T, σ, τ, ρ, N)] = fig_realizations\n",
    "    frames_autocorr[(T, σ, τ, ρ, N)] = fig_autocorr"
   ]
  },
  {
   "cell_type": "code",
   "execution_count": 37,
   "id": "b264ef54-6588-4cc8-9035-a366c375e3ef",
   "metadata": {
    "editable": true,
    "slideshow": {
     "slide_type": ""
    },
    "tags": [
     "remove-input",
     "active-ipynb"
    ]
   },
   "outputs": [
    {
     "data": {},
     "metadata": {},
     "output_type": "display_data"
    },
    {
     "data": {
      "application/vnd.holoviews_exec.v0+json": "",
      "text/html": [
       "<div id='p5216'>\n",
       "  <div id=\"e6318eec-0f65-4c0f-92ec-1641b106996c\" data-root-id=\"p5216\" style=\"display: contents;\"></div>\n",
       "</div>\n",
       "<script type=\"application/javascript\">(function(root) {\n",
       "  var docs_json = {\"bd5c0967-3c01-451b-a7fc-7ed01ad3a2c1\":{\"version\":\"3.2.0\",\"title\":\"Bokeh Application\",\"roots\":[{\"type\":\"object\",\"name\":\"Row\",\"id\":\"p5216\",\"attributes\":{\"name\":\"Row842863\",\"tags\":[\"embedded\"],\"stylesheets\":[\"\\n:host(.pn-loading.pn-arc):before, .pn-loading.pn-arc:before {\\n  background-image: url(\\\"data:image/svg+xml;base64,PHN2ZyB4bWxucz0iaHR0cDovL3d3dy53My5vcmcvMjAwMC9zdmciIHN0eWxlPSJtYXJnaW46IGF1dG87IGJhY2tncm91bmQ6IG5vbmU7IGRpc3BsYXk6IGJsb2NrOyBzaGFwZS1yZW5kZXJpbmc6IGF1dG87IiB2aWV3Qm94PSIwIDAgMTAwIDEwMCIgcHJlc2VydmVBc3BlY3RSYXRpbz0ieE1pZFlNaWQiPiAgPGNpcmNsZSBjeD0iNTAiIGN5PSI1MCIgZmlsbD0ibm9uZSIgc3Ryb2tlPSIjYzNjM2MzIiBzdHJva2Utd2lkdGg9IjEwIiByPSIzNSIgc3Ryb2tlLWRhc2hhcnJheT0iMTY0LjkzMzYxNDMxMzQ2NDE1IDU2Ljk3Nzg3MTQzNzgyMTM4Ij4gICAgPGFuaW1hdGVUcmFuc2Zvcm0gYXR0cmlidXRlTmFtZT0idHJhbnNmb3JtIiB0eXBlPSJyb3RhdGUiIHJlcGVhdENvdW50PSJpbmRlZmluaXRlIiBkdXI9IjFzIiB2YWx1ZXM9IjAgNTAgNTA7MzYwIDUwIDUwIiBrZXlUaW1lcz0iMDsxIj48L2FuaW1hdGVUcmFuc2Zvcm0+ICA8L2NpcmNsZT48L3N2Zz4=\\\");\\n  background-size: auto calc(min(50%, 400px));\\n}\",{\"type\":\"object\",\"name\":\"ImportedStyleSheet\",\"id\":\"p5219\",\"attributes\":{\"url\":\"https://cdn.holoviz.org/panel/1.2.0/dist/css/loading.css\"}},{\"type\":\"object\",\"name\":\"ImportedStyleSheet\",\"id\":\"p5590\",\"attributes\":{\"url\":\"https://cdn.holoviz.org/panel/1.2.0/dist/css/listpanel.css\"}},{\"type\":\"object\",\"name\":\"ImportedStyleSheet\",\"id\":\"p5217\",\"attributes\":{\"url\":\"https://cdn.holoviz.org/panel/1.2.0/dist/bundled/theme/default.css\"}},{\"type\":\"object\",\"name\":\"ImportedStyleSheet\",\"id\":\"p5218\",\"attributes\":{\"url\":\"https://cdn.holoviz.org/panel/1.2.0/dist/bundled/theme/native.css\"}}],\"margin\":0,\"sizing_mode\":\"stretch_width\",\"align\":\"start\",\"children\":[{\"type\":\"object\",\"name\":\"Spacer\",\"id\":\"p5220\",\"attributes\":{\"name\":\"HSpacer842881\",\"stylesheets\":[\"\\n:host(.pn-loading.pn-arc):before, .pn-loading.pn-arc:before {\\n  background-image: url(\\\"data:image/svg+xml;base64,PHN2ZyB4bWxucz0iaHR0cDovL3d3dy53My5vcmcvMjAwMC9zdmciIHN0eWxlPSJtYXJnaW46IGF1dG87IGJhY2tncm91bmQ6IG5vbmU7IGRpc3BsYXk6IGJsb2NrOyBzaGFwZS1yZW5kZXJpbmc6IGF1dG87IiB2aWV3Qm94PSIwIDAgMTAwIDEwMCIgcHJlc2VydmVBc3BlY3RSYXRpbz0ieE1pZFlNaWQiPiAgPGNpcmNsZSBjeD0iNTAiIGN5PSI1MCIgZmlsbD0ibm9uZSIgc3Ryb2tlPSIjYzNjM2MzIiBzdHJva2Utd2lkdGg9IjEwIiByPSIzNSIgc3Ryb2tlLWRhc2hhcnJheT0iMTY0LjkzMzYxNDMxMzQ2NDE1IDU2Ljk3Nzg3MTQzNzgyMTM4Ij4gICAgPGFuaW1hdGVUcmFuc2Zvcm0gYXR0cmlidXRlTmFtZT0idHJhbnNmb3JtIiB0eXBlPSJyb3RhdGUiIHJlcGVhdENvdW50PSJpbmRlZmluaXRlIiBkdXI9IjFzIiB2YWx1ZXM9IjAgNTAgNTA7MzYwIDUwIDUwIiBrZXlUaW1lcz0iMDsxIj48L2FuaW1hdGVUcmFuc2Zvcm0+ICA8L2NpcmNsZT48L3N2Zz4=\\\");\\n  background-size: auto calc(min(50%, 400px));\\n}\",{\"id\":\"p5219\"},{\"id\":\"p5217\"},{\"id\":\"p5218\"}],\"margin\":0,\"sizing_mode\":\"stretch_width\",\"align\":\"start\"}},{\"type\":\"object\",\"name\":\"GridPlot\",\"id\":\"p5579\",\"attributes\":{\"rows\":null,\"cols\":null,\"toolbar\":{\"type\":\"object\",\"name\":\"Toolbar\",\"id\":\"p5586\",\"attributes\":{\"tools\":[{\"type\":\"object\",\"name\":\"SaveTool\",\"id\":\"p5581\"},{\"type\":\"object\",\"name\":\"ToolProxy\",\"id\":\"p5582\",\"attributes\":{\"tools\":[{\"type\":\"object\",\"name\":\"PanTool\",\"id\":\"p5246\"},{\"type\":\"object\",\"name\":\"PanTool\",\"id\":\"p5436\"}]}},{\"type\":\"object\",\"name\":\"ToolProxy\",\"id\":\"p5583\",\"attributes\":{\"tools\":[{\"type\":\"object\",\"name\":\"WheelZoomTool\",\"id\":\"p5247\"},{\"type\":\"object\",\"name\":\"WheelZoomTool\",\"id\":\"p5437\"}]}},{\"type\":\"object\",\"name\":\"ToolProxy\",\"id\":\"p5584\",\"attributes\":{\"tools\":[{\"type\":\"object\",\"name\":\"BoxZoomTool\",\"id\":\"p5248\",\"attributes\":{\"overlay\":{\"type\":\"object\",\"name\":\"BoxAnnotation\",\"id\":\"p5249\",\"attributes\":{\"syncable\":false,\"level\":\"overlay\",\"visible\":false,\"left_units\":\"canvas\",\"right_units\":\"canvas\",\"bottom_units\":\"canvas\",\"top_units\":\"canvas\",\"line_color\":\"black\",\"line_alpha\":1.0,\"line_width\":2,\"line_dash\":[4,4],\"fill_color\":\"lightgrey\",\"fill_alpha\":0.5}}}},{\"type\":\"object\",\"name\":\"BoxZoomTool\",\"id\":\"p5438\",\"attributes\":{\"overlay\":{\"type\":\"object\",\"name\":\"BoxAnnotation\",\"id\":\"p5439\",\"attributes\":{\"syncable\":false,\"level\":\"overlay\",\"visible\":false,\"left_units\":\"canvas\",\"right_units\":\"canvas\",\"bottom_units\":\"canvas\",\"top_units\":\"canvas\",\"line_color\":\"black\",\"line_alpha\":1.0,\"line_width\":2,\"line_dash\":[4,4],\"fill_color\":\"lightgrey\",\"fill_alpha\":0.5}}}}]}},{\"type\":\"object\",\"name\":\"ToolProxy\",\"id\":\"p5585\",\"attributes\":{\"tools\":[{\"type\":\"object\",\"name\":\"ResetTool\",\"id\":\"p5250\"},{\"type\":\"object\",\"name\":\"ResetTool\",\"id\":\"p5440\"}]}}]}},\"children\":[[{\"type\":\"object\",\"name\":\"Figure\",\"id\":\"p5223\",\"attributes\":{\"width\":500,\"height\":300,\"sizing_mode\":\"fixed\",\"align\":\"start\",\"x_range\":{\"type\":\"object\",\"name\":\"Range1d\",\"id\":\"p5221\",\"attributes\":{\"tags\":[[[\"\\u0394t\",\"time lag\",\"ms\"]]],\"start\":-25.050100200400802,\"end\":24.949899799599198,\"reset_start\":-25.050100200400802,\"reset_end\":24.949899799599198}},\"y_range\":{\"type\":\"object\",\"name\":\"Range1d\",\"id\":\"p5222\",\"attributes\":{\"tags\":[[[\"\\u03be2\",\"\\u27e8\\u03be\\u00b2\\u27e9\",null]]],\"start\":-0.1,\"end\":0.2,\"reset_start\":-0.1,\"reset_end\":0.2}},\"x_scale\":{\"type\":\"object\",\"name\":\"LinearScale\",\"id\":\"p5233\"},\"y_scale\":{\"type\":\"object\",\"name\":\"LinearScale\",\"id\":\"p5234\"},\"title\":{\"type\":\"object\",\"name\":\"Title\",\"id\":\"p5226\",\"attributes\":{\"text\":\"Autocorrelation\",\"text_color\":\"black\",\"text_font_size\":\"12pt\"}},\"renderers\":[{\"type\":\"object\",\"name\":\"GlyphRenderer\",\"id\":\"p5260\",\"attributes\":{\"data_source\":{\"type\":\"object\",\"name\":\"ColumnDataSource\",\"id\":\"p5251\",\"attributes\":{\"selected\":{\"type\":\"object\",\"name\":\"Selection\",\"id\":\"p5252\",\"attributes\":{\"indices\":[],\"line_indices\":[]}},\"selection_policy\":{\"type\":\"object\",\"name\":\"UnionRenderers\",\"id\":\"p5253\"},\"data\":{\"type\":\"map\",\"entries\":[[\"\\u0394t\",{\"type\":\"ndarray\",\"array\":{\"type\":\"bytes\",\"data\":\"lz7iXdMMOcBpwR2iLPM4wDxEWeaF2TjADseUKt+/OMDgSdBuOKY4wLPMC7ORjDjAhU9H9+pyOMBX0oI7RFk4wCpVvn+dPzjA/Nf5w/YlOMDOWjUIUAw4wKHdcEyp8jfAc2CskALZN8BF4+fUW783wBhmIxm1pTfA6uheXQ6MN8C8a5qhZ3I3wI/u1eXAWDfAYXERKho/N8Az9ExucyU3wAZ3iLLMCzfA2PnD9iXyNsCrfP86f9g2wH3/On/YvjbAT4J2wzGlNsAiBbIHi4s2wPSH7UvkcTbAxgopkD1YNsCZjWTUlj42wGsQoBjwJDbAPZPbXEkLNsAQFhehovE1wOKYUuX71zXAtBuOKVW+NcCHnsltrqQ1wFkhBbIHizXAK6RA9mBxNcD+Jnw6ulc1wNCpt34TPjXAoizzwmwkNcB1ry4Hxgo1wEcyaksf8TTAGbWlj3jXNMDsN+HT0b00wL66HBgrpDTAkD1YXISKNMBjwJOg3XA0wDVDz+Q2VzTAB8YKKZA9NMDaSEZt6SM0wKzLgbFCCjTAfk699ZvwM8BR0fg59dYzwCNUNH5OvTPA9dZvwqejM8DIWasGAYozwJrc5kpacDPAbF8ij7NWM8A/4l3TDD0zwBFlmRdmIzPA4+fUW78JM8C2ahCgGPAywIjtS+Rx1jLAWnCHKMu8MsAt88JsJKMywP91/rB9iTLA0fg59dZvMsCke3U5MFYywHb+sH2JPDLASIHsweIiMsAbBCgGPAkywO2GY0qV7zHAwAmfju7VMcCSjNrSR7wxwGQPFhehojHAN5JRW/qIMcAJFY2fU28xwNuXyOOsVTHArhoEKAY8McCAnT9sXyIxwFIge7C4CDHAJaO29BHvMMD3JfI4a9UwwMmoLX3EuzDAnCtpwR2iMMBurqQFd4gwwEAx4EnQbjDAE7QbjilVMMDlNlfSgjswwLe5khbcITDAijzOWjUIMMC4fhM+Hd0vwF2EisbPqS/AAYoBT4J2L8Cmj3jXNEMvwEuV71/nDy/A75pm6JncLsCUoN1wTKkuwDmmVPn+dS7A3avLgbFCLsCCsUIKZA8uwCe3uZIW3C3Ay7wwG8moLcBwwqeje3UtwBXIHiwuQi3Auc2VtOAOLcBe0ww9k9sswAPZg8VFqCzAp976Tfh0LMBM5HHWqkEswPHp6F5dDizAlu9f5w/bK8A69dZvwqcrwN/6Tfh0dCvAhADFgCdBK8AoBjwJ2g0rwM0Ls5GM2irAchEqGj+nKsAWF6Gi8XMqwLscGCukQCrAYCKPs1YNKsAEKAY8CdopwKktfcS7pinATjP0TG5zKcDyOGvVIEApwJc+4l3TDCnAPERZ5oXZKMDgSdBuOKYowIVPR/fqcijAKlW+f50/KMDOWjUIUAwowHNgrJAC2SfAGGYjGbWlJ8C8a5qhZ3InwGFxESoaPyfABneIsswLJ8CrfP86f9gmwE+CdsMxpSbA9IftS+RxJsCZjWTUlj4mwD2T21xJCybA4phS5fvXJcCHnsltrqQlwCukQPZgcSXA0Km3fhM+JcB1ry4HxgolwBm1pY941yTAvrocGCukJMBjwJOg3XAkwAfGCimQPSTArMuBsUIKJMBR0fg59dYjwPXWb8KnoyPAmtzmSlpwI8A/4l3TDD0jwOPn1Fu/CSPAiO1L5HHWIsAt88JsJKMiwNH4OfXWbyLAdv6wfYk8IsAbBCgGPAkiwMAJn47u1SHAZA8WF6GiIcAJFY2fU28hwK4aBCgGPCHAUiB7sLgIIcD3JfI4a9UgwJwracEdoiDAQDHgSdBuIMDlNlfSgjsgwIo8zlo1CCDAXYSKxs+pH8Cmj3jXNEMfwO+aZuiZ3B7AOaZU+f51HsCCsUIKZA8ewMu8MBvJqB3AFcgeLC5CHcBe0ww9k9scwKfe+k34dBzA8enoXl0OHMA69dZvwqcbwIQAxYAnQRvAzQuzkYzaGsAWF6Gi8XMawGAij7NWDRrAqS19xLumGcDyOGvVIEAZwDxEWeaF2RjAhU9H9+pyGMDOWjUIUAwYwBhmIxm1pRfAYXERKho/F8CrfP86f9gWwPSH7UvkcRbAPZPbXEkLFsCHnsltrqQVwNCpt34TPhXAGbWlj3jXFMBjwJOg3XAUwKzLgbFCChTA9dZvwqejE8A/4l3TDD0TwIjtS+Rx1hLA0fg59dZvEsAbBCgGPAkSwGQPFhehohHArhoEKAY8EcD3JfI4a9UQwEAx4EnQbhDAijzOWjUIEMCmj3jXNEMPwDmmVPn+dQ7Ay7wwG8moDcBe0ww9k9sMwPHp6F5dDgzAhADFgCdBC8AWF6Gi8XMKwKktfcS7pgnAPERZ5oXZCMDOWjUIUAwIwGFxESoaPwfA9IftS+RxBsCHnsltrqQFwBm1pY941wTArMuBsUIKBMA/4l3TDD0DwNH4OfXWbwLAZA8WF6GiAcD3JfI4a9UAwIo8zlo1CADAOaZU+f51/r9e0ww9k9v8v4QAxYAnQfu/qS19xLum+b/OWjUIUAz4v/SH7Uvkcfa/GbWlj3jX9L8/4l3TDD3zv2QPFhehovG/ijzOWjUI8L9e0ww9k9vsv6ktfcS7pum/9IftS+Rx5r8/4l3TDD3jv4o8zlo1COC/qS19xLum2b8/4l3TDD3Tv6ktfcS7psm/qS19xLumub8AAAAAAAAAAKktfcS7prk/qS19xLumyT8/4l3TDD3TP6ktfcS7ptk/ijzOWjUI4D8/4l3TDD3jP/SH7UvkceY/qS19xLum6T9e0ww9k9vsP4o8zlo1CPA/ZA8WF6Gi8T8/4l3TDD3zPxm1pY941/Q/9IftS+Rx9j/OWjUIUAz4P6ktfcS7pvk/hADFgCdB+z9e0ww9k9v8PzmmVPn+df4/ijzOWjUIAED3JfI4a9UAQGQPFhehogFA0fg59dZvAkA/4l3TDD0DQKzLgbFCCgRAGbWlj3jXBECHnsltrqQFQPSH7UvkcQZAYXERKho/B0DOWjUIUAwIQDxEWeaF2QhAqS19xLumCUAWF6Gi8XMKQIQAxYAnQQtA8enoXl0ODEBe0ww9k9sMQMu8MBvJqA1AOaZU+f51DkCmj3jXNEMPQIo8zlo1CBBAQDHgSdBuEED3JfI4a9UQQK4aBCgGPBFAZA8WF6GiEUAbBCgGPAkSQNH4OfXWbxJAiO1L5HHWEkA/4l3TDD0TQPXWb8KnoxNArMuBsUIKFEBjwJOg3XAUQBm1pY941xRA0Km3fhM+FUCHnsltrqQVQD2T21xJCxZA9IftS+RxFkCrfP86f9gWQGFxESoaPxdAGGYjGbWlF0DOWjUIUAwYQIVPR/fqchhAPERZ5oXZGEDyOGvVIEAZQKktfcS7phlAYCKPs1YNGkAWF6Gi8XMaQM0Ls5GM2hpAhADFgCdBG0A69dZvwqcbQPHp6F5dDhxAp976Tfh0HEBe0ww9k9scQBXIHiwuQh1Ay7wwG8moHUCCsUIKZA8eQDmmVPn+dR5A75pm6JncHkCmj3jXNEMfQF2EisbPqR9AijzOWjUIIEDlNlfSgjsgQEAx4EnQbiBAnCtpwR2iIED3JfI4a9UgQFIge7C4CCFArhoEKAY8IUAJFY2fU28hQGQPFhehoiFAwAmfju7VIUAbBCgGPAkiQHb+sH2JPCJA0fg59dZvIkAt88JsJKMiQIjtS+Rx1iJA4+fUW78JI0A/4l3TDD0jQJrc5kpacCNA9dZvwqejI0BR0fg59dYjQKzLgbFCCiRAB8YKKZA9JEBjwJOg3XAkQL66HBgrpCRAGbWlj3jXJEB1ry4HxgolQNCpt34TPiVAK6RA9mBxJUCHnsltrqQlQOKYUuX71yVAPZPbXEkLJkCZjWTUlj4mQPSH7UvkcSZAT4J2wzGlJkCrfP86f9gmQAZ3iLLMCydAYXERKho/J0C8a5qhZ3InQBhmIxm1pSdAc2CskALZJ0DOWjUIUAwoQCpVvn+dPyhAhU9H9+pyKEDgSdBuOKYoQDxEWeaF2ShAlz7iXdMMKUDyOGvVIEApQE4z9ExucylAqS19xLumKUAEKAY8CdopQGAij7NWDSpAuxwYK6RAKkAWF6Gi8XMqQHIRKho/pypAzQuzkYzaKkAoBjwJ2g0rQIQAxYAnQStA3/pN+HR0K0A69dZvwqcrQJbvX+cP2ytA8enoXl0OLEBM5HHWqkEsQKfe+k34dCxAA9mDxUWoLEBe0ww9k9ssQLnNlbTgDi1AFcgeLC5CLUBwwqeje3UtQMu8MBvJqC1AJ7e5khbcLUCCsUIKZA8uQN2ry4GxQi5AOaZU+f51LkCUoN1wTKkuQO+aZuiZ3C5AS5XvX+cPL0Cmj3jXNEMvQAGKAU+Cdi9AXYSKxs+pL0C4fhM+Hd0vQIo8zlo1CDBAt7mSFtwhMEDlNlfSgjswQBO0G44pVTBAQDHgSdBuMEBurqQFd4gwQJwracEdojBAyagtfcS7MED3JfI4a9UwQCWjtvQR7zBAUiB7sLgIMUCAnT9sXyIxQK4aBCgGPDFA25fI46xVMUAJFY2fU28xQDeSUVv6iDFAZA8WF6GiMUCSjNrSR7wxQMAJn47u1TFA7YZjSpXvMUAbBCgGPAkyQEiB7MHiIjJAdv6wfYk8MkCke3U5MFYyQNH4OfXWbzJA/3X+sH2JMkAt88JsJKMyQFpwhyjLvDJAiO1L5HHWMkC2ahCgGPAyQOPn1Fu/CTNAEWWZF2YjM0A/4l3TDD0zQGxfIo+zVjNAmtzmSlpwM0DIWasGAYozQPXWb8KnozNAI1Q0fk69M0BR0fg59dYzQH5OvfWb8DNArMuBsUIKNEDaSEZt6SM0QAfGCimQPTRANUPP5DZXNEBjwJOg3XA0QJA9WFyEijRAvrocGCukNEDsN+HT0b00QBm1pY941zRARzJqSx/xNEB1ry4Hxgo1QKIs88JsJDVA0Km3fhM+NUD+Jnw6ulc1QCukQPZgcTVAWSEFsgeLNUCHnsltrqQ1QLQbjilVvjVA4phS5fvXNUAQFhehovE1QD2T21xJCzZAaxCgGPAkNkCZjWTUlj42QMYKKZA9WDZA9IftS+RxNkAiBbIHi4s2QE+CdsMxpTZAff86f9i+NkCrfP86f9g2QNj5w/Yl8jZABneIsswLN0Az9ExucyU3QGFxESoaPzdAj+7V5cBYN0C8a5qhZ3I3QOroXl0OjDdAGGYjGbWlN0BF4+fUW783QHNgrJAC2TdAod1wTKnyN0DOWjUIUAw4QPzX+cP2JThAKlW+f50/OEBX0oI7RFk4QIVPR/fqcjhAs8wLs5GMOEDgSdBuOKY4QA7HlCrfvzhAPERZ5oXZOEBpwR2iLPM4QA==\"},\"shape\":[500],\"dtype\":\"float64\",\"order\":\"little\"}],[\"\\u03be2\",{\"type\":\"ndarray\",\"array\":{\"type\":\"bytes\",\"data\":\"yOva/f6Tj794SU01x5OMv4+Rvmk0Uom/qvb2TCDuhb/Fg6P2eYSCv9dhLi5OXn6/KsJ5EwgIeL/wP3dTFChyvxOBZuGQqmm/B+1/1eU0YL89l8zqe69PvyIZ2o8Acha/da98pqWcRj/u87/sFNhWP7owTNOv82A/h/B6GuSiZj9/x6/XMeVsPxbqrJmDE3I/fTxNTOJndj8/JiAGCp57P2bTqKQ47oA/4MGxEtKfhD/FxE48ZuyIPw1qyH5v1o0/7DSsOxytkT8HQFBWC7eUP64h6qN1AZg/litZ/W2Cmz/ZMHLgGS6fP0cV1b2We6E/GgN1t7Vnoz9sjqvjEFSlPysKmKlPOac/OoopMU8QqT8tccrlUdKqPwmeoD0peaw/Qt0qb1r/rT+ju2ilPmCvP24o6aUPTLA/WWYEMCfSsD/Z0VkTnUGxP2g553g9mrE/ED+6k2zcsT9it5C3JAmyP8Ru35vuIbI/ZVme8NIosj+E110fRSCyP4xgv24HC7I/0vcCeQnssT+9a8N4QsaxP3lnd3qJnLE/cEtS3G1xsT8C6+q3EkexP8M5CtUPH7E/gwMbiFr6sD9hOQmBONmwP3rZVwU+u7A/mV7HYlifsD9ShQeo5IOwP5Lu/aHRZrA/4ypus8tFsD99n8mjbx6wP4AqI1QC3a8//9Q6kUJorz+9e655ANyuP+xvj9QNN64/bu8m0Od5rT9tBwkt06asPziLp3fWwas/1P6T15HQqj8GKy149tmpP6h/RVni5ag/wyAomaf8pz/kw0PZhyanP62UK2cta6Y/LJ4pZivRpT+wSJQGjl2lPxgoSBeCE6U/eEN7qBn0pD+ONGpUMf6kP+7ik6h3LqU/s//ZNZZ/pT+CkgZzeeqlP+VqI2qzZqY/l5sqR/Pqpj/PR9LYim2nP7JuJDf65Kc/bj5lXXlIqD8eADaMd5CoP34/htIIt6g/xFFXIDu4qD9LsATMTZKoP2opH0fIRag/EwxI4m7Vpz9kNUayFkanP6hkYbhbnqY/ISOHTT7mpT/e5dBGrialP2RDWz0LaaQ/o91O1KG2oz+s79PLLRijP94zkR5olaI/xGD8cac0oj/lwB7Wl/qhP+VQAkIN6qE/Z3nGf/IDoj/TM4ljVEeiPyAeEnKHsaI/f21xZGQ+oz+kxPB2luijP9H/v4H1qaQ/sQ91O+V7pT9LsfLWslemP6lSTMTqNqc/Ek00QqETqD9d8k7rqeioP+B/6/G7sak/eVv+ioJrqj+/E6e0mhOrP6QbsNaAqKs/Zr5HzXEprD8zICh/Q5asP5fKwUk576w/PWNiQNg0rT+uCmDAvmetPx5Uuf2BiK0/X3F/aJOXrT+CiNfULpWtP9rvSZpRga0/z90nOLpbrT/cTFCd7yOtP0fuNOBO2aw/qKbhJh57rD8V/3l7owisP6PkqV4+gas/2h4XAIPkqj9763UwVjKqP8rxSP8Ia6k/JR54AnOPqD8qXLokCqGnP7DsJar2oaY/eirC7CGVpT/LEcBaPn6kP9ZW7TXHYaM/+6Fc2/ZEoj8Zk2OHsi2hP/CYGD5rIqA/oceK4udTnj9SSsiZm5acP+nfSCjYGps/7phKy+PtmT+Mbm+J2RuZP2UG5Rger5g/WcqBWtyvmD9wWlWEkCOZPxWHxrWpDJo/WN7nKkhqmz+9ZQ/ZHTidP/cYFD11bp8/JkV/NTABoT+W9Y0FCHOiP2aapAWoBKQ/o836lxKtpT+2X9RnwmKnP5jXSvoOHKk/uuG15JTPqj9WXe8BnHSsP17PCdl1A64/JwI+aM51rz8+j0widWOwP+mtv8/m+bA/Ciqhr6R9sT+nY/159u6xPylDscjuTrI/fyKRu0qfsj8tPf/dR+KyP/Sz7F1zGrM/cBqXGnZKsz/2ipxf4XSzP8Ezs+X/m7M/o7FhXK7Bsz8P/L3iPeezP7JHPQ1iDbQ/agPz+Co0tD/x8igEC1u0PwwWufrmgLQ/4H4Qzi6ktD+fkNGv/MK0P00wsis427Q/Cx2LDLvqtD+dSSD8de+0P07ERDCT57Q/EB5LwZXRtD8OXtaRdKy0PwrghfKvd7Q/LLOsSmEztD+gxVNBROCzP3lWuPG4f7M/cfc47L4Tsz8e1rbe6J6yP6QJtiRJJLI/gsQZrVensT8sltIQ0iuxPzPOVBKXtbA/BcboCH9IsD+aPmIWZtCvP3xL8JwJMK8/lo0jn5K1rj/Wvdp6cGWuP/Exdw+kQq4/PtslM5xOrj8xWC4BJYmuPwzBSntr8K4/MpSjGRaBrz8veefoOBuwPxvXSv5YhbA/VraTUKD7sD8kCv7WjXqxP1aJEXid/rE/6ilUA32Esj+bFKSdQAmzP/9Phv6TirM/3tHE6OUGtD9AlG9ji320P3wcAWrY7rQ/QyLqFCxctT9bv7CS7se1P1z9Cr9/NbY/IfnouhWptj/APASZiye3PynocQkhtrc/bm+V5yxauD+LaEKSxRi5P2QzNApj9rk/eXJovn/2uj/Ng/G+PRu8Pw8k/4AWZb0/pfw4b5vSvj9jqvOLJjDAP1THU+9GBME/VTyJzdnhwT8SsTHbHMTCP0zn/o+JpcM/aPUfiwyAxD/gmlS6SE3FPx6aZZbiBsY/OgefAM+mxj/5EEjVoCfHP+zWeDPQhMc/pB7HyPa6xz+9IL8k/cfHP6Qex8j2usc/7NZ4M9CExz/5EEjVoCfHPzoHnwDPpsY/HpplluIGxj/gmlS6SE3FP2j1H4sMgMQ/TOf+j4mlwz8SsTHbHMTCP1U8ic3Z4cE/VMdT70YEwT9jqvOLJjDAP6X8OG+b0r4/DyT/gBZlvT/Ng/G+PRu8P3lyaL5/9ro/ZDM0CmP2uT+LaEKSxRi5P25vlecsWrg/KehxCSG2tz/APASZiye3PyH56LoVqbY/XP0Kv381tj9bv7CS7se1P0Mi6hQsXLU/fBwBatjutD9AlG9ji320P97RxOjlBrQ//0+G/pOKsz+bFKSdQAmzP+opVAN9hLI/VokReJ3+sT8kCv7WjXqxP1a2k1Cg+7A/G9dK/liFsD8veefoOBuwPzKUoxkWga8/DMFKe2vwrj8xWC4BJYmuPz7bJTOcTq4/8TF3D6RCrj/Wvdp6cGWuP5aNI5+Sta4/fEvwnAkwrz+aPmIWZtCvPwXG6Ah/SLA/M85UEpe1sD8sltIQ0iuxP4LEGa1Xp7E/pAm2JEkksj8e1rbe6J6yP3H3OOy+E7M/eVa48bh/sz+gxVNBROCzPyyzrEphM7Q/CuCF8q93tD8OXtaRdKy0PxAeS8GV0bQ/TsREMJPntD+dSSD8de+0Pwsdiwy76rQ/TTCyKzjbtD+fkNGv/MK0P+B+EM4upLQ/DBa5+uaAtD/x8igEC1u0P2oD8/gqNLQ/skc9DWINtD8P/L3iPeezP6OxYVyuwbM/wTOz5f+bsz/2ipxf4XSzP3Aalxp2SrM/9LPsXXMasz8tPf/dR+KyP38ikbtKn7I/KUOxyO5Osj+nY/159u6xPwoqoa+kfbE/6a2/z+b5sD8+j0widWOwPycCPmjOda8/Xs8J2XUDrj9WXe8BnHSsP7rhteSUz6o/mNdK+g4cqT+2X9RnwmKnP6PN+pcSraU/ZpqkBagEpD+W9Y0FCHOiPyZFfzUwAaE/9xgUPXVunz+9ZQ/ZHTidP1je5ypIaps/FYfGtakMmj9wWlWEkCOZP1nKgVrcr5g/ZQblGB6vmD+Mbm+J2RuZP+6YSsvj7Zk/6d9IKNgamz9SSsiZm5acP6HHiuLnU54/8JgYPmsioD8Zk2OHsi2hP/uhXNv2RKI/1lbtNcdhoz/LEcBaPn6kP3oqwuwhlaU/sOwlqvahpj8qXLokCqGnPyUeeAJzj6g/yvFI/whrqT9763UwVjKqP9oeFwCD5Ko/o+SpXj6Bqz8V/3l7owisP6im4SYee6w/R+404E7ZrD/cTFCd7yOtP8/dJzi6W60/2u9JmlGBrT+CiNfULpWtP19xf2iTl60/HlS5/YGIrT+uCmDAvmetPz1jYkDYNK0/l8rBSTnvrD8zICh/Q5asP2a+R81xKaw/pBuw1oCoqz+/E6e0mhOrP3lb/oqCa6o/4H/r8buxqT9d8k7rqeioPxJNNEKhE6g/qVJMxOo2pz9LsfLWslemP7EPdTvle6U/0f+/gfWppD+kxPB2luijP39tcWRkPqM/IB4Scoexoj/TM4ljVEeiP2d5xn/yA6I/5VACQg3qoT/lwB7Wl/qhP8Rg/HGnNKI/3jORHmiVoj+s79PLLRijP6PdTtShtqM/ZENbPQtppD/e5dBGrialPyEjh00+5qU/qGRhuFuepj9kNUayFkanPxMMSOJu1ac/aikfR8hFqD9LsATMTZKoP8RRVyA7uKg/fj+G0gi3qD8eADaMd5CoP24+ZV15SKg/sm4kN/rkpz/PR9LYim2nP5ebKkfz6qY/5WojarNmpj+CkgZzeeqlP7P/2TWWf6U/7uKTqHcupT+ONGpUMf6kP3hDe6gZ9KQ/GChIF4ITpT+wSJQGjl2lPyyeKWYr0aU/rZQrZy1rpj/kw0PZhyanP8MgKJmn/Kc/qH9FWeLlqD8GKy149tmpP9T+k9eR0Ko/OIund9bBqz9tBwkt06asP27vJtDnea0/7G+P1A03rj+9e655ANyuP//UOpFCaK8/gCojVALdrz99n8mjbx6wP+MqbrPLRbA/ku79odFmsD9ShQeo5IOwP5lex2JYn7A/etlXBT67sD9hOQmBONmwP4MDG4ha+rA/wzkK1Q8fsT8C6+q3EkexP3BLUtxtcbE/eWd3eomcsT+9a8N4QsaxP9L3AnkJ7LE/jGC/bgcLsj+E110fRSCyP2VZnvDSKLI/xG7fm+4hsj9it5C3JAmyPxA/upNs3LE/aDnneD2asT/Z0VkTnUGxP1lmBDAn0rA/bijppQ9MsD+ju2ilPmCvP0LdKm9a/60/CZ6gPSl5rD8tccrlUdKqPzqKKTFPEKk/KwqYqU85pz9sjqvjEFSlPxoDdbe1Z6M/RxXVvZZ7oT/ZMHLgGS6fP5YrWf1tgps/riHqo3UBmD8HQFBWC7eUP+w0rDscrZE/DWrIfm/WjT/FxE48ZuyIP+DBsRLSn4Q/ZtOopDjugD8/JiAGCp57P308TUziZ3Y/FuqsmYMTcj9/x6/XMeVsP4fwehrkomY/ujBM06/zYD/u87/sFNhWP3WvfKalnEY/IhnajwByFr89l8zqe69Pvwftf9XlNGC/E4Fm4ZCqab/wP3dTFChyvyrCeRMICHi/12EuLk5efr/Fg6P2eYSCv6r29kwg7oW/j5G+aTRSib94SU01x5OMvw==\"},\"shape\":[500],\"dtype\":\"float64\",\"order\":\"little\"}]]}}},\"view\":{\"type\":\"object\",\"name\":\"CDSView\",\"id\":\"p5261\",\"attributes\":{\"filter\":{\"type\":\"object\",\"name\":\"AllIndices\",\"id\":\"p5262\"}}},\"glyph\":{\"type\":\"object\",\"name\":\"Line\",\"id\":\"p5257\",\"attributes\":{\"tags\":[\"apply_ranges\"],\"x\":{\"type\":\"field\",\"field\":\"\\u0394t\"},\"y\":{\"type\":\"field\",\"field\":\"\\u03be2\"},\"line_color\":\"#DDD\",\"line_width\":2}},\"selection_glyph\":{\"type\":\"object\",\"name\":\"Line\",\"id\":\"p5265\",\"attributes\":{\"tags\":[\"apply_ranges\"],\"x\":{\"type\":\"field\",\"field\":\"\\u0394t\"},\"y\":{\"type\":\"field\",\"field\":\"\\u03be2\"},\"line_color\":\"#DDD\",\"line_width\":2}},\"nonselection_glyph\":{\"type\":\"object\",\"name\":\"Line\",\"id\":\"p5258\",\"attributes\":{\"tags\":[\"apply_ranges\"],\"x\":{\"type\":\"field\",\"field\":\"\\u0394t\"},\"y\":{\"type\":\"field\",\"field\":\"\\u03be2\"},\"line_color\":\"#DDD\",\"line_alpha\":0.1,\"line_width\":2}},\"muted_glyph\":{\"type\":\"object\",\"name\":\"Line\",\"id\":\"p5259\",\"attributes\":{\"tags\":[\"apply_ranges\"],\"x\":{\"type\":\"field\",\"field\":\"\\u0394t\"},\"y\":{\"type\":\"field\",\"field\":\"\\u03be2\"},\"line_color\":\"#DDD\",\"line_alpha\":0.2,\"line_width\":2}}}},{\"type\":\"object\",\"name\":\"GlyphRenderer\",\"id\":\"p5275\",\"attributes\":{\"data_source\":{\"type\":\"object\",\"name\":\"ColumnDataSource\",\"id\":\"p5266\",\"attributes\":{\"selected\":{\"type\":\"object\",\"name\":\"Selection\",\"id\":\"p5267\",\"attributes\":{\"indices\":[],\"line_indices\":[]}},\"selection_policy\":{\"type\":\"object\",\"name\":\"UnionRenderers\",\"id\":\"p5268\"},\"data\":{\"type\":\"map\",\"entries\":[[\"\\u0394t\",{\"type\":\"ndarray\",\"array\":{\"type\":\"bytes\",\"data\":\"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\"},\"shape\":[500],\"dtype\":\"float64\",\"order\":\"little\"}],[\"\\u03be2\",{\"type\":\"ndarray\",\"array\":{\"type\":\"bytes\",\"data\":\"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\"},\"shape\":[500],\"dtype\":\"float64\",\"order\":\"little\"}]]}}},\"view\":{\"type\":\"object\",\"name\":\"CDSView\",\"id\":\"p5276\",\"attributes\":{\"filter\":{\"type\":\"object\",\"name\":\"AllIndices\",\"id\":\"p5277\"}}},\"glyph\":{\"type\":\"object\",\"name\":\"Line\",\"id\":\"p5272\",\"attributes\":{\"tags\":[\"apply_ranges\"],\"x\":{\"type\":\"field\",\"field\":\"\\u0394t\"},\"y\":{\"type\":\"field\",\"field\":\"\\u03be2\"},\"line_color\":\"#DDD\",\"line_width\":2}},\"selection_glyph\":{\"type\":\"object\",\"name\":\"Line\",\"id\":\"p5278\",\"attributes\":{\"tags\":[\"apply_ranges\"],\"x\":{\"type\":\"field\",\"field\":\"\\u0394t\"},\"y\":{\"type\":\"field\",\"field\":\"\\u03be2\"},\"line_color\":\"#DDD\",\"line_width\":2}},\"nonselection_glyph\":{\"type\":\"object\",\"name\":\"Line\",\"id\":\"p5273\",\"attributes\":{\"tags\":[\"apply_ranges\"],\"x\":{\"type\":\"field\",\"field\":\"\\u0394t\"},\"y\":{\"type\":\"field\",\"field\":\"\\u03be2\"},\"line_color\":\"#DDD\",\"line_alpha\":0.1,\"line_width\":2}},\"muted_glyph\":{\"type\":\"object\",\"name\":\"Line\",\"id\":\"p5274\",\"attributes\":{\"tags\":[\"apply_ranges\"],\"x\":{\"type\":\"field\",\"field\":\"\\u0394t\"},\"y\":{\"type\":\"field\",\"field\":\"\\u03be2\"},\"line_color\":\"#DDD\",\"line_alpha\":0.2,\"line_width\":2}}}},{\"type\":\"object\",\"name\":\"GlyphRenderer\",\"id\":\"p5288\",\"attributes\":{\"data_source\":{\"type\":\"object\",\"name\":\"ColumnDataSource\",\"id\":\"p5279\",\"attributes\":{\"selected\":{\"type\":\"object\",\"name\":\"Selection\",\"id\":\"p5280\",\"attributes\":{\"indices\":[],\"line_indices\":[]}},\"selection_policy\":{\"type\":\"object\",\"name\":\"UnionRenderers\",\"id\":\"p5281\"},\"data\":{\"type\":\"map\",\"entries\":[[\"\\u0394t\",{\"type\":\"ndarray\",\"array\":{\"type\":\"bytes\",\"data\":\"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\"},\"shape\":[500],\"dtype\":\"float64\",\"order\":\"little\"}],[\"\\u03be2\",{\"type\":\"ndarray\",\"array\":{\"type\":\"bytes\",\"data\":\"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\"},\"shape\":[500],\"dtype\":\"float64\",\"order\":\"little\"}]]}}},\"view\":{\"type\":\"object\",\"name\":\"CDSView\",\"id\":\"p5289\",\"attributes\":{\"filter\":{\"type\":\"object\",\"name\":\"AllIndices\",\"id\":\"p5290\"}}},\"glyph\":{\"type\":\"object\",\"name\":\"Line\",\"id\":\"p5285\",\"attributes\":{\"tags\":[\"apply_ranges\"],\"x\":{\"type\":\"field\",\"field\":\"\\u0394t\"},\"y\":{\"type\":\"field\",\"field\":\"\\u03be2\"},\"line_color\":\"#DDD\",\"line_width\":2}},\"selection_glyph\":{\"type\":\"object\",\"name\":\"Line\",\"id\":\"p5291\",\"attributes\":{\"tags\":[\"apply_ranges\"],\"x\":{\"type\":\"field\",\"field\":\"\\u0394t\"},\"y\":{\"type\":\"field\",\"field\":\"\\u03be2\"},\"line_color\":\"#DDD\",\"line_width\":2}},\"nonselection_glyph\":{\"type\":\"object\",\"name\":\"Line\",\"id\":\"p5286\",\"attributes\":{\"tags\":[\"apply_ranges\"],\"x\":{\"type\":\"field\",\"field\":\"\\u0394t\"},\"y\":{\"type\":\"field\",\"field\":\"\\u03be2\"},\"line_color\":\"#DDD\",\"line_alpha\":0.1,\"line_width\":2}},\"muted_glyph\":{\"type\":\"object\",\"name\":\"Line\",\"id\":\"p5287\",\"attributes\":{\"tags\":[\"apply_ranges\"],\"x\":{\"type\":\"field\",\"field\":\"\\u0394t\"},\"y\":{\"type\":\"field\",\"field\":\"\\u03be2\"},\"line_color\":\"#DDD\",\"line_alpha\":0.2,\"line_width\":2}}}},{\"type\":\"object\",\"name\":\"GlyphRenderer\",\"id\":\"p5301\",\"attributes\":{\"data_source\":{\"type\":\"object\",\"name\":\"ColumnDataSource\",\"id\":\"p5292\",\"attributes\":{\"selected\":{\"type\":\"object\",\"name\":\"Selection\",\"id\":\"p5293\",\"attributes\":{\"indices\":[],\"line_indices\":[]}},\"selection_policy\":{\"type\":\"object\",\"name\":\"UnionRenderers\",\"id\":\"p5294\"},\"data\":{\"type\":\"map\",\"entries\":[[\"\\u0394t\",{\"type\":\"ndarray\",\"array\":{\"type\":\"bytes\",\"data\":\"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\"},\"shape\":[500],\"dtype\":\"float64\",\"order\":\"little\"}],[\"\\u03be2\",{\"type\":\"ndarray\",\"array\":{\"type\":\"bytes\",\"data\":\"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\"},\"shape\":[500],\"dtype\":\"float64\",\"order\":\"little\"}]]}}},\"view\":{\"type\":\"object\",\"name\":\"CDSView\",\"id\":\"p5302\",\"attributes\":{\"filter\":{\"type\":\"object\",\"name\":\"AllIndices\",\"id\":\"p5303\"}}},\"glyph\":{\"type\":\"object\",\"name\":\"Line\",\"id\":\"p5298\",\"attributes\":{\"tags\":[\"apply_ranges\"],\"x\":{\"type\":\"field\",\"field\":\"\\u0394t\"},\"y\":{\"type\":\"field\",\"field\":\"\\u03be2\"},\"line_color\":\"#DDD\",\"line_width\":2}},\"selection_glyph\":{\"type\":\"object\",\"name\":\"Line\",\"id\":\"p5304\",\"attributes\":{\"tags\":[\"apply_ranges\"],\"x\":{\"type\":\"field\",\"field\":\"\\u0394t\"},\"y\":{\"type\":\"field\",\"field\":\"\\u03be2\"},\"line_color\":\"#DDD\",\"line_width\":2}},\"nonselection_glyph\":{\"type\":\"object\",\"name\":\"Line\",\"id\":\"p5299\",\"attributes\":{\"tags\":[\"apply_ranges\"],\"x\":{\"type\":\"field\",\"field\":\"\\u0394t\"},\"y\":{\"type\":\"field\",\"field\":\"\\u03be2\"},\"line_color\":\"#DDD\",\"line_alpha\":0.1,\"line_width\":2}},\"muted_glyph\":{\"type\":\"object\",\"name\":\"Line\",\"id\":\"p5300\",\"attributes\":{\"tags\":[\"apply_ranges\"],\"x\":{\"type\":\"field\",\"field\":\"\\u0394t\"},\"y\":{\"type\":\"field\",\"field\":\"\\u03be2\"},\"line_color\":\"#DDD\",\"line_alpha\":0.2,\"line_width\":2}}}},{\"type\":\"object\",\"name\":\"GlyphRenderer\",\"id\":\"p5314\",\"attributes\":{\"data_source\":{\"type\":\"object\",\"name\":\"ColumnDataSource\",\"id\":\"p5305\",\"attributes\":{\"selected\":{\"type\":\"object\",\"name\":\"Selection\",\"id\":\"p5306\",\"attributes\":{\"indices\":[],\"line_indices\":[]}},\"selection_policy\":{\"type\":\"object\",\"name\":\"UnionRenderers\",\"id\":\"p5307\"},\"data\":{\"type\":\"map\",\"entries\":[[\"\\u0394t\",{\"type\":\"ndarray\",\"array\":{\"type\":\"bytes\",\"data\":\"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\"},\"shape\":[500],\"dtype\":\"float64\",\"order\":\"little\"}],[\"\\u03be2\",{\"type\":\"ndarray\",\"array\":{\"type\":\"bytes\",\"data\":\"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\"},\"shape\":[500],\"dtype\":\"float64\",\"order\":\"little\"}]]}}},\"view\":{\"type\":\"object\",\"name\":\"CDSView\",\"id\":\"p5315\",\"attributes\":{\"filter\":{\"type\":\"object\",\"name\":\"AllIndices\",\"id\":\"p5316\"}}},\"glyph\":{\"type\":\"object\",\"name\":\"Line\",\"id\":\"p5311\",\"attributes\":{\"tags\":[\"apply_ranges\"],\"x\":{\"type\":\"field\",\"field\":\"\\u0394t\"},\"y\":{\"type\":\"field\",\"field\":\"\\u03be2\"},\"line_color\":\"#DDD\",\"line_width\":2}},\"selection_glyph\":{\"type\":\"object\",\"name\":\"Line\",\"id\":\"p5317\",\"attributes\":{\"tags\":[\"apply_ranges\"],\"x\":{\"type\":\"field\",\"field\":\"\\u0394t\"},\"y\":{\"type\":\"field\",\"field\":\"\\u03be2\"},\"line_color\":\"#DDD\",\"line_width\":2}},\"nonselection_glyph\":{\"type\":\"object\",\"name\":\"Line\",\"id\":\"p5312\",\"attributes\":{\"tags\":[\"apply_ranges\"],\"x\":{\"type\":\"field\",\"field\":\"\\u0394t\"},\"y\":{\"type\":\"field\",\"field\":\"\\u03be2\"},\"line_color\":\"#DDD\",\"line_alpha\":0.1,\"line_width\":2}},\"muted_glyph\":{\"type\":\"object\",\"name\":\"Line\",\"id\":\"p5313\",\"attributes\":{\"tags\":[\"apply_ranges\"],\"x\":{\"type\":\"field\",\"field\":\"\\u0394t\"},\"y\":{\"type\":\"field\",\"field\":\"\\u03be2\"},\"line_color\":\"#DDD\",\"line_alpha\":0.2,\"line_width\":2}}}},{\"type\":\"object\",\"name\":\"GlyphRenderer\",\"id\":\"p5327\",\"attributes\":{\"data_source\":{\"type\":\"object\",\"name\":\"ColumnDataSource\",\"id\":\"p5318\",\"attributes\":{\"selected\":{\"type\":\"object\",\"name\":\"Selection\",\"id\":\"p5319\",\"attributes\":{\"indices\":[],\"line_indices\":[]}},\"selection_policy\":{\"type\":\"object\",\"name\":\"UnionRenderers\",\"id\":\"p5320\"},\"data\":{\"type\":\"map\",\"entries\":[[\"\\u0394t\",{\"type\":\"ndarray\",\"array\":{\"type\":\"bytes\",\"data\":\"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\"},\"shape\":[500],\"dtype\":\"float64\",\"order\":\"little\"}],[\"\\u03be2\",{\"type\":\"ndarray\",\"array\":{\"type\":\"bytes\",\"data\":\"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\"},\"shape\":[500],\"dtype\":\"float64\",\"order\":\"little\"}]]}}},\"view\":{\"type\":\"object\",\"name\":\"CDSView\",\"id\":\"p5328\",\"attributes\":{\"filter\":{\"type\":\"object\",\"name\":\"AllIndices\",\"id\":\"p5329\"}}},\"glyph\":{\"type\":\"object\",\"name\":\"Line\",\"id\":\"p5324\",\"attributes\":{\"tags\":[\"apply_ranges\"],\"x\":{\"type\":\"field\",\"field\":\"\\u0394t\"},\"y\":{\"type\":\"field\",\"field\":\"\\u03be2\"},\"line_color\":\"#DDD\",\"line_width\":2}},\"selection_glyph\":{\"type\":\"object\",\"name\":\"Line\",\"id\":\"p5330\",\"attributes\":{\"tags\":[\"apply_ranges\"],\"x\":{\"type\":\"field\",\"field\":\"\\u0394t\"},\"y\":{\"type\":\"field\",\"field\":\"\\u03be2\"},\"line_color\":\"#DDD\",\"line_width\":2}},\"nonselection_glyph\":{\"type\":\"object\",\"name\":\"Line\",\"id\":\"p5325\",\"attributes\":{\"tags\":[\"apply_ranges\"],\"x\":{\"type\":\"field\",\"field\":\"\\u0394t\"},\"y\":{\"type\":\"field\",\"field\":\"\\u03be2\"},\"line_color\":\"#DDD\",\"line_alpha\":0.1,\"line_width\":2}},\"muted_glyph\":{\"type\":\"object\",\"name\":\"Line\",\"id\":\"p5326\",\"attributes\":{\"tags\":[\"apply_ranges\"],\"x\":{\"type\":\"field\",\"field\":\"\\u0394t\"},\"y\":{\"type\":\"field\",\"field\":\"\\u03be2\"},\"line_color\":\"#DDD\",\"line_alpha\":0.2,\"line_width\":2}}}},{\"type\":\"object\",\"name\":\"GlyphRenderer\",\"id\":\"p5340\",\"attributes\":{\"data_source\":{\"type\":\"object\",\"name\":\"ColumnDataSource\",\"id\":\"p5331\",\"attributes\":{\"selected\":{\"type\":\"object\",\"name\":\"Selection\",\"id\":\"p5332\",\"attributes\":{\"indices\":[],\"line_indices\":[]}},\"selection_policy\":{\"type\":\"object\",\"name\":\"UnionRenderers\",\"id\":\"p5333\"},\"data\":{\"type\":\"map\",\"entries\":[[\"\\u0394t\",{\"type\":\"ndarray\",\"array\":{\"type\":\"bytes\",\"data\":\"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\"},\"shape\":[500],\"dtype\":\"float64\",\"order\":\"little\"}],[\"\\u03be2\",{\"type\":\"ndarray\",\"array\":{\"type\":\"bytes\",\"data\":\"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\"},\"shape\":[500],\"dtype\":\"float64\",\"order\":\"little\"}]]}}},\"view\":{\"type\":\"object\",\"name\":\"CDSView\",\"id\":\"p5341\",\"attributes\":{\"filter\":{\"type\":\"object\",\"name\":\"AllIndices\",\"id\":\"p5342\"}}},\"glyph\":{\"type\":\"object\",\"name\":\"Line\",\"id\":\"p5337\",\"attributes\":{\"tags\":[\"apply_ranges\"],\"x\":{\"type\":\"field\",\"field\":\"\\u0394t\"},\"y\":{\"type\":\"field\",\"field\":\"\\u03be2\"},\"line_color\":\"#DDD\",\"line_width\":2}},\"selection_glyph\":{\"type\":\"object\",\"name\":\"Line\",\"id\":\"p5343\",\"attributes\":{\"tags\":[\"apply_ranges\"],\"x\":{\"type\":\"field\",\"field\":\"\\u0394t\"},\"y\":{\"type\":\"field\",\"field\":\"\\u03be2\"},\"line_color\":\"#DDD\",\"line_width\":2}},\"nonselection_glyph\":{\"type\":\"object\",\"name\":\"Line\",\"id\":\"p5338\",\"attributes\":{\"tags\":[\"apply_ranges\"],\"x\":{\"type\":\"field\",\"field\":\"\\u0394t\"},\"y\":{\"type\":\"field\",\"field\":\"\\u03be2\"},\"line_color\":\"#DDD\",\"line_alpha\":0.1,\"line_width\":2}},\"muted_glyph\":{\"type\":\"object\",\"name\":\"Line\",\"id\":\"p5339\",\"attributes\":{\"tags\":[\"apply_ranges\"],\"x\":{\"type\":\"field\",\"field\":\"\\u0394t\"},\"y\":{\"type\":\"field\",\"field\":\"\\u03be2\"},\"line_color\":\"#DDD\",\"line_alpha\":0.2,\"line_width\":2}}}},{\"type\":\"object\",\"name\":\"GlyphRenderer\",\"id\":\"p5353\",\"attributes\":{\"data_source\":{\"type\":\"object\",\"name\":\"ColumnDataSource\",\"id\":\"p5344\",\"attributes\":{\"selected\":{\"type\":\"object\",\"name\":\"Selection\",\"id\":\"p5345\",\"attributes\":{\"indices\":[],\"line_indices\":[]}},\"selection_policy\":{\"type\":\"object\",\"name\":\"UnionRenderers\",\"id\":\"p5346\"},\"data\":{\"type\":\"map\",\"entries\":[[\"\\u0394t\",{\"type\":\"ndarray\",\"array\":{\"type\":\"bytes\",\"data\":\"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\"},\"shape\":[500],\"dtype\":\"float64\",\"order\":\"little\"}],[\"\\u03be2\",{\"type\":\"ndarray\",\"array\":{\"type\":\"bytes\",\"data\":\"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\"},\"shape\":[500],\"dtype\":\"float64\",\"order\":\"little\"}]]}}},\"view\":{\"type\":\"object\",\"name\":\"CDSView\",\"id\":\"p5354\",\"attributes\":{\"filter\":{\"type\":\"object\",\"name\":\"AllIndices\",\"id\":\"p5355\"}}},\"glyph\":{\"type\":\"object\",\"name\":\"Line\",\"id\":\"p5350\",\"attributes\":{\"tags\":[\"apply_ranges\"],\"x\":{\"type\":\"field\",\"field\":\"\\u0394t\"},\"y\":{\"type\":\"field\",\"field\":\"\\u03be2\"},\"line_color\":\"#DDD\",\"line_width\":2}},\"selection_glyph\":{\"type\":\"object\",\"name\":\"Line\",\"id\":\"p5356\",\"attributes\":{\"tags\":[\"apply_ranges\"],\"x\":{\"type\":\"field\",\"field\":\"\\u0394t\"},\"y\":{\"type\":\"field\",\"field\":\"\\u03be2\"},\"line_color\":\"#DDD\",\"line_width\":2}},\"nonselection_glyph\":{\"type\":\"object\",\"name\":\"Line\",\"id\":\"p5351\",\"attributes\":{\"tags\":[\"apply_ranges\"],\"x\":{\"type\":\"field\",\"field\":\"\\u0394t\"},\"y\":{\"type\":\"field\",\"field\":\"\\u03be2\"},\"line_color\":\"#DDD\",\"line_alpha\":0.1,\"line_width\":2}},\"muted_glyph\":{\"type\":\"object\",\"name\":\"Line\",\"id\":\"p5352\",\"attributes\":{\"tags\":[\"apply_ranges\"],\"x\":{\"type\":\"field\",\"field\":\"\\u0394t\"},\"y\":{\"type\":\"field\",\"field\":\"\\u03be2\"},\"line_color\":\"#DDD\",\"line_alpha\":0.2,\"line_width\":2}}}},{\"type\":\"object\",\"name\":\"GlyphRenderer\",\"id\":\"p5366\",\"attributes\":{\"data_source\":{\"type\":\"object\",\"name\":\"ColumnDataSource\",\"id\":\"p5357\",\"attributes\":{\"selected\":{\"type\":\"object\",\"name\":\"Selection\",\"id\":\"p5358\",\"attributes\":{\"indices\":[],\"line_indices\":[]}},\"selection_policy\":{\"type\":\"object\",\"name\":\"UnionRenderers\",\"id\":\"p5359\"},\"data\":{\"type\":\"map\",\"entries\":[[\"\\u0394t\",{\"type\":\"ndarray\",\"array\":{\"type\":\"bytes\",\"data\":\"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\"},\"shape\":[500],\"dtype\":\"float64\",\"order\":\"little\"}],[\"\\u03be2\",{\"type\":\"ndarray\",\"array\":{\"type\":\"bytes\",\"data\":\"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\"},\"shape\":[500],\"dtype\":\"float64\",\"order\":\"little\"}]]}}},\"view\":{\"type\":\"object\",\"name\":\"CDSView\",\"id\":\"p5367\",\"attributes\":{\"filter\":{\"type\":\"object\",\"name\":\"AllIndices\",\"id\":\"p5368\"}}},\"glyph\":{\"type\":\"object\",\"name\":\"Line\",\"id\":\"p5363\",\"attributes\":{\"tags\":[\"apply_ranges\"],\"x\":{\"type\":\"field\",\"field\":\"\\u0394t\"},\"y\":{\"type\":\"field\",\"field\":\"\\u03be2\"},\"line_color\":\"#DDD\",\"line_width\":2}},\"selection_glyph\":{\"type\":\"object\",\"name\":\"Line\",\"id\":\"p5369\",\"attributes\":{\"tags\":[\"apply_ranges\"],\"x\":{\"type\":\"field\",\"field\":\"\\u0394t\"},\"y\":{\"type\":\"field\",\"field\":\"\\u03be2\"},\"line_color\":\"#DDD\",\"line_width\":2}},\"nonselection_glyph\":{\"type\":\"object\",\"name\":\"Line\",\"id\":\"p5364\",\"attributes\":{\"tags\":[\"apply_ranges\"],\"x\":{\"type\":\"field\",\"field\":\"\\u0394t\"},\"y\":{\"type\":\"field\",\"field\":\"\\u03be2\"},\"line_color\":\"#DDD\",\"line_alpha\":0.1,\"line_width\":2}},\"muted_glyph\":{\"type\":\"object\",\"name\":\"Line\",\"id\":\"p5365\",\"attributes\":{\"tags\":[\"apply_ranges\"],\"x\":{\"type\":\"field\",\"field\":\"\\u0394t\"},\"y\":{\"type\":\"field\",\"field\":\"\\u03be2\"},\"line_color\":\"#DDD\",\"line_alpha\":0.2,\"line_width\":2}}}},{\"type\":\"object\",\"name\":\"GlyphRenderer\",\"id\":\"p5379\",\"attributes\":{\"data_source\":{\"type\":\"object\",\"name\":\"ColumnDataSource\",\"id\":\"p5370\",\"attributes\":{\"selected\":{\"type\":\"object\",\"name\":\"Selection\",\"id\":\"p5371\",\"attributes\":{\"indices\":[],\"line_indices\":[]}},\"selection_policy\":{\"type\":\"object\",\"name\":\"UnionRenderers\",\"id\":\"p5372\"},\"data\":{\"type\":\"map\",\"entries\":[[\"\\u0394t\",{\"type\":\"ndarray\",\"array\":{\"type\":\"bytes\",\"data\":\"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\"},\"shape\":[500],\"dtype\":\"float64\",\"order\":\"little\"}],[\"\\u03be2\",{\"type\":\"ndarray\",\"array\":{\"type\":\"bytes\",\"data\":\"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\"},\"shape\":[500],\"dtype\":\"float64\",\"order\":\"little\"}]]}}},\"view\":{\"type\":\"object\",\"name\":\"CDSView\",\"id\":\"p5380\",\"attributes\":{\"filter\":{\"type\":\"object\",\"name\":\"AllIndices\",\"id\":\"p5381\"}}},\"glyph\":{\"type\":\"object\",\"name\":\"Line\",\"id\":\"p5376\",\"attributes\":{\"tags\":[\"apply_ranges\"],\"x\":{\"type\":\"field\",\"field\":\"\\u0394t\"},\"y\":{\"type\":\"field\",\"field\":\"\\u03be2\"},\"line_color\":\"#DDD\",\"line_width\":2}},\"selection_glyph\":{\"type\":\"object\",\"name\":\"Line\",\"id\":\"p5382\",\"attributes\":{\"tags\":[\"apply_ranges\"],\"x\":{\"type\":\"field\",\"field\":\"\\u0394t\"},\"y\":{\"type\":\"field\",\"field\":\"\\u03be2\"},\"line_color\":\"#DDD\",\"line_width\":2}},\"nonselection_glyph\":{\"type\":\"object\",\"name\":\"Line\",\"id\":\"p5377\",\"attributes\":{\"tags\":[\"apply_ranges\"],\"x\":{\"type\":\"field\",\"field\":\"\\u0394t\"},\"y\":{\"type\":\"field\",\"field\":\"\\u03be2\"},\"line_color\":\"#DDD\",\"line_alpha\":0.1,\"line_width\":2}},\"muted_glyph\":{\"type\":\"object\",\"name\":\"Line\",\"id\":\"p5378\",\"attributes\":{\"tags\":[\"apply_ranges\"],\"x\":{\"type\":\"field\",\"field\":\"\\u0394t\"},\"y\":{\"type\":\"field\",\"field\":\"\\u03be2\"},\"line_color\":\"#DDD\",\"line_alpha\":0.2,\"line_width\":2}}}},{\"type\":\"object\",\"name\":\"GlyphRenderer\",\"id\":\"p5392\",\"attributes\":{\"data_source\":{\"type\":\"object\",\"name\":\"ColumnDataSource\",\"id\":\"p5383\",\"attributes\":{\"selected\":{\"type\":\"object\",\"name\":\"Selection\",\"id\":\"p5384\",\"attributes\":{\"indices\":[],\"line_indices\":[]}},\"selection_policy\":{\"type\":\"object\",\"name\":\"UnionRenderers\",\"id\":\"p5385\"},\"data\":{\"type\":\"map\",\"entries\":[[\"\\u0394t\",{\"type\":\"ndarray\",\"array\":{\"type\":\"bytes\",\"data\":\"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\"},\"shape\":[500],\"dtype\":\"float64\",\"order\":\"little\"}],[\"\\u03be2\",{\"type\":\"ndarray\",\"array\":{\"type\":\"bytes\",\"data\":\"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\"},\"shape\":[500],\"dtype\":\"float64\",\"order\":\"little\"}]]}}},\"view\":{\"type\":\"object\",\"name\":\"CDSView\",\"id\":\"p5393\",\"attributes\":{\"filter\":{\"type\":\"object\",\"name\":\"AllIndices\",\"id\":\"p5394\"}}},\"glyph\":{\"type\":\"object\",\"name\":\"Line\",\"id\":\"p5389\",\"attributes\":{\"tags\":[\"apply_ranges\"],\"x\":{\"type\":\"field\",\"field\":\"\\u0394t\"},\"y\":{\"type\":\"field\",\"field\":\"\\u03be2\"},\"line_color\":\"#8c564b\",\"line_width\":2}},\"selection_glyph\":{\"type\":\"object\",\"name\":\"Line\",\"id\":\"p5396\",\"attributes\":{\"tags\":[\"apply_ranges\"],\"x\":{\"type\":\"field\",\"field\":\"\\u0394t\"},\"y\":{\"type\":\"field\",\"field\":\"\\u03be2\"},\"line_color\":\"#8c564b\",\"line_width\":2}},\"nonselection_glyph\":{\"type\":\"object\",\"name\":\"Line\",\"id\":\"p5390\",\"attributes\":{\"tags\":[\"apply_ranges\"],\"x\":{\"type\":\"field\",\"field\":\"\\u0394t\"},\"y\":{\"type\":\"field\",\"field\":\"\\u03be2\"},\"line_color\":\"#8c564b\",\"line_alpha\":0.1,\"line_width\":2}},\"muted_glyph\":{\"type\":\"object\",\"name\":\"Line\",\"id\":\"p5391\",\"attributes\":{\"tags\":[\"apply_ranges\"],\"x\":{\"type\":\"field\",\"field\":\"\\u0394t\"},\"y\":{\"type\":\"field\",\"field\":\"\\u03be2\"},\"line_color\":\"#8c564b\",\"line_alpha\":0.2,\"line_width\":2}}}},{\"type\":\"object\",\"name\":\"GlyphRenderer\",\"id\":\"p5406\",\"attributes\":{\"data_source\":{\"type\":\"object\",\"name\":\"ColumnDataSource\",\"id\":\"p5397\",\"attributes\":{\"selected\":{\"type\":\"object\",\"name\":\"Selection\",\"id\":\"p5398\",\"attributes\":{\"indices\":[],\"line_indices\":[]}},\"selection_policy\":{\"type\":\"object\",\"name\":\"UnionRenderers\",\"id\":\"p5399\"},\"data\":{\"type\":\"map\",\"entries\":[[\"\\u0394t\",{\"type\":\"ndarray\",\"array\":{\"type\":\"bytes\",\"data\":\"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\"},\"shape\":[500],\"dtype\":\"float64\",\"order\":\"little\"}],[\"\\u03be2\",{\"type\":\"ndarray\",\"array\":{\"type\":\"bytes\",\"data\":\"AAAAAAAAAAAAAAAAAAAAAAAAAAAAAAAAAAAAAAAAAAAAAAAAAAAAAAAAAAAAAAAAAAAAAAAAAAAAAAAAAAAAAAAAAAAAAAAAAAAAAAAAAAAAAAAAAAAAAAAAAAAAAAAAAAAAAAAAAAAAAAAAAAAAAAAAAAAAAAAAAAAAAAAAAAAAAAAAAAAAAAAAAAAAAAAAAAAAAAAAAAAAAAAAAAAAAAAAAAAAAAAAAAAAAAAAAAAAAAAAAAAAAAAAAAAAAAAAAAAAAAAAAAAAAAAAAAAAAAAAAAAAAAAAAAAAAAAAAAAAAAAAAAAAAAAAAAAAAAAAAAAAAAAAAAAAAAAAAAAAAAAAAAAAAAAAAAAAAAAAAAAAAAAAAAAAAAAAAAAAAAAAAAAAAAAAAAAAAAAAAAAAAAAAAAAAAAAAAAAAAAAAAAAAAAAAAAAAAAAAAAAAAAAAAAAAAAAAAAAAAAAAAAAAAAAAAAAAAAAAAAAAAAAAAAAAAAAAAAAAAAAAAAAAAAAAAAAAAAAAAAAAAAAAAAAAAAAAAAAAAAAAAAAAAAAAAAAAAAAAAAAAAAAAAAAAAAAAAAAAAAAAAAAAAAAAAAAAAAAAAAAAAAAAAAAAAAAAAAAAAAAAAAAAAAAAAAAAAAAAHWWpAKZrmwGgLI0C6Od9AyAMYgQsPEcFSdktBoguFgfNcAAIvX/ZCJBQtgmgS5cKW5l4C2czSgy80SINUswBDmrhzA7+FKAPsqh3EOWoPRHbyg8Sa9vXEpdmoBOOAGwUSuIrFcLe9xVN8LAWQBZ6F9v4LhgOZPIYVzemGQCvYRrMrhcbNtvJG6f4hBwEcC0dcPXfHVcnjx6xLTUfSAPjH+XMjCCk6SwhOzrSIZ8KfSIdxBYj4tyxI8C7TyRfMvAkuXqJJbzNGyZxzq4m5SpCJ8CE1SfXc2goj4n6KHKqhSl1Mw0qv6uTKvnkGCunuJwrBgofLGzHnywv6x4t5nucLRiMGC5WOZMuw6oMLzkPhS9BNvkvMQxnMD8R1DCps0Ax+1qtMbNkGjK7IYgyfantMrdiTTMruK8zHdYUNBCdeTTwOM802E8qNdqTijV9Qt81VgwyNuSSjDaKwds20g0qN0ZHgjdcnsU3zWIUOHCcXDhxW6I4gZXsOKimKjneuXM5xE6sOSgz8Tm7ISc6sE1lOte6mzqeadE6zGQLO/63NzsquG87KtWaOxYDxjsUtPo7YR8dPHn6QjyviW88n6uRPEhnrzxvGNE83sT2PBkpED2UwCY9H/U+PeJ9WD0J/XI9cwCHPTGDlD1DvqE9lmSuPUwnuj3fuMQ9YtDNPcss1T3sl9o9EendPfgG3z0R6d097JfaPcss1T1i0M0937jEPUwnuj2WZK49Q76hPTGDlD1zAIc9Cf1yPeJ9WD0f9T49lMAmPRkpED3exPY8bxjRPEhnrzyfq5E8r4lvPHn6QjxhHx08FLT6OxYDxjsq1Zo7KrhvO/63NzvMZAs7nmnROte6mzqwTWU6uyEnOigz8TnETqw53rlzOaimKjmBlew4cVuiOHCcXDjNYhQ4XJ7FN0ZHgjfSDSo3isHbNuSSjDZWDDI2fULfNdqTijXYTyo18DjPNBCdeTQd1hQ0K7ivM7diTTN9qe0yuyGIMrNkGjL7Wq0xqbNAMT8R1DAxDGcwQTb5LzkPhS/DqgwvVjmTLhiMGC7me5wtL+seLWzHnywGCh8sp7icK/nkGCu/q5MqdTMNKnKqhSmPifoo13NoKMCE1SflKkIncc6uJrzNGya5eoklXzLwJMC7TyTi3LEjHcQWI58KfSI7OtIhpOksIeXMjCBIA+MfsS01H1cnjx5w9d8dBHAtHaf4hBw228kbzK4XGwCvYRpXN6YZDmTyGNv4LhhAFnoXTfCwFsLe9xVK4isVjgBsFJdmoBNr29cS28oPEuWoPRGyqHcQ/hSgD2rhzA5SzAEOvNEiDWczSgxbmXgLoEuXCpBQtgm9f9kIzXAACIguFgdJ2S0GLDxHBSAMYgTo530DoCyNAqZrmwEdZakAAAAAAAAAAAAAAAAAAAAAAAAAAAAAAAAAAAAAAAAAAAAAAAAAAAAAAAAAAAAAAAAAAAAAAAAAAAAAAAAAAAAAAAAAAAAAAAAAAAAAAAAAAAAAAAAAAAAAAAAAAAAAAAAAAAAAAAAAAAAAAAAAAAAAAAAAAAAAAAAAAAAAAAAAAAAAAAAAAAAAAAAAAAAAAAAAAAAAAAAAAAAAAAAAAAAAAAAAAAAAAAAAAAAAAAAAAAAAAAAAAAAAAAAAAAAAAAAAAAAAAAAAAAAAAAAAAAAAAAAAAAAAAAAAAAAAAAAAAAAAAAAAAAAAAAAAAAAAAAAAAAAAAAAAAAAAAAAAAAAAAAAAAAAAAAAAAAAAAAAAAAAAAAAAAAAAAAAAAAAAAAAAAAAAAAAAAAAAAAAAAAAAAAAAAAAAAAAAAAAAAAAAAAAAAAAAAAAAAAAAAAAAAAAAAAAAAAAAAAAAAAAAAAAAAAAAAAAAAAAAAAAAAAAAAAAAAAAAAAAAAAAAAAAAAAAAAAAAAAAAAAAAAAAAAAAAAAAAAAAAAAAAAAAAAAAAAAAAAAAAAAAAAAAAAAAAAAAAAAAAAAAAAAAAAAAAAAAAAAAAAAAAAAAAAAAAAAAAAAAAAAAAAAAAAAAAAAA=\"},\"shape\":[500],\"dtype\":\"float32\",\"order\":\"little\"}]]}}},\"view\":{\"type\":\"object\",\"name\":\"CDSView\",\"id\":\"p5407\",\"attributes\":{\"filter\":{\"type\":\"object\",\"name\":\"AllIndices\",\"id\":\"p5408\"}}},\"glyph\":{\"type\":\"object\",\"name\":\"Line\",\"id\":\"p5403\",\"attributes\":{\"tags\":[\"apply_ranges\"],\"x\":{\"type\":\"field\",\"field\":\"\\u0394t\"},\"y\":{\"type\":\"field\",\"field\":\"\\u03be2\"},\"line_color\":\"#bcbd22\",\"line_width\":2}},\"selection_glyph\":{\"type\":\"object\",\"name\":\"Line\",\"id\":\"p5410\",\"attributes\":{\"tags\":[\"apply_ranges\"],\"x\":{\"type\":\"field\",\"field\":\"\\u0394t\"},\"y\":{\"type\":\"field\",\"field\":\"\\u03be2\"},\"line_color\":\"#bcbd22\",\"line_width\":2}},\"nonselection_glyph\":{\"type\":\"object\",\"name\":\"Line\",\"id\":\"p5404\",\"attributes\":{\"tags\":[\"apply_ranges\"],\"x\":{\"type\":\"field\",\"field\":\"\\u0394t\"},\"y\":{\"type\":\"field\",\"field\":\"\\u03be2\"},\"line_color\":\"#bcbd22\",\"line_alpha\":0.1,\"line_width\":2}},\"muted_glyph\":{\"type\":\"object\",\"name\":\"Line\",\"id\":\"p5405\",\"attributes\":{\"tags\":[\"apply_ranges\"],\"x\":{\"type\":\"field\",\"field\":\"\\u0394t\"},\"y\":{\"type\":\"field\",\"field\":\"\\u03be2\"},\"line_color\":\"#bcbd22\",\"line_alpha\":0.2,\"line_width\":2}}}}],\"toolbar\":{\"type\":\"object\",\"name\":\"Toolbar\",\"id\":\"p5232\",\"attributes\":{\"tools\":[{\"type\":\"object\",\"name\":\"SaveTool\",\"id\":\"p5245\"},{\"id\":\"p5246\"},{\"id\":\"p5247\"},{\"id\":\"p5248\"},{\"id\":\"p5250\"}],\"active_drag\":{\"id\":\"p5246\"},\"active_scroll\":{\"id\":\"p5247\"}}},\"toolbar_location\":null,\"left\":[{\"type\":\"object\",\"name\":\"LinearAxis\",\"id\":\"p5240\",\"attributes\":{\"ticker\":{\"type\":\"object\",\"name\":\"BasicTicker\",\"id\":\"p5241\",\"attributes\":{\"mantissas\":[1,2,5]}},\"formatter\":{\"type\":\"object\",\"name\":\"BasicTickFormatter\",\"id\":\"p5242\"},\"axis_label\":\"\\u27e8\\u03be\\u00b2\\u27e9\",\"major_label_policy\":{\"type\":\"object\",\"name\":\"AllLabels\",\"id\":\"p5243\"}}}],\"above\":[{\"type\":\"object\",\"name\":\"Legend\",\"id\":\"p5263\",\"attributes\":{\"location\":[0,0],\"orientation\":\"horizontal\",\"click_policy\":\"mute\",\"items\":[{\"type\":\"object\",\"name\":\"LegendItem\",\"id\":\"p5264\",\"attributes\":{\"label\":{\"type\":\"value\",\"value\":\"Single realization\"},\"renderers\":[{\"id\":\"p5260\"},{\"id\":\"p5275\"},{\"id\":\"p5288\"},{\"id\":\"p5301\"},{\"id\":\"p5314\"},{\"id\":\"p5327\"},{\"id\":\"p5340\"},{\"id\":\"p5353\"},{\"id\":\"p5366\"},{\"id\":\"p5379\"}]}},{\"type\":\"object\",\"name\":\"LegendItem\",\"id\":\"p5395\",\"attributes\":{\"label\":{\"type\":\"value\",\"value\":\"Average (20 realizations)\"},\"renderers\":[{\"id\":\"p5392\"}]}},{\"type\":\"object\",\"name\":\"LegendItem\",\"id\":\"p5409\",\"attributes\":{\"label\":{\"type\":\"value\",\"value\":\"Theoretical\"},\"renderers\":[{\"id\":\"p5406\"}]}}]}}],\"below\":[{\"type\":\"object\",\"name\":\"LinearAxis\",\"id\":\"p5235\",\"attributes\":{\"ticker\":{\"type\":\"object\",\"name\":\"BasicTicker\",\"id\":\"p5236\",\"attributes\":{\"mantissas\":[1,2,5]}},\"formatter\":{\"type\":\"object\",\"name\":\"BasicTickFormatter\",\"id\":\"p5237\"},\"axis_label\":\"time lag (ms)\",\"major_label_policy\":{\"type\":\"object\",\"name\":\"AllLabels\",\"id\":\"p5238\"}}}],\"center\":[{\"type\":\"object\",\"name\":\"Grid\",\"id\":\"p5239\",\"attributes\":{\"axis\":{\"id\":\"p5235\"},\"grid_line_color\":null}},{\"type\":\"object\",\"name\":\"Grid\",\"id\":\"p5244\",\"attributes\":{\"dimension\":1,\"axis\":{\"id\":\"p5240\"},\"grid_line_color\":null}}],\"min_border_top\":10,\"min_border_bottom\":10,\"min_border_left\":10,\"min_border_right\":10,\"output_backend\":\"webgl\"}},0,0],[{\"type\":\"object\",\"name\":\"Figure\",\"id\":\"p5413\",\"attributes\":{\"width\":500,\"height\":300,\"sizing_mode\":\"fixed\",\"align\":\"start\",\"x_range\":{\"type\":\"object\",\"name\":\"Range1d\",\"id\":\"p5411\",\"attributes\":{\"tags\":[[[\"t\",\"time\",\"ms\"]]],\"end\":50.0,\"reset_start\":0.0,\"reset_end\":50.0}},\"y_range\":{\"type\":\"object\",\"name\":\"Range1d\",\"id\":\"p5412\",\"attributes\":{\"tags\":[[[\"\\u03be\",\"\\u03be\",null]]],\"start\":-1.1299394369125366,\"end\":1.4271613359451294,\"reset_start\":-1.1299394369125366,\"reset_end\":1.4271613359451294}},\"x_scale\":{\"type\":\"object\",\"name\":\"LinearScale\",\"id\":\"p5423\"},\"y_scale\":{\"type\":\"object\",\"name\":\"LinearScale\",\"id\":\"p5424\"},\"title\":{\"type\":\"object\",\"name\":\"Title\",\"id\":\"p5416\",\"attributes\":{\"text\":\"Noise realizations\",\"text_color\":\"black\",\"text_font_size\":\"12pt\"}},\"renderers\":[{\"type\":\"object\",\"name\":\"GlyphRenderer\",\"id\":\"p5450\",\"attributes\":{\"data_source\":{\"type\":\"object\",\"name\":\"ColumnDataSource\",\"id\":\"p5441\",\"attributes\":{\"selected\":{\"type\":\"object\",\"name\":\"Selection\",\"id\":\"p5442\",\"attributes\":{\"indices\":[],\"line_indices\":[]}},\"selection_policy\":{\"type\":\"object\",\"name\":\"UnionRenderers\",\"id\":\"p5443\"},\"data\":{\"type\":\"map\",\"entries\":[[\"t\",{\"type\":\"ndarray\",\"array\":{\"type\":\"bytes\",\"data\":\"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\"},\"shape\":[500],\"dtype\":\"float64\",\"order\":\"little\"}],[\"\\u03be\",{\"type\":\"ndarray\",\"array\":{\"type\":\"bytes\",\"data\":\"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\"},\"shape\":[500],\"dtype\":\"float64\",\"order\":\"little\"}]]}}},\"view\":{\"type\":\"object\",\"name\":\"CDSView\",\"id\":\"p5451\",\"attributes\":{\"filter\":{\"type\":\"object\",\"name\":\"AllIndices\",\"id\":\"p5452\"}}},\"glyph\":{\"type\":\"object\",\"name\":\"Line\",\"id\":\"p5447\",\"attributes\":{\"tags\":[\"apply_ranges\"],\"x\":{\"type\":\"field\",\"field\":\"t\"},\"y\":{\"type\":\"field\",\"field\":\"\\u03be\"},\"line_color\":\"#b2b2b2\",\"line_width\":2}},\"selection_glyph\":{\"type\":\"object\",\"name\":\"Line\",\"id\":\"p5455\",\"attributes\":{\"tags\":[\"apply_ranges\"],\"x\":{\"type\":\"field\",\"field\":\"t\"},\"y\":{\"type\":\"field\",\"field\":\"\\u03be\"},\"line_color\":\"#b2b2b2\",\"line_width\":2}},\"nonselection_glyph\":{\"type\":\"object\",\"name\":\"Line\",\"id\":\"p5448\",\"attributes\":{\"tags\":[\"apply_ranges\"],\"x\":{\"type\":\"field\",\"field\":\"t\"},\"y\":{\"type\":\"field\",\"field\":\"\\u03be\"},\"line_color\":\"#b2b2b2\",\"line_alpha\":0.1,\"line_width\":2}},\"muted_glyph\":{\"type\":\"object\",\"name\":\"Line\",\"id\":\"p5449\",\"attributes\":{\"tags\":[\"apply_ranges\"],\"x\":{\"type\":\"field\",\"field\":\"t\"},\"y\":{\"type\":\"field\",\"field\":\"\\u03be\"},\"line_color\":\"#b2b2b2\",\"line_alpha\":0.2,\"line_width\":2}}}},{\"type\":\"object\",\"name\":\"GlyphRenderer\",\"id\":\"p5465\",\"attributes\":{\"data_source\":{\"type\":\"object\",\"name\":\"ColumnDataSource\",\"id\":\"p5456\",\"attributes\":{\"selected\":{\"type\":\"object\",\"name\":\"Selection\",\"id\":\"p5457\",\"attributes\":{\"indices\":[],\"line_indices\":[]}},\"selection_policy\":{\"type\":\"object\",\"name\":\"UnionRenderers\",\"id\":\"p5458\"},\"data\":{\"type\":\"map\",\"entries\":[[\"t\",{\"type\":\"ndarray\",\"array\":{\"type\":\"bytes\",\"data\":\"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\"},\"shape\":[500],\"dtype\":\"float64\",\"order\":\"little\"}],[\"\\u03be\",{\"type\":\"ndarray\",\"array\":{\"type\":\"bytes\",\"data\":\"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\"},\"shape\":[500],\"dtype\":\"float64\",\"order\":\"little\"}]]}}},\"view\":{\"type\":\"object\",\"name\":\"CDSView\",\"id\":\"p5466\",\"attributes\":{\"filter\":{\"type\":\"object\",\"name\":\"AllIndices\",\"id\":\"p5467\"}}},\"glyph\":{\"type\":\"object\",\"name\":\"Line\",\"id\":\"p5462\",\"attributes\":{\"tags\":[\"apply_ranges\"],\"x\":{\"type\":\"field\",\"field\":\"t\"},\"y\":{\"type\":\"field\",\"field\":\"\\u03be\"},\"line_color\":\"#8c8c8c\",\"line_width\":2}},\"selection_glyph\":{\"type\":\"object\",\"name\":\"Line\",\"id\":\"p5468\",\"attributes\":{\"tags\":[\"apply_ranges\"],\"x\":{\"type\":\"field\",\"field\":\"t\"},\"y\":{\"type\":\"field\",\"field\":\"\\u03be\"},\"line_color\":\"#8c8c8c\",\"line_width\":2}},\"nonselection_glyph\":{\"type\":\"object\",\"name\":\"Line\",\"id\":\"p5463\",\"attributes\":{\"tags\":[\"apply_ranges\"],\"x\":{\"type\":\"field\",\"field\":\"t\"},\"y\":{\"type\":\"field\",\"field\":\"\\u03be\"},\"line_color\":\"#8c8c8c\",\"line_alpha\":0.1,\"line_width\":2}},\"muted_glyph\":{\"type\":\"object\",\"name\":\"Line\",\"id\":\"p5464\",\"attributes\":{\"tags\":[\"apply_ranges\"],\"x\":{\"type\":\"field\",\"field\":\"t\"},\"y\":{\"type\":\"field\",\"field\":\"\\u03be\"},\"line_color\":\"#8c8c8c\",\"line_alpha\":0.2,\"line_width\":2}}}},{\"type\":\"object\",\"name\":\"GlyphRenderer\",\"id\":\"p5478\",\"attributes\":{\"data_source\":{\"type\":\"object\",\"name\":\"ColumnDataSource\",\"id\":\"p5469\",\"attributes\":{\"selected\":{\"type\":\"object\",\"name\":\"Selection\",\"id\":\"p5470\",\"attributes\":{\"indices\":[],\"line_indices\":[]}},\"selection_policy\":{\"type\":\"object\",\"name\":\"UnionRenderers\",\"id\":\"p5471\"},\"data\":{\"type\":\"map\",\"entries\":[[\"t\",{\"type\":\"ndarray\",\"array\":{\"type\":\"bytes\",\"data\":\"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\"},\"shape\":[500],\"dtype\":\"float64\",\"order\":\"little\"}],[\"\\u03be\",{\"type\":\"ndarray\",\"array\":{\"type\":\"bytes\",\"data\":\"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\"},\"shape\":[500],\"dtype\":\"float64\",\"order\":\"little\"}]]}}},\"view\":{\"type\":\"object\",\"name\":\"CDSView\",\"id\":\"p5479\",\"attributes\":{\"filter\":{\"type\":\"object\",\"name\":\"AllIndices\",\"id\":\"p5480\"}}},\"glyph\":{\"type\":\"object\",\"name\":\"Line\",\"id\":\"p5475\",\"attributes\":{\"tags\":[\"apply_ranges\"],\"x\":{\"type\":\"field\",\"field\":\"t\"},\"y\":{\"type\":\"field\",\"field\":\"\\u03be\"},\"line_color\":\"#ababab\",\"line_width\":2}},\"selection_glyph\":{\"type\":\"object\",\"name\":\"Line\",\"id\":\"p5481\",\"attributes\":{\"tags\":[\"apply_ranges\"],\"x\":{\"type\":\"field\",\"field\":\"t\"},\"y\":{\"type\":\"field\",\"field\":\"\\u03be\"},\"line_color\":\"#ababab\",\"line_width\":2}},\"nonselection_glyph\":{\"type\":\"object\",\"name\":\"Line\",\"id\":\"p5476\",\"attributes\":{\"tags\":[\"apply_ranges\"],\"x\":{\"type\":\"field\",\"field\":\"t\"},\"y\":{\"type\":\"field\",\"field\":\"\\u03be\"},\"line_color\":\"#ababab\",\"line_alpha\":0.1,\"line_width\":2}},\"muted_glyph\":{\"type\":\"object\",\"name\":\"Line\",\"id\":\"p5477\",\"attributes\":{\"tags\":[\"apply_ranges\"],\"x\":{\"type\":\"field\",\"field\":\"t\"},\"y\":{\"type\":\"field\",\"field\":\"\\u03be\"},\"line_color\":\"#ababab\",\"line_alpha\":0.2,\"line_width\":2}}}},{\"type\":\"object\",\"name\":\"GlyphRenderer\",\"id\":\"p5491\",\"attributes\":{\"data_source\":{\"type\":\"object\",\"name\":\"ColumnDataSource\",\"id\":\"p5482\",\"attributes\":{\"selected\":{\"type\":\"object\",\"name\":\"Selection\",\"id\":\"p5483\",\"attributes\":{\"indices\":[],\"line_indices\":[]}},\"selection_policy\":{\"type\":\"object\",\"name\":\"UnionRenderers\",\"id\":\"p5484\"},\"data\":{\"type\":\"map\",\"entries\":[[\"t\",{\"type\":\"ndarray\",\"array\":{\"type\":\"bytes\",\"data\":\"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\"},\"shape\":[500],\"dtype\":\"float64\",\"order\":\"little\"}],[\"\\u03be\",{\"type\":\"ndarray\",\"array\":{\"type\":\"bytes\",\"data\":\"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\"},\"shape\":[500],\"dtype\":\"float64\",\"order\":\"little\"}]]}}},\"view\":{\"type\":\"object\",\"name\":\"CDSView\",\"id\":\"p5492\",\"attributes\":{\"filter\":{\"type\":\"object\",\"name\":\"AllIndices\",\"id\":\"p5493\"}}},\"glyph\":{\"type\":\"object\",\"name\":\"Line\",\"id\":\"p5488\",\"attributes\":{\"tags\":[\"apply_ranges\"],\"x\":{\"type\":\"field\",\"field\":\"t\"},\"y\":{\"type\":\"field\",\"field\":\"\\u03be\"},\"line_color\":\"#c6c6c6\",\"line_width\":2}},\"selection_glyph\":{\"type\":\"object\",\"name\":\"Line\",\"id\":\"p5494\",\"attributes\":{\"tags\":[\"apply_ranges\"],\"x\":{\"type\":\"field\",\"field\":\"t\"},\"y\":{\"type\":\"field\",\"field\":\"\\u03be\"},\"line_color\":\"#c6c6c6\",\"line_width\":2}},\"nonselection_glyph\":{\"type\":\"object\",\"name\":\"Line\",\"id\":\"p5489\",\"attributes\":{\"tags\":[\"apply_ranges\"],\"x\":{\"type\":\"field\",\"field\":\"t\"},\"y\":{\"type\":\"field\",\"field\":\"\\u03be\"},\"line_color\":\"#c6c6c6\",\"line_alpha\":0.1,\"line_width\":2}},\"muted_glyph\":{\"type\":\"object\",\"name\":\"Line\",\"id\":\"p5490\",\"attributes\":{\"tags\":[\"apply_ranges\"],\"x\":{\"type\":\"field\",\"field\":\"t\"},\"y\":{\"type\":\"field\",\"field\":\"\\u03be\"},\"line_color\":\"#c6c6c6\",\"line_alpha\":0.2,\"line_width\":2}}}},{\"type\":\"object\",\"name\":\"GlyphRenderer\",\"id\":\"p5504\",\"attributes\":{\"data_source\":{\"type\":\"object\",\"name\":\"ColumnDataSource\",\"id\":\"p5495\",\"attributes\":{\"selected\":{\"type\":\"object\",\"name\":\"Selection\",\"id\":\"p5496\",\"attributes\":{\"indices\":[],\"line_indices\":[]}},\"selection_policy\":{\"type\":\"object\",\"name\":\"UnionRenderers\",\"id\":\"p5497\"},\"data\":{\"type\":\"map\",\"entries\":[[\"t\",{\"type\":\"ndarray\",\"array\":{\"type\":\"bytes\",\"data\":\"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\"},\"shape\":[500],\"dtype\":\"float64\",\"order\":\"little\"}],[\"\\u03be\",{\"type\":\"ndarray\",\"array\":{\"type\":\"bytes\",\"data\":\"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\"},\"shape\":[500],\"dtype\":\"float64\",\"order\":\"little\"}]]}}},\"view\":{\"type\":\"object\",\"name\":\"CDSView\",\"id\":\"p5505\",\"attributes\":{\"filter\":{\"type\":\"object\",\"name\":\"AllIndices\",\"id\":\"p5506\"}}},\"glyph\":{\"type\":\"object\",\"name\":\"Line\",\"id\":\"p5501\",\"attributes\":{\"tags\":[\"apply_ranges\"],\"x\":{\"type\":\"field\",\"field\":\"t\"},\"y\":{\"type\":\"field\",\"field\":\"\\u03be\"},\"line_color\":\"#c1c1c1\",\"line_width\":2}},\"selection_glyph\":{\"type\":\"object\",\"name\":\"Line\",\"id\":\"p5507\",\"attributes\":{\"tags\":[\"apply_ranges\"],\"x\":{\"type\":\"field\",\"field\":\"t\"},\"y\":{\"type\":\"field\",\"field\":\"\\u03be\"},\"line_color\":\"#c1c1c1\",\"line_width\":2}},\"nonselection_glyph\":{\"type\":\"object\",\"name\":\"Line\",\"id\":\"p5502\",\"attributes\":{\"tags\":[\"apply_ranges\"],\"x\":{\"type\":\"field\",\"field\":\"t\"},\"y\":{\"type\":\"field\",\"field\":\"\\u03be\"},\"line_color\":\"#c1c1c1\",\"line_alpha\":0.1,\"line_width\":2}},\"muted_glyph\":{\"type\":\"object\",\"name\":\"Line\",\"id\":\"p5503\",\"attributes\":{\"tags\":[\"apply_ranges\"],\"x\":{\"type\":\"field\",\"field\":\"t\"},\"y\":{\"type\":\"field\",\"field\":\"\\u03be\"},\"line_color\":\"#c1c1c1\",\"line_alpha\":0.2,\"line_width\":2}}}},{\"type\":\"object\",\"name\":\"GlyphRenderer\",\"id\":\"p5517\",\"attributes\":{\"data_source\":{\"type\":\"object\",\"name\":\"ColumnDataSource\",\"id\":\"p5508\",\"attributes\":{\"selected\":{\"type\":\"object\",\"name\":\"Selection\",\"id\":\"p5509\",\"attributes\":{\"indices\":[],\"line_indices\":[]}},\"selection_policy\":{\"type\":\"object\",\"name\":\"UnionRenderers\",\"id\":\"p5510\"},\"data\":{\"type\":\"map\",\"entries\":[[\"t\",{\"type\":\"ndarray\",\"array\":{\"type\":\"bytes\",\"data\":\"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\"},\"shape\":[500],\"dtype\":\"float64\",\"order\":\"little\"}],[\"\\u03be\",{\"type\":\"ndarray\",\"array\":{\"type\":\"bytes\",\"data\":\"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\"},\"shape\":[500],\"dtype\":\"float64\",\"order\":\"little\"}]]}}},\"view\":{\"type\":\"object\",\"name\":\"CDSView\",\"id\":\"p5518\",\"attributes\":{\"filter\":{\"type\":\"object\",\"name\":\"AllIndices\",\"id\":\"p5519\"}}},\"glyph\":{\"type\":\"object\",\"name\":\"Line\",\"id\":\"p5514\",\"attributes\":{\"tags\":[\"apply_ranges\"],\"x\":{\"type\":\"field\",\"field\":\"t\"},\"y\":{\"type\":\"field\",\"field\":\"\\u03be\"},\"line_color\":\"#757575\",\"line_width\":2}},\"selection_glyph\":{\"type\":\"object\",\"name\":\"Line\",\"id\":\"p5520\",\"attributes\":{\"tags\":[\"apply_ranges\"],\"x\":{\"type\":\"field\",\"field\":\"t\"},\"y\":{\"type\":\"field\",\"field\":\"\\u03be\"},\"line_color\":\"#757575\",\"line_width\":2}},\"nonselection_glyph\":{\"type\":\"object\",\"name\":\"Line\",\"id\":\"p5515\",\"attributes\":{\"tags\":[\"apply_ranges\"],\"x\":{\"type\":\"field\",\"field\":\"t\"},\"y\":{\"type\":\"field\",\"field\":\"\\u03be\"},\"line_color\":\"#757575\",\"line_alpha\":0.1,\"line_width\":2}},\"muted_glyph\":{\"type\":\"object\",\"name\":\"Line\",\"id\":\"p5516\",\"attributes\":{\"tags\":[\"apply_ranges\"],\"x\":{\"type\":\"field\",\"field\":\"t\"},\"y\":{\"type\":\"field\",\"field\":\"\\u03be\"},\"line_color\":\"#757575\",\"line_alpha\":0.2,\"line_width\":2}}}},{\"type\":\"object\",\"name\":\"GlyphRenderer\",\"id\":\"p5530\",\"attributes\":{\"data_source\":{\"type\":\"object\",\"name\":\"ColumnDataSource\",\"id\":\"p5521\",\"attributes\":{\"selected\":{\"type\":\"object\",\"name\":\"Selection\",\"id\":\"p5522\",\"attributes\":{\"indices\":[],\"line_indices\":[]}},\"selection_policy\":{\"type\":\"object\",\"name\":\"UnionRenderers\",\"id\":\"p5523\"},\"data\":{\"type\":\"map\",\"entries\":[[\"t\",{\"type\":\"ndarray\",\"array\":{\"type\":\"bytes\",\"data\":\"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\"},\"shape\":[500],\"dtype\":\"float64\",\"order\":\"little\"}],[\"\\u03be\",{\"type\":\"ndarray\",\"array\":{\"type\":\"bytes\",\"data\":\"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\"},\"shape\":[500],\"dtype\":\"float64\",\"order\":\"little\"}]]}}},\"view\":{\"type\":\"object\",\"name\":\"CDSView\",\"id\":\"p5531\",\"attributes\":{\"filter\":{\"type\":\"object\",\"name\":\"AllIndices\",\"id\":\"p5532\"}}},\"glyph\":{\"type\":\"object\",\"name\":\"Line\",\"id\":\"p5527\",\"attributes\":{\"tags\":[\"apply_ranges\"],\"x\":{\"type\":\"field\",\"field\":\"t\"},\"y\":{\"type\":\"field\",\"field\":\"\\u03be\"},\"line_color\":\"#808080\",\"line_width\":2}},\"selection_glyph\":{\"type\":\"object\",\"name\":\"Line\",\"id\":\"p5533\",\"attributes\":{\"tags\":[\"apply_ranges\"],\"x\":{\"type\":\"field\",\"field\":\"t\"},\"y\":{\"type\":\"field\",\"field\":\"\\u03be\"},\"line_color\":\"#808080\",\"line_width\":2}},\"nonselection_glyph\":{\"type\":\"object\",\"name\":\"Line\",\"id\":\"p5528\",\"attributes\":{\"tags\":[\"apply_ranges\"],\"x\":{\"type\":\"field\",\"field\":\"t\"},\"y\":{\"type\":\"field\",\"field\":\"\\u03be\"},\"line_color\":\"#808080\",\"line_alpha\":0.1,\"line_width\":2}},\"muted_glyph\":{\"type\":\"object\",\"name\":\"Line\",\"id\":\"p5529\",\"attributes\":{\"tags\":[\"apply_ranges\"],\"x\":{\"type\":\"field\",\"field\":\"t\"},\"y\":{\"type\":\"field\",\"field\":\"\\u03be\"},\"line_color\":\"#808080\",\"line_alpha\":0.2,\"line_width\":2}}}},{\"type\":\"object\",\"name\":\"GlyphRenderer\",\"id\":\"p5543\",\"attributes\":{\"data_source\":{\"type\":\"object\",\"name\":\"ColumnDataSource\",\"id\":\"p5534\",\"attributes\":{\"selected\":{\"type\":\"object\",\"name\":\"Selection\",\"id\":\"p5535\",\"attributes\":{\"indices\":[],\"line_indices\":[]}},\"selection_policy\":{\"type\":\"object\",\"name\":\"UnionRenderers\",\"id\":\"p5536\"},\"data\":{\"type\":\"map\",\"entries\":[[\"t\",{\"type\":\"ndarray\",\"array\":{\"type\":\"bytes\",\"data\":\"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\"},\"shape\":[500],\"dtype\":\"float64\",\"order\":\"little\"}],[\"\\u03be\",{\"type\":\"ndarray\",\"array\":{\"type\":\"bytes\",\"data\":\"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\"},\"shape\":[500],\"dtype\":\"float64\",\"order\":\"little\"}]]}}},\"view\":{\"type\":\"object\",\"name\":\"CDSView\",\"id\":\"p5544\",\"attributes\":{\"filter\":{\"type\":\"object\",\"name\":\"AllIndices\",\"id\":\"p5545\"}}},\"glyph\":{\"type\":\"object\",\"name\":\"Line\",\"id\":\"p5540\",\"attributes\":{\"tags\":[\"apply_ranges\"],\"x\":{\"type\":\"field\",\"field\":\"t\"},\"y\":{\"type\":\"field\",\"field\":\"\\u03be\"},\"line_color\":\"#9e9e9e\",\"line_width\":2}},\"selection_glyph\":{\"type\":\"object\",\"name\":\"Line\",\"id\":\"p5546\",\"attributes\":{\"tags\":[\"apply_ranges\"],\"x\":{\"type\":\"field\",\"field\":\"t\"},\"y\":{\"type\":\"field\",\"field\":\"\\u03be\"},\"line_color\":\"#9e9e9e\",\"line_width\":2}},\"nonselection_glyph\":{\"type\":\"object\",\"name\":\"Line\",\"id\":\"p5541\",\"attributes\":{\"tags\":[\"apply_ranges\"],\"x\":{\"type\":\"field\",\"field\":\"t\"},\"y\":{\"type\":\"field\",\"field\":\"\\u03be\"},\"line_color\":\"#9e9e9e\",\"line_alpha\":0.1,\"line_width\":2}},\"muted_glyph\":{\"type\":\"object\",\"name\":\"Line\",\"id\":\"p5542\",\"attributes\":{\"tags\":[\"apply_ranges\"],\"x\":{\"type\":\"field\",\"field\":\"t\"},\"y\":{\"type\":\"field\",\"field\":\"\\u03be\"},\"line_color\":\"#9e9e9e\",\"line_alpha\":0.2,\"line_width\":2}}}},{\"type\":\"object\",\"name\":\"GlyphRenderer\",\"id\":\"p5556\",\"attributes\":{\"data_source\":{\"type\":\"object\",\"name\":\"ColumnDataSource\",\"id\":\"p5547\",\"attributes\":{\"selected\":{\"type\":\"object\",\"name\":\"Selection\",\"id\":\"p5548\",\"attributes\":{\"indices\":[],\"line_indices\":[]}},\"selection_policy\":{\"type\":\"object\",\"name\":\"UnionRenderers\",\"id\":\"p5549\"},\"data\":{\"type\":\"map\",\"entries\":[[\"t\",{\"type\":\"ndarray\",\"array\":{\"type\":\"bytes\",\"data\":\"AAAAAAAAAACpLX3Eu6a5P6ktfcS7psk/P+Jd0ww90z+pLX3Eu6bZP4o8zlo1COA/P+Jd0ww94z/0h+1L5HHmP6ktfcS7puk/XtMMPZPb7D+KPM5aNQjwP2QPFhehovE/P+Jd0ww98z8ZtaWPeNf0P/SH7UvkcfY/zlo1CFAM+D+pLX3Eu6b5P4QAxYAnQfs/XtMMPZPb/D85plT5/nX+P4o8zlo1CABA9yXyOGvVAEBkDxYXoaIBQNH4OfXWbwJAP+Jd0ww9A0Csy4GxQgoEQBm1pY941wRAh57Jba6kBUD0h+1L5HEGQGFxESoaPwdAzlo1CFAMCEA8RFnmhdkIQKktfcS7pglAFhehovFzCkCEAMWAJ0ELQPHp6F5dDgxAXtMMPZPbDEDLvDAbyagNQDmmVPn+dQ5Apo941zRDD0CKPM5aNQgQQEAx4EnQbhBA9yXyOGvVEECuGgQoBjwRQGQPFhehohFAGwQoBjwJEkDR+Dn11m8SQIjtS+Rx1hJAP+Jd0ww9E0D11m/Cp6MTQKzLgbFCChRAY8CToN1wFEAZtaWPeNcUQNCpt34TPhVAh57Jba6kFUA9k9tcSQsWQPSH7UvkcRZAq3z/On/YFkBhcREqGj8XQBhmIxm1pRdAzlo1CFAMGECFT0f36nIYQDxEWeaF2RhA8jhr1SBAGUCpLX3Eu6YZQGAij7NWDRpAFhehovFzGkDNC7ORjNoaQIQAxYAnQRtAOvXWb8KnG0Dx6eheXQ4cQKfe+k34dBxAXtMMPZPbHEAVyB4sLkIdQMu8MBvJqB1AgrFCCmQPHkA5plT5/nUeQO+aZuiZ3B5Apo941zRDH0BdhIrGz6kfQIo8zlo1CCBA5TZX0oI7IEBAMeBJ0G4gQJwracEdoiBA9yXyOGvVIEBSIHuwuAghQK4aBCgGPCFACRWNn1NvIUBkDxYXoaIhQMAJn47u1SFAGwQoBjwJIkB2/rB9iTwiQNH4OfXWbyJALfPCbCSjIkCI7UvkcdYiQOPn1Fu/CSNAP+Jd0ww9I0Ca3OZKWnAjQPXWb8KnoyNAUdH4OfXWI0Csy4GxQgokQAfGCimQPSRAY8CToN1wJEC+uhwYK6QkQBm1pY941yRAda8uB8YKJUDQqbd+Ez4lQCukQPZgcSVAh57Jba6kJUDimFLl+9clQD2T21xJCyZAmY1k1JY+JkD0h+1L5HEmQE+CdsMxpSZAq3z/On/YJkAGd4iyzAsnQGFxESoaPydAvGuaoWdyJ0AYZiMZtaUnQHNgrJAC2SdAzlo1CFAMKEAqVb5/nT8oQIVPR/fqcihA4EnQbjimKEA8RFnmhdkoQJc+4l3TDClA8jhr1SBAKUBOM/RMbnMpQKktfcS7pilABCgGPAnaKUBgIo+zVg0qQLscGCukQCpAFhehovFzKkByESoaP6cqQM0Ls5GM2ipAKAY8CdoNK0CEAMWAJ0ErQN/6Tfh0dCtAOvXWb8KnK0CW71/nD9srQPHp6F5dDixATORx1qpBLECn3vpN+HQsQAPZg8VFqCxAXtMMPZPbLEC5zZW04A4tQBXIHiwuQi1AcMKno3t1LUDLvDAbyagtQCe3uZIW3C1AgrFCCmQPLkDdq8uBsUIuQDmmVPn+dS5AlKDdcEypLkDvmmbomdwuQEuV71/nDy9Apo941zRDL0ABigFPgnYvQF2EisbPqS9AuH4TPh3dL0CKPM5aNQgwQLe5khbcITBA5TZX0oI7MEATtBuOKVUwQEAx4EnQbjBAbq6kBXeIMECcK2nBHaIwQMmoLX3EuzBA9yXyOGvVMEAlo7b0Ee8wQFIge7C4CDFAgJ0/bF8iMUCuGgQoBjwxQNuXyOOsVTFACRWNn1NvMUA3klFb+ogxQGQPFhehojFAkoza0ke8MUDACZ+O7tUxQO2GY0qV7zFAGwQoBjwJMkBIgezB4iIyQHb+sH2JPDJApHt1OTBWMkDR+Dn11m8yQP91/rB9iTJALfPCbCSjMkBacIcoy7wyQIjtS+Rx1jJAtmoQoBjwMkDj59RbvwkzQBFlmRdmIzNAP+Jd0ww9M0BsXyKPs1YzQJrc5kpacDNAyFmrBgGKM0D11m/Cp6MzQCNUNH5OvTNAUdH4OfXWM0B+Tr31m/AzQKzLgbFCCjRA2khGbekjNEAHxgopkD00QDVDz+Q2VzRAY8CToN1wNECQPVhchIo0QL66HBgrpDRA7Dfh09G9NEAZtaWPeNc0QEcyaksf8TRAda8uB8YKNUCiLPPCbCQ1QNCpt34TPjVA/iZ8OrpXNUArpED2YHE1QFkhBbIHizVAh57Jba6kNUC0G44pVb41QOKYUuX71zVAEBYXoaLxNUA9k9tcSQs2QGsQoBjwJDZAmY1k1JY+NkDGCimQPVg2QPSH7UvkcTZAIgWyB4uLNkBPgnbDMaU2QH3/On/YvjZAq3z/On/YNkDY+cP2JfI2QAZ3iLLMCzdAM/RMbnMlN0BhcREqGj83QI/u1eXAWDdAvGuaoWdyN0Dq6F5dDow3QBhmIxm1pTdARePn1Fu/N0BzYKyQAtk3QKHdcEyp8jdAzlo1CFAMOED81/nD9iU4QCpVvn+dPzhAV9KCO0RZOECFT0f36nI4QLPMC7ORjDhA4EnQbjimOEAOx5Qq3784QDxEWeaF2ThAacEdoizzOECXPuJd0ww5QMW7phl6JjlA8jhr1SBAOUAgti+Rx1k5QE4z9ExuczlAe7C4CBWNOUCpLX3Eu6Y5QNeqQYBiwDlABCgGPAnaOUAypcr3r/M5QGAij7NWDTpAjZ9Tb/0mOkC7HBgrpEA6QOmZ3OZKWjpAFhehovFzOkBElGVemI06QHIRKho/pzpAn47u1eXAOkDNC7ORjNo6QPuId00z9DpAKAY8CdoNO0BWgwDFgCc7QIQAxYAnQTtAsX2JPM5aO0Df+k34dHQ7QA14ErQbjjtAOvXWb8KnO0BocpsracE7QJbvX+cP2ztAw2wko7b0O0Dx6eheXQ48QB9nrRoEKDxATORx1qpBPEB6YTaSUVs8QKfe+k34dDxA1Vu/CZ+OPEAD2YPFRag8QDBWSIHswTxAXtMMPZPbPECMUNH4OfU8QLnNlbTgDj1A50pacIcoPUAVyB4sLkI9QEJF4+fUWz1AcMKno3t1PUCeP2xfIo89QMu8MBvJqD1A+Tn11m/CPUAnt7mSFtw9QFQ0fk699T1AgrFCCmQPPkCwLgfGCik+QN2ry4GxQj5ACymQPVhcPkA5plT5/nU+QGYjGbWljz5AlKDdcEypPkDCHaIs88I+QO+aZuiZ3D5AHRgrpED2PkBLle9f5w8/QHgStBuOKT9Apo941zRDP0DUDD2T21w/QAGKAU+Cdj9ALwfGCimQP0BdhIrGz6k/QIoBT4J2wz9AuH4TPh3dP0Dm+9f5w/Y/QIo8zlo1CEBAIHuwuAgVQEC3uZIW3CFAQE74dHSvLkBA5TZX0oI7QEB8dTkwVkhAQBO0G44pVUBAqfL96/xhQEBAMeBJ0G5AQNdvwqeje0BAbq6kBXeIQEAF7YZjSpVAQJwracEdokBAMmpLH/GuQEDJqC19xLtAQGDnD9uXyEBA9yXyOGvVQECOZNSWPuJAQCWjtvQR70BAu+GYUuX7QEBSIHuwuAhBQOleXQ6MFUFAgJ0/bF8iQUAX3CHKMi9BQK4aBCgGPEFARFnmhdlIQUDbl8jjrFVBQHLWqkGAYkFACRWNn1NvQUCgU2/9JnxBQDeSUVv6iEFAzdAzuc2VQUBkDxYXoaJBQPtN+HR0r0FAkoza0ke8QUApy7wwG8lBQMAJn47u1UFAVkiB7MHiQUDthmNKle9BQITFRaho/EFAGwQoBjwJQkCyQgpkDxZCQEiB7MHiIkJA37/OH7YvQkB2/rB9iTxCQA09k9tcSUJApHt1OTBWQkA7uleXA2NCQNH4OfXWb0JAaDccU6p8QkD/df6wfYlCQJa04A5RlkJALfPCbCSjQkDEMaXK969CQFpwhyjLvEJA8a5php7JQkCI7UvkcdZCQB8sLkJF40JAtmoQoBjwQkBNqfL96/xCQOPn1Fu/CUNAeia3uZIWQ0ARZZkXZiNDQKije3U5MENAP+Jd0ww9Q0DWIEAx4ElDQGxfIo+zVkNAA54E7YZjQ0Ca3OZKWnBDQDEbyagtfUNAyFmrBgGKQ0BfmI1k1JZDQPXWb8Kno0NAjBVSIHuwQ0AjVDR+Tr1DQLqSFtwhykNAUdH4OfXWQ0DoD9uXyONDQH5OvfWb8ENAFY2fU2/9Q0Csy4GxQgpEQEMKZA8WF0RA2khGbekjREBxhyjLvDBEQAfGCimQPURAngTthmNKREA1Q8/kNldEQMyBsUIKZERAY8CToN1wRED6/nX+sH1EQJA9WFyEikRAJ3w6uleXREC+uhwYK6REQFX5/nX+sERA7Dfh09G9RECCdsMxpcpEQBm1pY9410RAsPOH7UvkREBHMmpLH/FEQN5wTKny/URAda8uB8YKRUAL7hBlmRdFQKIs88JsJEVAOWvVIEAxRUDQqbd+Ez5FQGfomdzmSkVA/iZ8OrpXRUCUZV6YjWRFQCukQPZgcUVAwuIiVDR+RUBZIQWyB4tFQPBf5w/bl0VAh57Jba6kRUAd3avLgbFFQLQbjilVvkVAS1pwhyjLRUDimFLl+9dFQHnXNEPP5EVAEBYXoaLxRUCmVPn+df5FQD2T21xJC0ZA1NG9uhwYRkBrEKAY8CRGQAJPgnbDMUZAmY1k1JY+RkAvzEYyaktGQMYKKZA9WEZAXUkL7hBlRkD0h+1L5HFGQIvGz6m3fkZAIgWyB4uLRkC4Q5RlXphGQE+CdsMxpUZA5sBYIQWyRkB9/zp/2L5GQBQ+Hd2ry0ZAq3z/On/YRkBBu+GYUuVGQNj5w/Yl8kZAbzimVPn+RkAGd4iyzAtHQJ21ahCgGEdAM/RMbnMlR0DKMi/MRjJHQGFxESoaP0dA+K/zh+1LR0CP7tXlwFhHQCYtuEOUZUdAvGuaoWdyR0BTqnz/On9HQOroXl0OjEdAgSdBu+GYR0AYZiMZtaVHQK+kBXeIskdARePn1Fu/R0DcIcoyL8xHQHNgrJAC2UdACp+O7tXlR0Ch3XBMqfJHQDgcU6p8/0dAzlo1CFAMSEBlmRdmIxlIQPzX+cP2JUhAkxbcIcoySEAqVb5/nT9IQMGToN1wTEhAV9KCO0RZSEDuEGWZF2ZIQIVPR/fqckhAHI4pVb5/SECzzAuzkYxIQEoL7hBlmUhA4EnQbjimSEB3iLLMC7NIQA7HlCrfv0hApQV3iLLMSEA8RFnmhdlIQNOCO0RZ5khAacEdoizzSEAAAAAAAABJQA==\"},\"shape\":[500],\"dtype\":\"float64\",\"order\":\"little\"}],[\"\\u03be\",{\"type\":\"ndarray\",\"array\":{\"type\":\"bytes\",\"data\":\"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\"},\"shape\":[500],\"dtype\":\"float64\",\"order\":\"little\"}]]}}},\"view\":{\"type\":\"object\",\"name\":\"CDSView\",\"id\":\"p5557\",\"attributes\":{\"filter\":{\"type\":\"object\",\"name\":\"AllIndices\",\"id\":\"p5558\"}}},\"glyph\":{\"type\":\"object\",\"name\":\"Line\",\"id\":\"p5553\",\"attributes\":{\"tags\":[\"apply_ranges\"],\"x\":{\"type\":\"field\",\"field\":\"t\"},\"y\":{\"type\":\"field\",\"field\":\"\\u03be\"},\"line_color\":\"#808080\",\"line_width\":2}},\"selection_glyph\":{\"type\":\"object\",\"name\":\"Line\",\"id\":\"p5559\",\"attributes\":{\"tags\":[\"apply_ranges\"],\"x\":{\"type\":\"field\",\"field\":\"t\"},\"y\":{\"type\":\"field\",\"field\":\"\\u03be\"},\"line_color\":\"#808080\",\"line_width\":2}},\"nonselection_glyph\":{\"type\":\"object\",\"name\":\"Line\",\"id\":\"p5554\",\"attributes\":{\"tags\":[\"apply_ranges\"],\"x\":{\"type\":\"field\",\"field\":\"t\"},\"y\":{\"type\":\"field\",\"field\":\"\\u03be\"},\"line_color\":\"#808080\",\"line_alpha\":0.1,\"line_width\":2}},\"muted_glyph\":{\"type\":\"object\",\"name\":\"Line\",\"id\":\"p5555\",\"attributes\":{\"tags\":[\"apply_ranges\"],\"x\":{\"type\":\"field\",\"field\":\"t\"},\"y\":{\"type\":\"field\",\"field\":\"\\u03be\"},\"line_color\":\"#808080\",\"line_alpha\":0.2,\"line_width\":2}}}},{\"type\":\"object\",\"name\":\"GlyphRenderer\",\"id\":\"p5569\",\"attributes\":{\"data_source\":{\"type\":\"object\",\"name\":\"ColumnDataSource\",\"id\":\"p5560\",\"attributes\":{\"selected\":{\"type\":\"object\",\"name\":\"Selection\",\"id\":\"p5561\",\"attributes\":{\"indices\":[],\"line_indices\":[]}},\"selection_policy\":{\"type\":\"object\",\"name\":\"UnionRenderers\",\"id\":\"p5562\"},\"data\":{\"type\":\"map\",\"entries\":[[\"t\",{\"type\":\"ndarray\",\"array\":{\"type\":\"bytes\",\"data\":\"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\"},\"shape\":[500],\"dtype\":\"float64\",\"order\":\"little\"}],[\"\\u03be\",{\"type\":\"ndarray\",\"array\":{\"type\":\"bytes\",\"data\":\"AAAA4LmNsL8AAABg6QCkvwAAAGB5V4m/AAAAQN7akD8AAABAcdCoPwAAAEA2qbU/AAAAwCAYwD8AAAAgkxLGPwAAAIB9zcw/AAAAgKci0j8AAAAAnjPWPwAAAEAViNo/AAAAwH4G3z8AAAAgIMfhPwAAAOC8/OM/AAAAoMEP5j8AAACA9uvnPwAAAEDXfuk/AAAAoBW56j8AAADg04/rPwAAAABw/es/AAAAwMcB7D8AAACg6KHrPwAAAEA/5+o/AAAA4GDe6T8AAABAnpXoPwAAAECTG+c/AAAAQOB95T8AAADANcjjPwAAAIDHA+I/AAAAICw34D8AAACAPM3cPwAAAAARKdk/AAAAAHuE1T8AAABge+HRPwAAAIC5hcw/AAAAwLVaxT8AAACAnKG8PwAAAAAF9K0/AAAAADhHfz8AAAAApF6kvwAAAEDsKrW/AAAAgK21vr8AAACgv0TDvwAAAEAPNMa/AAAAwPkPyL8AAADAJcjIvwAAAIAwVsi/AAAAgIG+xr8AAAAAXBDEvwAAAAA1ZcC/AAAAQPK+t78AAAAAoKOqvwAAAABqGH6/AAAAANhXpD8AAAAAjWy2PwAAAMCuOsE/AAAA4LTuxj8AAADAWyDMPwAAAADwUNA/AAAAQMwl0j8AAADAFX/TPwAAAMBfUtQ/AAAAwImb1D8AAAAghF3UPwAAACCtotM/AAAAgJl80j8AAADgOAPRPwAAAICups4/AAAAQBoZyz8AAACAqZ3HPwAAAID8b8Q/AAAAwH7CwT8AAAAgu3S/PwAAAOA/2bw/AAAAwIO5uz8AAAAgvvm7PwAAAIDHXr0/AAAA4AqUvz8AAABAqRnBPwAAAEDLZsI/AAAAIPB5wz8AAADgsh/EPwAAAAAdLMQ/AAAAYAB9wz8AAACgSfvBPwAAAICTNr8/AAAAADa4uD8AAACg6IywPwAAAAC/WJs/AAAAAOv2kL8AAABgw3awvwAAAICOlb2/AAAA4Jyqxb8AAACAY7bMvwAAACD249G/AAAA4O1b1b8AAADAGK/YvwAAAICPydu/AAAAgPmX3r8AAACAGYTgvwAAAOD6hOG/AAAAgMFH4r8AAACgE8fivwAAAGBR/+K/AAAAwKju4r8AAACgEJXivwAAAIAu9OG/AAAAADAP4b8AAAAgOtXfvwAAAMB0GN2/AAAAgOD12b8AAAAAin3WvwAAAACswdK/AAAAIGStzb8AAABg/6XFvwAAAGATOru/AAAAQLAPp78AAAAA0EaLPwAAAECSPLE/AAAAwAGkvT8AAACg1jDEPwAAAIAnp8g/AAAA4OctzD8AAABA98rOPwAAAOAXSNA/AAAAQLTM0D8AAADAxATRPwAAAECOA9E/AAAAgF/c0D8AAABA86DQPwAAAAAhYNA/AAAAAP0k0D8AAACA3ezPPwAAAEBvrs8/AAAAoLOMzz8AAAAAgX/PPwAAAIAkes8/AAAAAB1tzz8AAAAAyEfPPwAAAKDd+c4/AAAAQKp0zj8AAACA9qvNPwAAAICalsw/AAAAQMIuyz8AAACA4XHJPwAAAIBuYMc/AAAAYHD9xD8AAAAgCk7CPwAAACAgsr4/AAAAIJNNuD8AAAAgv4GxPwAAAIBXyqQ/AAAAAMiQiD8AAAAAwmORvwAAAAAScqe/AAAAAGvnsr8AAABADru5vwAAAOCgBcC/AAAAAHXZwr8AAAAgIErFvwAAAIAaTse/AAAAgG3iyL8AAAAgIAvKvwAAAOCl0sq/AAAAYDFIy78AAABAKn3LvwAAAED5gcu/AAAA4Kpiy78AAAAg5CPLvwAAAIC3wMq/AAAAAMApyr8AAADgy0XJvwAAAEAv9Me/AAAAwIsQxr8AAADAt3fDvwAAAEAuDcC/AAAAgMWAt78AAAAACUWqvwAAAACwYnK/AAAAAG1JqD8AAAAAU0i6PwAAAEDjV8Q/AAAAoBJZyz8AAACAIOjQPwAAAMBFtdM/AAAAAHvw1T8AAAAAVn/XPwAAAGCLUtg/AAAAQORm2D8AAABAzMTXPwAAAICmftY/AAAAwCKu1D8AAADA63DSPwAAAMApys8/AAAAALJLyj8AAACAw5HEPwAAAED+cb0/AAAAYOCbsT8AAAAA826WPwAAAICgspq/AAAAAEprs78AAAAAhmnAvwAAAKC4h8e/AAAAgNEcz78AAAAAxZPTvwAAAEDYyte/AAAAoIkh3L8AAACgpD7gvwAAAKBjXuK/AAAAQC9d5L8AAADArCfmvwAAAICuq+e/AAAAgNnZ6L8AAACgAqfpvwAAAGAbDeq/AAAAwJQL6r8AAABALKfpvwAAAIA26ei/AAAA4ILe578AAAAg/pXmvwAAAEBDH+W/AAAAwEWJ478AAACgNuHhvwAAACC9MeC/AAAAwAoF3b8AAABAhLDZvwAAACDkada/AAAAAO8w078AAADgwwLQvwAAAABYt8m/AAAAIONxw78AAAAA4Gm6vwAAAMDWIKy/AAAAAESXf78AAACA0kujPwAAAADIh7Q/AAAAwE5avj8AAAAANmPDPwAAAEDau8Y/AAAAQEcSyT8AAACgokrKPwAAACDxVMo/AAAA4OIuyT8AAABgi+TGPwAAACAUkMM/AAAAoEuxvj8AAAAAReG0PwAAAIAMT6Q/AAAAAGjLbr8AAACAltKnvwAAAEC/Hba/AAAAAFUBv78AAABAlATDvwAAAEBzXMW/AAAAwDNVxr8AAADAf8rFvwAAAGATqsO/AAAAgDvsv78AAAAAsIy1vwAAAAAhHqG/AAAAAA41mj8AAADAwiq3PwAAAACDS8Q/AAAAgAwLzT8AAAAAZbvSPwAAAKC3m9Y/AAAAgOn/2T8AAAAgBMjcPwAAAECj294/AAAAADcV4D8AAADABFbgPwAAAKDuL+A/AAAAIJxM3z8AAACAs3/dPwAAAEClDNs/AAAAgFIM2D8AAACAEJzUPwAAAIDC3NA/AAAAAFHjyT8AAAAASf7BPwAAAKC3pbQ/AAAAgNs0mT8AAAAArjCavwAAAID1c7G/AAAAQGAJur8AAACggv+/vwAAAMC8j8G/AAAAwPykwb8AAADAZjzAvwAAAOBTwLq/AAAAIM1Qsr8AAACAHN2dvwAAAADEipU/AAAAgFe4sz8AAACgvnbBPwAAAAA2Ksk/AAAAoIhN0D8AAACAHbfTPwAAAMBPp9Y/AAAAgHf52D8AAAAgOpHaPwAAAACIXNs/AAAAoLBU2z8AAADgjH7aPwAAAOC26dg/AAAAwO+u1j8AAACA8+3TPwAAAADoytA/AAAAAM/Xyj8AAAAgOu3DPwAAACBkObo/AAAAgMaUqj8AAAAAUIN3PwAAAABiz6G/AAAAoBmWsb8AAADAdWm4vwAAAKD8TL2/AAAAoHsfwL8AAACgSqfAvwAAAIChTMC/AAAAQJBHvr8AAABAuIm6vwAAAAAHlLW/AAAAgMM2r78AAADAraShvwAAAADecXa/AAAAgIL2mT8AAACADnCtPwAAAADUJ7c/AAAAgAGuvz8AAACAExXEPwAAAIATPMg/AAAAgGA3zD8AAADAwu/PPwAAAMAdptE/AAAAwM8Z0z8AAAAgbEfUPwAAAIC8JdU/AAAAwCGv1T8AAACgmuLVPwAAAMBhxNU/AAAAIANe1T8AAAAA5L3UPwAAAIBM9tM/AAAAQBIc0z8AAADAGkXSPwAAAADnhtE/AAAAAFz10D8AAABA56HQPwAAAOALm9A/AAAAwEzs0D8AAABAVZ7RPwAAAMA0t9I/AAAA4Ho61D8AAACAESnWPwAAAAC8gNg/AAAAwGI72z8AAABA/U3ePwAAAGDg0+A/AAAAQMiY4j8AAACACGfkPwAAAABJLeY/AAAAQHPY5z8AAACgC1XpPwAAAMDYkOo/AAAAIKV86z8AAADA4A3sPwAAAEDgP+w/AAAAAIQU7D8AAADgJJTrPwAAAIC/zOo/AAAAQGPQ6T8AAAAAN7PoPwAAACAniec/AAAAgKxj5j8AAADA40/lPwAAAOA7VeQ/AAAAQNl04z8AAADAwaniPwAAAGC/6eE/AAAAgNMm4T8AAABgBVHgPwAAACCfsN4/AAAAAOBc3D8AAACA15DZPwAAAIBVP9Y/AAAAAAVl0j8AAADAxxHMPwAAAOAzd8I/AAAAQEtZsD8AAAAAuG2UvwAAAAAx27q/AAAAgHsiyL8AAADAxizRvwAAAIC64NW/AAAAQPYG2r8AAAAAjn3dvwAAAGApFOC/AAAAgBH54L8AAABA/GbhvwAAAGDSW+G/AAAAgBLa4L8AAADgkNHfvwAAAMCYJt2/AAAA4I/R2b8AAADAFffVvwAAAIBiwNG/AAAAwKWyyr8AAAAAj9zBvwAAAEDUp7K/AAAAADhphr8AAAAArKOmPwAAAIDNTLc/AAAA4CduwD8AAADAz+3DPwAAAAD4I8Y/AAAAQKoexz8AAACAi/jGPwAAAIB01cU/AAAA4HPewz8AAABgzz3BPwAAAODANrw/AAAAQE0ztT8AAAAANk+rPwAAAMAt5pY/AAAAAMcIhL8AAACAmgCmvwAAAODlxbO/AAAA4IDYvL8AAACA7x7DvwAAAICI+se/AAAAQM74zL8AAACgqwXRvwAAAEAxjdO/AAAAYDUC1r8AAAAAd0/YvwAAAIA3XNq/AAAAoNMN3L8AAADA2EndvwAAAKBn+N2/AAAAgKMG3r8AAADA22jdvwAAAGAjHNy/AAAAgBMn2r8AAABAipnXvwAAAMBhi9S/AAAAgEYa0b8AAACAeM3KvwAAAKBoIsO/AAAAgO3btr8AAAAAQf6evwAAAACGMps/AAAAAOmhtD8AAADAiNnAPwAAAACHAsc/AAAAIGHSzD8AAABg6CbRPwAAAKA6udM/AAAAgFIZ1j8AAACAjTnYPwAAAEB4Bdo/AAAAQPti2z8AAAAApTTcPwAAACCgXNw/AAAAQDfA2z8AAAAAQUvaPwAAAMAi89c/AAAAYAS51D8AAAAA9qrQPwAAAGDPx8c/AAAAALwpuj8AAAAAFNCJPwAAAACtZrS/AAAAIHvqxb8AAABAkYzQvwAAAIDjrNW/AAAAgHsr2r8AAAAATujdvwAAAMChZ+C/AAAAAHNs4b8AAACg5gTivwAAAGCWOOK/AAAAIFET4r8AAABAyaPhvwAAAMAt+uC/AAAAYNcm4L8AAACgTnLevwAAAMBffdy/AAAAwGSF2r8AAADg2pvYvwAAAKBizda/AAAAQEki1b8AAABAM5/TvwAAAED3RdK/AAAAoDoW0b8AAAAAAA7QvwAAAAAfVM6/AAAAIJXMzL8AAABA/XvLvw==\"},\"shape\":[500],\"dtype\":\"float64\",\"order\":\"little\"}]]}}},\"view\":{\"type\":\"object\",\"name\":\"CDSView\",\"id\":\"p5570\",\"attributes\":{\"filter\":{\"type\":\"object\",\"name\":\"AllIndices\",\"id\":\"p5571\"}}},\"glyph\":{\"type\":\"object\",\"name\":\"Line\",\"id\":\"p5566\",\"attributes\":{\"tags\":[\"apply_ranges\"],\"x\":{\"type\":\"field\",\"field\":\"t\"},\"y\":{\"type\":\"field\",\"field\":\"\\u03be\"},\"line_color\":\"#adadad\",\"line_width\":2}},\"selection_glyph\":{\"type\":\"object\",\"name\":\"Line\",\"id\":\"p5572\",\"attributes\":{\"tags\":[\"apply_ranges\"],\"x\":{\"type\":\"field\",\"field\":\"t\"},\"y\":{\"type\":\"field\",\"field\":\"\\u03be\"},\"line_color\":\"#adadad\",\"line_width\":2}},\"nonselection_glyph\":{\"type\":\"object\",\"name\":\"Line\",\"id\":\"p5567\",\"attributes\":{\"tags\":[\"apply_ranges\"],\"x\":{\"type\":\"field\",\"field\":\"t\"},\"y\":{\"type\":\"field\",\"field\":\"\\u03be\"},\"line_color\":\"#adadad\",\"line_alpha\":0.1,\"line_width\":2}},\"muted_glyph\":{\"type\":\"object\",\"name\":\"Line\",\"id\":\"p5568\",\"attributes\":{\"tags\":[\"apply_ranges\"],\"x\":{\"type\":\"field\",\"field\":\"t\"},\"y\":{\"type\":\"field\",\"field\":\"\\u03be\"},\"line_color\":\"#adadad\",\"line_alpha\":0.2,\"line_width\":2}}}}],\"toolbar\":{\"type\":\"object\",\"name\":\"Toolbar\",\"id\":\"p5422\",\"attributes\":{\"tools\":[{\"type\":\"object\",\"name\":\"SaveTool\",\"id\":\"p5435\"},{\"id\":\"p5436\"},{\"id\":\"p5437\"},{\"id\":\"p5438\"},{\"id\":\"p5440\"}],\"active_drag\":{\"id\":\"p5436\"},\"active_scroll\":{\"id\":\"p5437\"}}},\"toolbar_location\":null,\"left\":[{\"type\":\"object\",\"name\":\"LinearAxis\",\"id\":\"p5430\",\"attributes\":{\"ticker\":{\"type\":\"object\",\"name\":\"BasicTicker\",\"id\":\"p5431\",\"attributes\":{\"mantissas\":[1,2,5]}},\"formatter\":{\"type\":\"object\",\"name\":\"BasicTickFormatter\",\"id\":\"p5432\"},\"axis_label\":\"\\u03be\",\"major_label_policy\":{\"type\":\"object\",\"name\":\"AllLabels\",\"id\":\"p5433\"}}}],\"below\":[{\"type\":\"object\",\"name\":\"LinearAxis\",\"id\":\"p5425\",\"attributes\":{\"ticker\":{\"type\":\"object\",\"name\":\"BasicTicker\",\"id\":\"p5426\",\"attributes\":{\"mantissas\":[1,2,5]}},\"formatter\":{\"type\":\"object\",\"name\":\"BasicTickFormatter\",\"id\":\"p5427\"},\"axis_label\":\"time (ms)\",\"major_label_policy\":{\"type\":\"object\",\"name\":\"AllLabels\",\"id\":\"p5428\"}}}],\"center\":[{\"type\":\"object\",\"name\":\"Grid\",\"id\":\"p5429\",\"attributes\":{\"axis\":{\"id\":\"p5425\"},\"grid_line_color\":null}},{\"type\":\"object\",\"name\":\"Grid\",\"id\":\"p5434\",\"attributes\":{\"dimension\":1,\"axis\":{\"id\":\"p5430\"},\"grid_line_color\":null}},{\"type\":\"object\",\"name\":\"Legend\",\"id\":\"p5453\",\"attributes\":{\"items\":[]}}],\"min_border_top\":10,\"min_border_bottom\":10,\"min_border_left\":10,\"min_border_right\":10,\"output_backend\":\"webgl\"}},1,0]]}},{\"type\":\"object\",\"name\":\"Spacer\",\"id\":\"p5588\",\"attributes\":{\"name\":\"HSpacer842884\",\"stylesheets\":[\"\\n:host(.pn-loading.pn-arc):before, .pn-loading.pn-arc:before {\\n  background-image: url(\\\"data:image/svg+xml;base64,PHN2ZyB4bWxucz0iaHR0cDovL3d3dy53My5vcmcvMjAwMC9zdmciIHN0eWxlPSJtYXJnaW46IGF1dG87IGJhY2tncm91bmQ6IG5vbmU7IGRpc3BsYXk6IGJsb2NrOyBzaGFwZS1yZW5kZXJpbmc6IGF1dG87IiB2aWV3Qm94PSIwIDAgMTAwIDEwMCIgcHJlc2VydmVBc3BlY3RSYXRpbz0ieE1pZFlNaWQiPiAgPGNpcmNsZSBjeD0iNTAiIGN5PSI1MCIgZmlsbD0ibm9uZSIgc3Ryb2tlPSIjYzNjM2MzIiBzdHJva2Utd2lkdGg9IjEwIiByPSIzNSIgc3Ryb2tlLWRhc2hhcnJheT0iMTY0LjkzMzYxNDMxMzQ2NDE1IDU2Ljk3Nzg3MTQzNzgyMTM4Ij4gICAgPGFuaW1hdGVUcmFuc2Zvcm0gYXR0cmlidXRlTmFtZT0idHJhbnNmb3JtIiB0eXBlPSJyb3RhdGUiIHJlcGVhdENvdW50PSJpbmRlZmluaXRlIiBkdXI9IjFzIiB2YWx1ZXM9IjAgNTAgNTA7MzYwIDUwIDUwIiBrZXlUaW1lcz0iMDsxIj48L2FuaW1hdGVUcmFuc2Zvcm0+ICA8L2NpcmNsZT48L3N2Zz4=\\\");\\n  background-size: auto calc(min(50%, 400px));\\n}\",{\"id\":\"p5219\"},{\"id\":\"p5217\"},{\"id\":\"p5218\"}],\"margin\":0,\"sizing_mode\":\"stretch_width\",\"align\":\"start\"}}]}}],\"defs\":[{\"type\":\"model\",\"name\":\"ReactiveHTML1\"},{\"type\":\"model\",\"name\":\"FlexBox1\",\"properties\":[{\"name\":\"align_content\",\"kind\":\"Any\",\"default\":\"flex-start\"},{\"name\":\"align_items\",\"kind\":\"Any\",\"default\":\"flex-start\"},{\"name\":\"flex_direction\",\"kind\":\"Any\",\"default\":\"row\"},{\"name\":\"flex_wrap\",\"kind\":\"Any\",\"default\":\"wrap\"},{\"name\":\"justify_content\",\"kind\":\"Any\",\"default\":\"flex-start\"}]},{\"type\":\"model\",\"name\":\"FloatPanel1\",\"properties\":[{\"name\":\"config\",\"kind\":\"Any\",\"default\":{\"type\":\"map\"}},{\"name\":\"contained\",\"kind\":\"Any\",\"default\":true},{\"name\":\"position\",\"kind\":\"Any\",\"default\":\"right-top\"},{\"name\":\"offsetx\",\"kind\":\"Any\",\"default\":null},{\"name\":\"offsety\",\"kind\":\"Any\",\"default\":null},{\"name\":\"theme\",\"kind\":\"Any\",\"default\":\"primary\"},{\"name\":\"status\",\"kind\":\"Any\",\"default\":\"normalized\"}]},{\"type\":\"model\",\"name\":\"GridStack1\",\"properties\":[{\"name\":\"mode\",\"kind\":\"Any\",\"default\":\"warn\"},{\"name\":\"ncols\",\"kind\":\"Any\",\"default\":null},{\"name\":\"nrows\",\"kind\":\"Any\",\"default\":null},{\"name\":\"allow_resize\",\"kind\":\"Any\",\"default\":true},{\"name\":\"allow_drag\",\"kind\":\"Any\",\"default\":true},{\"name\":\"state\",\"kind\":\"Any\",\"default\":[]}]},{\"type\":\"model\",\"name\":\"drag1\",\"properties\":[{\"name\":\"slider_width\",\"kind\":\"Any\",\"default\":5},{\"name\":\"slider_color\",\"kind\":\"Any\",\"default\":\"black\"},{\"name\":\"value\",\"kind\":\"Any\",\"default\":50}]},{\"type\":\"model\",\"name\":\"click1\",\"properties\":[{\"name\":\"terminal_output\",\"kind\":\"Any\",\"default\":\"\"},{\"name\":\"debug_name\",\"kind\":\"Any\",\"default\":\"\"},{\"name\":\"clears\",\"kind\":\"Any\",\"default\":0}]},{\"type\":\"model\",\"name\":\"FastWrapper1\",\"properties\":[{\"name\":\"object\",\"kind\":\"Any\",\"default\":null},{\"name\":\"style\",\"kind\":\"Any\",\"default\":null}]},{\"type\":\"model\",\"name\":\"NotificationAreaBase1\",\"properties\":[{\"name\":\"position\",\"kind\":\"Any\",\"default\":\"bottom-right\"},{\"name\":\"_clear\",\"kind\":\"Any\",\"default\":0}]},{\"type\":\"model\",\"name\":\"NotificationArea1\",\"properties\":[{\"name\":\"notifications\",\"kind\":\"Any\",\"default\":[]},{\"name\":\"position\",\"kind\":\"Any\",\"default\":\"bottom-right\"},{\"name\":\"_clear\",\"kind\":\"Any\",\"default\":0},{\"name\":\"types\",\"kind\":\"Any\",\"default\":[{\"type\":\"map\",\"entries\":[[\"type\",\"warning\"],[\"background\",\"#ffc107\"],[\"icon\",{\"type\":\"map\",\"entries\":[[\"className\",\"fas fa-exclamation-triangle\"],[\"tagName\",\"i\"],[\"color\",\"white\"]]}]]},{\"type\":\"map\",\"entries\":[[\"type\",\"info\"],[\"background\",\"#007bff\"],[\"icon\",{\"type\":\"map\",\"entries\":[[\"className\",\"fas fa-info-circle\"],[\"tagName\",\"i\"],[\"color\",\"white\"]]}]]}]}]},{\"type\":\"model\",\"name\":\"Notification\",\"properties\":[{\"name\":\"background\",\"kind\":\"Any\",\"default\":null},{\"name\":\"duration\",\"kind\":\"Any\",\"default\":3000},{\"name\":\"icon\",\"kind\":\"Any\",\"default\":null},{\"name\":\"message\",\"kind\":\"Any\",\"default\":\"\"},{\"name\":\"notification_type\",\"kind\":\"Any\",\"default\":null},{\"name\":\"_destroyed\",\"kind\":\"Any\",\"default\":false}]},{\"type\":\"model\",\"name\":\"TemplateActions1\",\"properties\":[{\"name\":\"open_modal\",\"kind\":\"Any\",\"default\":0},{\"name\":\"close_modal\",\"kind\":\"Any\",\"default\":0}]},{\"type\":\"model\",\"name\":\"BootstrapTemplateActions1\",\"properties\":[{\"name\":\"open_modal\",\"kind\":\"Any\",\"default\":0},{\"name\":\"close_modal\",\"kind\":\"Any\",\"default\":0}]},{\"type\":\"model\",\"name\":\"MaterialTemplateActions1\",\"properties\":[{\"name\":\"open_modal\",\"kind\":\"Any\",\"default\":0},{\"name\":\"close_modal\",\"kind\":\"Any\",\"default\":0}]}]}};\n",
       "  var render_items = [{\"docid\":\"bd5c0967-3c01-451b-a7fc-7ed01ad3a2c1\",\"roots\":{\"p5216\":\"e6318eec-0f65-4c0f-92ec-1641b106996c\"},\"root_ids\":[\"p5216\"]}];\n",
       "  var docs = Object.values(docs_json)\n",
       "  if (!docs) {\n",
       "    return\n",
       "  }\n",
       "  const py_version = docs[0].version.replace('rc', '-rc.').replace('.dev', '-dev.')\n",
       "  const is_dev = py_version.indexOf(\"+\") !== -1 || py_version.indexOf(\"-\") !== -1\n",
       "  function embed_document(root) {\n",
       "    var Bokeh = get_bokeh(root)\n",
       "    Bokeh.embed.embed_items_notebook(docs_json, render_items);\n",
       "    for (const render_item of render_items) {\n",
       "      for (const root_id of render_item.root_ids) {\n",
       "\tconst id_el = document.getElementById(root_id)\n",
       "\tif (id_el.children.length && (id_el.children[0].className === 'bk-root')) {\n",
       "\t  const root_el = id_el.children[0]\n",
       "\t  root_el.id = root_el.id + '-rendered'\n",
       "\t}\n",
       "      }\n",
       "    }\n",
       "  }\n",
       "  function get_bokeh(root) {\n",
       "    if (root.Bokeh === undefined) {\n",
       "      return null\n",
       "    } else if (root.Bokeh.version !== py_version && !is_dev) {\n",
       "      if (root.Bokeh.versions === undefined || !root.Bokeh.versions.has(py_version)) {\n",
       "\treturn null\n",
       "      }\n",
       "      return root.Bokeh.versions.get(py_version);\n",
       "    } else if (root.Bokeh.version === py_version) {\n",
       "      return root.Bokeh\n",
       "    }\n",
       "    return null\n",
       "  }\n",
       "  function is_loaded(root) {\n",
       "    var Bokeh = get_bokeh(root)\n",
       "    return (Bokeh != null && Bokeh.Panel !== undefined)\n",
       "  }\n",
       "  if (is_loaded(root)) {\n",
       "    embed_document(root);\n",
       "  } else {\n",
       "    var attempts = 0;\n",
       "    var timer = setInterval(function(root) {\n",
       "      if (is_loaded(root)) {\n",
       "        clearInterval(timer);\n",
       "        embed_document(root);\n",
       "      } else if (document.readyState == \"complete\") {\n",
       "        attempts++;\n",
       "        if (attempts > 200) {\n",
       "          clearInterval(timer);\n",
       "\t  var Bokeh = get_bokeh(root)\n",
       "\t  if (Bokeh == null || Bokeh.Panel == null) {\n",
       "            console.warn(\"Panel: ERROR: Unable to run Panel code because Bokeh or Panel library is missing\");\n",
       "\t  } else {\n",
       "\t    console.warn(\"Panel: WARNING: Attempting to render but not all required libraries could be resolved.\")\n",
       "\t    embed_document(root)\n",
       "\t  }\n",
       "        }\n",
       "      }\n",
       "    }, 25, root)\n",
       "  }\n",
       "})(window);</script>"
      ],
      "text/plain": [
       ":Layout\n",
       "   .HoloMap.I                  :HoloMap   [T,σ,τ,ρ,N]\n",
       "      :Overlay\n",
       "         .Curve.Single_realization.I                                       :Curve   [Δt]   (ξ2)\n",
       "         .Curve.Single_realization.II                                      :Curve   [Δt]   (ξ2)\n",
       "         .Curve.Single_realization.III                                     :Curve   [Δt]   (ξ2)\n",
       "         .Curve.Single_realization.IV                                      :Curve   [Δt]   (ξ2)\n",
       "         .Curve.Single_realization.V                                       :Curve   [Δt]   (ξ2)\n",
       "         .Curve.Single_realization.VI                                      :Curve   [Δt]   (ξ2)\n",
       "         .Curve.Single_realization.VII                                     :Curve   [Δt]   (ξ2)\n",
       "         .Curve.Single_realization.VIII                                    :Curve   [Δt]   (ξ2)\n",
       "         .Curve.Single_realization.IX                                      :Curve   [Δt]   (ξ2)\n",
       "         .Curve.Single_realization.X                                       :Curve   [Δt]   (ξ2)\n",
       "         .Curve.Average_left_parenthesis_20_realizations_right_parenthesis :Curve   [Δt]   (ξ2)\n",
       "         .Curve.Theoretical                                                :Curve   [Δt]   (ξ2)\n",
       "   .HoloMap.Single_realization :HoloMap   [T,σ,τ,ρ,N]\n",
       "      :Overlay\n",
       "         .Curve.Single_realization.I    :Curve   [t]   (ξ)\n",
       "         .Curve.Single_realization.II   :Curve   [t]   (ξ)\n",
       "         .Curve.Single_realization.III  :Curve   [t]   (ξ)\n",
       "         .Curve.Single_realization.IV   :Curve   [t]   (ξ)\n",
       "         .Curve.Single_realization.V    :Curve   [t]   (ξ)\n",
       "         .Curve.Single_realization.VI   :Curve   [t]   (ξ)\n",
       "         .Curve.Single_realization.VII  :Curve   [t]   (ξ)\n",
       "         .Curve.Single_realization.VIII :Curve   [t]   (ξ)\n",
       "         .Curve.Single_realization.IX   :Curve   [t]   (ξ)\n",
       "         .Curve.Single_realization.X    :Curve   [t]   (ξ)"
      ]
     },
     "execution_count": 37,
     "metadata": {
      "application/vnd.holoviews_exec.v0+json": {
       "id": "p5216"
      }
     },
     "output_type": "execute_result"
    }
   ],
   "source": [
    "hmap_autocorr = hv.HoloMap(frames_autocorr, kdims=[dims.T, dims.σ, dims.τ, dims.ρ, dims.N])\n",
    "hmap_realizations = hv.HoloMap(frames_realizations, kdims=[dims.T, dims.σ, dims.τ, dims.ρ, dims.N])\n",
    "fig = hmap_autocorr + hmap_realizations\n",
    "fig.opts(\n",
    "    hv.opts.Layout(title=\"\"),\n",
    "    hv.opts.Curve(framewise=True, width=500),\n",
    "    hv.opts.Overlay(legend_position=\"top\")\n",
    ")\n",
    "fig.cols(1)"
   ]
  },
  {
   "cell_type": "markdown",
   "id": "a75c7469-6c5b-4c8a-8ce0-32b79062189d",
   "metadata": {
    "editable": true,
    "slideshow": {
     "slide_type": ""
    },
    "tags": []
   },
   "source": [
    "## Usage examples"
   ]
  },
  {
   "cell_type": "markdown",
   "id": "3d9255c0-d6b2-4948-a7cc-bde056df4023",
   "metadata": {
    "editable": true,
    "slideshow": {
     "slide_type": ""
    },
    "tags": []
   },
   "source": [
    "Scale with units"
   ]
  },
  {
   "cell_type": "code",
   "execution_count": 7,
   "id": "8436aa8d-6b82-4c9c-b9ac-61a68f91b58f",
   "metadata": {
    "editable": true,
    "slideshow": {
     "slide_type": ""
    },
    "tags": [
     "active-ipynb"
    ]
   },
   "outputs": [
    {
     "name": "stderr",
     "output_type": "stream",
     "text": [
      "No GPU/TPU found, falling back to CPU. (Set TF_CPP_MIN_LOG_LEVEL=0 and rerun for more info.)\n"
     ]
    },
    {
     "data": {
      "text/html": [
       "0.7877495884895325 mV"
      ],
      "text/latex": [
       "$0.7877495884895325\\ \\mathrm{mV}$"
      ],
      "text/plain": [
       "Array(0.7877496, dtype=float32) <Unit('millivolt')>"
      ]
     },
     "execution_count": 7,
     "metadata": {},
     "output_type": "execute_result"
    }
   ],
   "source": [
    "noise = ColoredNoise(t_min    = 0. *ureg.ms,\n",
    "                     t_max    =10. *ureg.ms,\n",
    "                     corr_time= 1. *ureg.ms,\n",
    "                     scale    = 2.2*ureg.mV,\n",
    "                     impulse_density=30,\n",
    "                     rng=1337)\n",
    "assert noise.Nbins == 10\n",
    "expected_bin_edges = np.array([-5., -4., -3., -2., -1.,  0.,  1.,  2.,  3.,  4.,  5., \n",
    "                               6.,  7., 8.,  9., 10., 11., 12., 13., 14., 15.])*ureg.ms\n",
    "assert np.allclose(noise.bin_edges, expected_bin_edges)\n",
    "noise(1.)"
   ]
  },
  {
   "cell_type": "markdown",
   "id": "a4b719b0-f3f0-443c-9af7-1ad9d3149c25",
   "metadata": {
    "editable": true,
    "slideshow": {
     "slide_type": ""
    },
    "tags": []
   },
   "source": [
    "Scalar output"
   ]
  },
  {
   "cell_type": "code",
   "execution_count": 8,
   "id": "5e059530-3dc5-4b21-9361-5d223224b46d",
   "metadata": {
    "editable": true,
    "slideshow": {
     "slide_type": ""
    },
    "tags": [
     "active-ipynb"
    ]
   },
   "outputs": [
    {
     "data": {
      "text/plain": [
       "2.2658672"
      ]
     },
     "execution_count": 8,
     "metadata": {},
     "output_type": "execute_result"
    }
   ],
   "source": [
    "noise = ColoredNoise(t_min    =   0. *ureg.ms,\n",
    "                     t_max    =1000. *ureg.ms,\n",
    "                     corr_time=   1. *ureg.ms,\n",
    "                     scale    =   2.2,\n",
    "                     impulse_density=30)\n",
    "ξ = np.array([noise(t) for t in np.linspace(noise.t_min, noise.t_max, 1000)])\n",
    "ξ.std(axis=0)"
   ]
  },
  {
   "cell_type": "markdown",
   "id": "fe54d817-e678-4d09-a652-622f9bddc42b",
   "metadata": {
    "editable": true,
    "slideshow": {
     "slide_type": ""
    },
    "tags": []
   },
   "source": [
    "1d output"
   ]
  },
  {
   "cell_type": "code",
   "execution_count": 9,
   "id": "9738e9a3-f73a-42fe-85e3-149a69cfdbea",
   "metadata": {
    "editable": true,
    "slideshow": {
     "slide_type": ""
    },
    "tags": [
     "active-ipynb"
    ]
   },
   "outputs": [
    {
     "data": {
      "text/plain": [
       "array([2.321867 , 1.0800734], dtype=float32)"
      ]
     },
     "execution_count": 9,
     "metadata": {},
     "output_type": "execute_result"
    }
   ],
   "source": [
    "noise = ColoredNoise(t_min    =   0. *ureg.ms,\n",
    "                     t_max    =1000. *ureg.ms,\n",
    "                     corr_time=   1. *ureg.ms,\n",
    "                     scale    =np.array([2.2, 1.1]),\n",
    "                     impulse_density=30)\n",
    "ξ = np.array([noise(t) for t in np.linspace(noise.t_min, noise.t_max, 1000)])\n",
    "ξ.std(axis=0)"
   ]
  },
  {
   "cell_type": "markdown",
   "id": "20eed884-5c9e-499f-abba-813e00323dab",
   "metadata": {
    "editable": true,
    "slideshow": {
     "slide_type": ""
    },
    "tags": []
   },
   "source": [
    "2d output"
   ]
  },
  {
   "cell_type": "code",
   "execution_count": 10,
   "id": "8067a15a-1ebd-47ef-af6b-0f82d25174db",
   "metadata": {
    "editable": true,
    "slideshow": {
     "slide_type": ""
    },
    "tags": [
     "active-ipynb"
    ]
   },
   "outputs": [
    {
     "data": {
      "text/plain": [
       "array([[2.1003764, 1.1283748],\n",
       "       [3.256555 , 4.519454 ]], dtype=float32)"
      ]
     },
     "execution_count": 10,
     "metadata": {},
     "output_type": "execute_result"
    }
   ],
   "source": [
    "noise = ColoredNoise(t_min    =   0. *ureg.ms,\n",
    "                     t_max    =1000. *ureg.ms,\n",
    "                     corr_time=   1. *ureg.ms,\n",
    "                     scale    =[[2.2, 1.1],\n",
    "                                [3.3, 4.4]],\n",
    "                     impulse_density=30)\n",
    "ξ = np.array([noise(t) for t in np.linspace(noise.t_min, noise.t_max, 1000)])\n",
    "ξ.std(axis=0)"
   ]
  },
  {
   "cell_type": "markdown",
   "id": "d9c7dc43-eed5-43e6-9d49-b218fd4399b9",
   "metadata": {
    "editable": true,
    "slideshow": {
     "slide_type": ""
    },
    "tags": [
     "remove-cell"
    ]
   },
   "source": [
    "## Serialization"
   ]
  },
  {
   "cell_type": "code",
   "execution_count": 28,
   "id": "7d72e9b3-4a80-437d-a284-72a494279cb7",
   "metadata": {
    "editable": true,
    "slideshow": {
     "slide_type": ""
    },
    "tags": [
     "skip-execution",
     "remove-cell",
     "active-ipynb"
    ]
   },
   "outputs": [],
   "source": [
    "from scityping.pydantic import BaseModel"
   ]
  },
  {
   "cell_type": "code",
   "execution_count": 39,
   "id": "ed8b8966-8c71-4fa1-ad57-01917a6f0405",
   "metadata": {
    "editable": true,
    "slideshow": {
     "slide_type": ""
    },
    "tags": [
     "skip-execution",
     "remove-cell",
     "active-ipynb"
    ]
   },
   "outputs": [],
   "source": [
    "noise = ColoredNoise(t_min    =   0. *ureg.ms,\n",
    "                     t_max    =1000. *ureg.ms,\n",
    "                     corr_time=   1. *ureg.ms,\n",
    "                     scale    =np.array([2.2, 1.1]),\n",
    "                     impulse_density=30)"
   ]
  },
  {
   "cell_type": "code",
   "execution_count": 40,
   "id": "68becf63-d7ff-43e7-9316-96747c5ea255",
   "metadata": {
    "editable": true,
    "slideshow": {
     "slide_type": ""
    },
    "tags": [
     "skip-execution",
     "remove-cell",
     "active-ipynb"
    ]
   },
   "outputs": [
    {
     "data": {
      "text/plain": [
       "('__main__.ColoredNoise',\n",
       " {'t_min': 0.0 <Unit('millisecond')>,\n",
       "  't_max': 1000.0 <Unit('millisecond')>,\n",
       "  'corr_time': 1.0 <Unit('millisecond')>,\n",
       "  'scale': array([2.2, 1.1], dtype=float32),\n",
       "  'impulse_density': 30,\n",
       "  'rng': Generator(PCG64) at 0x7FFA3944ADC0})"
      ]
     },
     "execution_count": 40,
     "metadata": {},
     "output_type": "execute_result"
    }
   ],
   "source": [
    "data = Serializable.deep_reduce(noise)\n",
    "data"
   ]
  },
  {
   "cell_type": "code",
   "execution_count": 41,
   "id": "d1f7d8f3-9e41-4c3c-91ad-8f5283d3daa6",
   "metadata": {
    "editable": true,
    "slideshow": {
     "slide_type": ""
    },
    "tags": [
     "skip-execution",
     "remove-cell",
     "active-ipynb"
    ]
   },
   "outputs": [
    {
     "data": {
      "text/plain": [
       "<__main__.ColoredNoise at 0x7ffa3a08a500>"
      ]
     },
     "execution_count": 41,
     "metadata": {},
     "output_type": "execute_result"
    }
   ],
   "source": [
    "noise2 = Serializable.validate(data)\n",
    "noise2"
   ]
  },
  {
   "cell_type": "code",
   "execution_count": 46,
   "id": "a7d6ca43-7aab-4e6c-9de4-64becb4747b6",
   "metadata": {
    "editable": true,
    "slideshow": {
     "slide_type": ""
    },
    "tags": [
     "skip-execution",
     "remove-cell",
     "active-ipynb"
    ]
   },
   "outputs": [],
   "source": [
    "tarr = np.linspace(0, 1, 5)\n",
    "assert np.array_equal([noise(t) for t in tarr],\n",
    "                      [noise2(t) for t in tarr])"
   ]
  },
  {
   "cell_type": "code",
   "execution_count": 48,
   "id": "da1646f2-db03-4626-9773-3536ffdda422",
   "metadata": {
    "editable": true,
    "slideshow": {
     "slide_type": ""
    },
    "tags": [
     "skip-execution",
     "remove-cell",
     "active-ipynb"
    ]
   },
   "outputs": [],
   "source": [
    "class Foo(BaseModel):\n",
    "    noise: ColoredNoise"
   ]
  },
  {
   "cell_type": "code",
   "execution_count": 49,
   "id": "7e4b8aae-ef2f-4311-b60f-ded2739dca19",
   "metadata": {
    "editable": true,
    "slideshow": {
     "slide_type": ""
    },
    "tags": [
     "skip-execution",
     "remove-cell",
     "active-ipynb"
    ]
   },
   "outputs": [
    {
     "data": {
      "text/plain": [
       "'{\"noise\": [\"__main__.ColoredNoise\", {\"t_min\": [\"scityping.pint.PintQuantity\", {\"data\": [0.0, [[\"millisecond\", 1]]]}], \"t_max\": [\"scityping.pint.PintQuantity\", {\"data\": [1000.0, [[\"millisecond\", 1]]]}], \"corr_time\": [\"scityping.pint.PintQuantity\", {\"data\": [1.0, [[\"millisecond\", 1]]]}], \"scale\": [\"scityping.numpy._ArrayType\", {\"data\": [\"scityping.numpy.ListArrayData\", [[\"scityping.base_types.Type\", {\"module\": \"scityping.numpy\", \"name\": \"ListArrayData\"}], {\"data\": [2.200000047683716, 1.100000023841858], \"dtype\": [\"scityping.numpy.DType\", {\"desc\": \"float32\"}]}]]}], \"impulse_density\": 30, \"rng\": [\"scityping.numpy.RNGenerator\", {\"bit_generator\": \"PCG64\", \"state\": {\"state\": 286938187503198264467393134251961565734, \"inc\": 67261109567213725899501683492449459991}, \"has_uint32\": 0, \"uinteger\": 0, \"buffer\": null, \"buffer_pos\": null}]}]}'"
      ]
     },
     "execution_count": 49,
     "metadata": {},
     "output_type": "execute_result"
    }
   ],
   "source": [
    "foo = Foo(noise=noise)\n",
    "foo.json()"
   ]
  },
  {
   "cell_type": "code",
   "execution_count": 50,
   "id": "0dfae500-97c3-477f-bb92-47faa7160450",
   "metadata": {
    "editable": true,
    "slideshow": {
     "slide_type": ""
    },
    "tags": [
     "skip-execution",
     "remove-cell",
     "active-ipynb"
    ]
   },
   "outputs": [],
   "source": [
    "foo2 = foo.parse_raw(foo.json())"
   ]
  },
  {
   "cell_type": "code",
   "execution_count": 51,
   "id": "2b4f3d78-904b-4ccf-84e0-b8cacc164c30",
   "metadata": {
    "editable": true,
    "slideshow": {
     "slide_type": ""
    },
    "tags": [
     "skip-execution",
     "remove-cell",
     "active-ipynb"
    ]
   },
   "outputs": [],
   "source": [
    "assert np.array_equal([foo.noise(t) for t in tarr],\n",
    "                      [foo2.noise(t) for t in tarr])"
   ]
  }
 ],
 "metadata": {
  "jupytext": {
   "formats": "ipynb,py:percent"
  },
  "kernelspec": {
   "display_name": "Python (emd-paper)",
   "language": "python",
   "name": "emd-paper"
  },
  "language_info": {
   "codemirror_mode": {
    "name": "ipython",
    "version": 3
   },
   "file_extension": ".py",
   "mimetype": "text/x-python",
   "name": "python",
   "nbconvert_exporter": "python",
   "pygments_lexer": "ipython3",
   "version": "3.10.13"
  }
 },
 "nbformat": 4,
 "nbformat_minor": 5
}
